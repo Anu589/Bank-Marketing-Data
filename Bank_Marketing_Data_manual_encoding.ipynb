{
  "nbformat": 4,
  "nbformat_minor": 0,
  "metadata": {
    "colab": {
      "provenance": [],
      "authorship_tag": "ABX9TyOyS/ix9Q/D9vO09788NXmr",
      "include_colab_link": true
    },
    "kernelspec": {
      "name": "python3",
      "display_name": "Python 3"
    },
    "language_info": {
      "name": "python"
    }
  },
  "cells": [
    {
      "cell_type": "markdown",
      "metadata": {
        "id": "view-in-github",
        "colab_type": "text"
      },
      "source": [
        "<a href=\"https://colab.research.google.com/github/Anu589/Bank-Marketing-Data/blob/main/Bank_Marketing_Data_manual_encoding.ipynb\" target=\"_parent\"><img src=\"https://colab.research.google.com/assets/colab-badge.svg\" alt=\"Open In Colab\"/></a>"
      ]
    },
    {
      "cell_type": "markdown",
      "source": [
        "<h1 align=\"center\"><b>Classifying the Bank Marketing Data Set Using Decision Tree and Naive Bayes Classifiers</b></h1>\n",
        "<h6 align=\"center\">The classification goal is to predict if the client will subscribe a term deposit.<h6 align=\"center\">\n",
        "<h3 align=\"center\"><b>Name: Anushka Chakraborty</b></h2>\n",
        "<h3 align=\"center\"><b>Roll No: MDS202408</b></h2>\n"
      ],
      "metadata": {
        "id": "tNUpIGWX7oS0"
      }
    },
    {
      "cell_type": "markdown",
      "source": [
        "## 1. **Introduction**\n",
        "\n",
        "This script implements machine learning models to predict the outcome of a bank marketing campaign. It applies Decision Tree (Gini and Entropy) and Naive Bayes classifiers to the dataset bank-additional-full.csv."
      ],
      "metadata": {
        "id": "7JfGiL1O7sMW"
      }
    },
    {
      "cell_type": "code",
      "source": [
        "import sys\n",
        "assert sys.version_info >= (3, 7)\n",
        "from pathlib import Path\n",
        "import time\n",
        "import tracemalloc\n",
        "from packaging import version"
      ],
      "metadata": {
        "id": "jmqrCaGdIxGc"
      },
      "execution_count": 600,
      "outputs": []
    },
    {
      "cell_type": "markdown",
      "source": [
        "## 2. **Data Handling and Preprocessing**\n",
        "\n",
        "- `pandas`: Data manipulation and analysis.\n",
        "- `matplotlib.pyplot`: Visualization library.\n",
        "- `seaborn`: Statistical data visualization built on `matplotlib`.\n",
        "- `sklearn`: Machine learning library (version check enforced)."
      ],
      "metadata": {
        "id": "yFc_Pka87Xi2"
      }
    },
    {
      "cell_type": "code",
      "source": [
        "import pandas as pd\n",
        "import matplotlib.pyplot as plt\n",
        "import seaborn as sns\n",
        "import sklearn"
      ],
      "metadata": {
        "id": "HxbAq118Inyo"
      },
      "execution_count": 601,
      "outputs": []
    },
    {
      "cell_type": "code",
      "source": [
        "assert version.parse(sklearn.__version__) >= version.parse(\"1.0.1\")"
      ],
      "metadata": {
        "id": "t8N00eEe3p6P"
      },
      "execution_count": 602,
      "outputs": []
    },
    {
      "cell_type": "markdown",
      "source": [
        "These settings ensure that all plots have a uniform and professional appearance.\n",
        "\n",
        "Functions Used:\n",
        "- `plt.rc('font', size=14)`: Sets the default font size.\n",
        "- `plt.rc('axes', labelsize=14, titlesize=14)`: Adjusts axes labels and title sizes.\n",
        "- `plt.rc('legend', fontsize=14)`: Configures legend font size.\n",
        "- `plt.rc('xtick', labelsize=10)`: Sets x-axis tick label size.\n",
        "- `plt.rc('ytick', labelsize=10)`: Sets y-axis tick label size.\n"
      ],
      "metadata": {
        "id": "WL-79TwC79id"
      }
    },
    {
      "cell_type": "code",
      "source": [
        "plt.rc('font', size=14)\n",
        "plt.rc('axes', labelsize=14, titlesize=14)\n",
        "plt.rc('legend', fontsize=14)\n",
        "plt.rc('xtick', labelsize=10)\n",
        "plt.rc('ytick', labelsize=10)"
      ],
      "metadata": {
        "id": "Sk1zHylnIuKb"
      },
      "execution_count": 603,
      "outputs": []
    },
    {
      "cell_type": "markdown",
      "source": [
        "Function:\n",
        "- `save_fig(fig_id, tight_layout=True, fig_extension=\"png\", resolution=300)`:  \n",
        "- Saves a Matplotlib figure with the given parameters.\n",
        "  - `fig_id` (str): Filename for the saved figure.\n",
        "  - `tight_layout` (bool): If `True`, applies `plt.tight_layout()` for better spacing.\n",
        "  - `fig_extension` (str): File format (default: `\"png\"`).\n",
        "  - `resolution` (int): DPI resolution for the saved figure (default: `300`).\n",
        "  - Saves the figure in `IMAGES_PATH` using `plt.savefig()`.\n"
      ],
      "metadata": {
        "id": "GLEJjTel8Cos"
      }
    },
    {
      "cell_type": "code",
      "source": [
        "IMAGES_PATH = Path() / \"images bank\" / \"images bank\"\n",
        "IMAGES_PATH.mkdir(parents=True, exist_ok=True)\n",
        "def save_fig(fig_id, tight_layout=True, fig_extension=\"png\", resolution=300):\n",
        " path = IMAGES_PATH / f\"{fig_id}.{fig_extension}\"\n",
        " if tight_layout:\n",
        "  plt.tight_layout()\n",
        " plt.savefig(path, format=fig_extension, dpi=resolution)"
      ],
      "metadata": {
        "id": "dz82lcKiI8vE"
      },
      "execution_count": 604,
      "outputs": []
    },
    {
      "cell_type": "markdown",
      "source": [
        "## 3. **Data Loading and Initial Exploration**\n",
        "- The dataset is loaded from a CSV file.\n",
        "\n"
      ],
      "metadata": {
        "id": "xbm0ZuHh8TH-"
      }
    },
    {
      "cell_type": "code",
      "source": [
        "url = \"/content/bank-additional-full.csv\""
      ],
      "metadata": {
        "id": "JiiSn9iWPWY3"
      },
      "execution_count": 605,
      "outputs": []
    },
    {
      "cell_type": "markdown",
      "source": [
        "- The separator is ; (used in European CSV formats)."
      ],
      "metadata": {
        "id": "a8aXQSis8ZE1"
      }
    },
    {
      "cell_type": "code",
      "source": [
        "df = pd.read_csv(url, sep=\";\")"
      ],
      "metadata": {
        "id": "CKHKz09TPw0w"
      },
      "execution_count": 606,
      "outputs": []
    },
    {
      "cell_type": "markdown",
      "source": [
        "- Displays the first five rows of the dataset."
      ],
      "metadata": {
        "id": "87T4uoAF91RF"
      }
    },
    {
      "cell_type": "code",
      "source": [
        "print(df.head())"
      ],
      "metadata": {
        "colab": {
          "base_uri": "https://localhost:8080/"
        },
        "id": "3I1RKXYtP8zG",
        "outputId": "e6bb2902-81a2-4977-d0b3-6093015017f4"
      },
      "execution_count": 607,
      "outputs": [
        {
          "output_type": "stream",
          "name": "stdout",
          "text": [
            "   age        job  marital    education  default housing loan    contact  \\\n",
            "0   56  housemaid  married     basic.4y       no      no   no  telephone   \n",
            "1   57   services  married  high.school  unknown      no   no  telephone   \n",
            "2   37   services  married  high.school       no     yes   no  telephone   \n",
            "3   40     admin.  married     basic.6y       no      no   no  telephone   \n",
            "4   56   services  married  high.school       no      no  yes  telephone   \n",
            "\n",
            "  month day_of_week  ...  campaign  pdays  previous     poutcome emp.var.rate  \\\n",
            "0   may         mon  ...         1    999         0  nonexistent          1.1   \n",
            "1   may         mon  ...         1    999         0  nonexistent          1.1   \n",
            "2   may         mon  ...         1    999         0  nonexistent          1.1   \n",
            "3   may         mon  ...         1    999         0  nonexistent          1.1   \n",
            "4   may         mon  ...         1    999         0  nonexistent          1.1   \n",
            "\n",
            "   cons.price.idx  cons.conf.idx  euribor3m  nr.employed   y  \n",
            "0          93.994          -36.4      4.857       5191.0  no  \n",
            "1          93.994          -36.4      4.857       5191.0  no  \n",
            "2          93.994          -36.4      4.857       5191.0  no  \n",
            "3          93.994          -36.4      4.857       5191.0  no  \n",
            "4          93.994          -36.4      4.857       5191.0  no  \n",
            "\n",
            "[5 rows x 21 columns]\n"
          ]
        }
      ]
    },
    {
      "cell_type": "markdown",
      "source": [
        "- Shows column names, data types, and missing values."
      ],
      "metadata": {
        "id": "ynG4QuzP93lC"
      }
    },
    {
      "cell_type": "code",
      "source": [
        "print(df.info())"
      ],
      "metadata": {
        "colab": {
          "base_uri": "https://localhost:8080/"
        },
        "id": "D_cTYCFAMPgL",
        "outputId": "2173071b-e709-483a-fb20-8941c0d76ec3"
      },
      "execution_count": 608,
      "outputs": [
        {
          "output_type": "stream",
          "name": "stdout",
          "text": [
            "<class 'pandas.core.frame.DataFrame'>\n",
            "RangeIndex: 41188 entries, 0 to 41187\n",
            "Data columns (total 21 columns):\n",
            " #   Column          Non-Null Count  Dtype  \n",
            "---  ------          --------------  -----  \n",
            " 0   age             41188 non-null  int64  \n",
            " 1   job             41188 non-null  object \n",
            " 2   marital         41188 non-null  object \n",
            " 3   education       41188 non-null  object \n",
            " 4   default         41188 non-null  object \n",
            " 5   housing         41188 non-null  object \n",
            " 6   loan            41188 non-null  object \n",
            " 7   contact         41188 non-null  object \n",
            " 8   month           41188 non-null  object \n",
            " 9   day_of_week     41188 non-null  object \n",
            " 10  duration        41188 non-null  int64  \n",
            " 11  campaign        41188 non-null  int64  \n",
            " 12  pdays           41188 non-null  int64  \n",
            " 13  previous        41188 non-null  int64  \n",
            " 14  poutcome        41188 non-null  object \n",
            " 15  emp.var.rate    41188 non-null  float64\n",
            " 16  cons.price.idx  41188 non-null  float64\n",
            " 17  cons.conf.idx   41188 non-null  float64\n",
            " 18  euribor3m       41188 non-null  float64\n",
            " 19  nr.employed     41188 non-null  float64\n",
            " 20  y               41188 non-null  object \n",
            "dtypes: float64(5), int64(5), object(11)\n",
            "memory usage: 6.6+ MB\n",
            "None\n"
          ]
        }
      ]
    },
    {
      "cell_type": "markdown",
      "source": [
        "- Checking for unique values in object type columns"
      ],
      "metadata": {
        "id": "V8qunqaT7D6c"
      }
    },
    {
      "cell_type": "code",
      "source": [
        "unique_values = df[\"housing\"].unique()\n",
        "print(unique_values)\n"
      ],
      "metadata": {
        "colab": {
          "base_uri": "https://localhost:8080/"
        },
        "id": "QIffwQZu2LNq",
        "outputId": "1a40998a-1a8c-467d-e10c-cf70cd3b499c"
      },
      "execution_count": 609,
      "outputs": [
        {
          "output_type": "stream",
          "name": "stdout",
          "text": [
            "['no' 'yes' 'unknown']\n"
          ]
        }
      ]
    },
    {
      "cell_type": "code",
      "source": [
        "unique_values = df[\"loan\"].unique()\n",
        "print(unique_values)\n"
      ],
      "metadata": {
        "colab": {
          "base_uri": "https://localhost:8080/"
        },
        "id": "zIgIt7hQ2L8K",
        "outputId": "ad2d1561-96c9-42b7-89a3-250095332d7e"
      },
      "execution_count": 610,
      "outputs": [
        {
          "output_type": "stream",
          "name": "stdout",
          "text": [
            "['no' 'yes' 'unknown']\n"
          ]
        }
      ]
    },
    {
      "cell_type": "code",
      "source": [
        "unique_values = df[\"job\"].unique()\n",
        "print(unique_values)\n"
      ],
      "metadata": {
        "colab": {
          "base_uri": "https://localhost:8080/"
        },
        "id": "_IM1G1zpxLFn",
        "outputId": "be048cd9-b2b6-4509-e68a-6b6711d1a27b"
      },
      "execution_count": 611,
      "outputs": [
        {
          "output_type": "stream",
          "name": "stdout",
          "text": [
            "['housemaid' 'services' 'admin.' 'blue-collar' 'technician' 'retired'\n",
            " 'management' 'unemployed' 'self-employed' 'unknown' 'entrepreneur'\n",
            " 'student']\n"
          ]
        }
      ]
    },
    {
      "cell_type": "code",
      "source": [
        "unique_values = df[\"marital\"].unique()\n",
        "print(unique_values)\n"
      ],
      "metadata": {
        "colab": {
          "base_uri": "https://localhost:8080/"
        },
        "id": "7-PRgoTRxPp3",
        "outputId": "2b1dec59-16b1-4761-c05a-3abb29b183f5"
      },
      "execution_count": 612,
      "outputs": [
        {
          "output_type": "stream",
          "name": "stdout",
          "text": [
            "['married' 'single' 'divorced' 'unknown']\n"
          ]
        }
      ]
    },
    {
      "cell_type": "code",
      "source": [
        "unique_values = df[\"education\"].unique()\n",
        "print(unique_values)\n"
      ],
      "metadata": {
        "colab": {
          "base_uri": "https://localhost:8080/"
        },
        "id": "w8Ahs7TNxVl8",
        "outputId": "9594c1a6-fa14-41ea-a0a5-6329cab8002f"
      },
      "execution_count": 613,
      "outputs": [
        {
          "output_type": "stream",
          "name": "stdout",
          "text": [
            "['basic.4y' 'high.school' 'basic.6y' 'basic.9y' 'professional.course'\n",
            " 'unknown' 'university.degree' 'illiterate']\n"
          ]
        }
      ]
    },
    {
      "cell_type": "code",
      "source": [
        "unique_values = df[\"default\"].unique()\n",
        "print(unique_values)"
      ],
      "metadata": {
        "colab": {
          "base_uri": "https://localhost:8080/"
        },
        "id": "ZT0dhuljxmgv",
        "outputId": "308f92f1-4573-43f8-de61-e7a92b66b216"
      },
      "execution_count": 614,
      "outputs": [
        {
          "output_type": "stream",
          "name": "stdout",
          "text": [
            "['no' 'unknown' 'yes']\n"
          ]
        }
      ]
    },
    {
      "cell_type": "code",
      "source": [
        "unique_values = df[\"contact\"].unique()\n",
        "print(unique_values)"
      ],
      "metadata": {
        "colab": {
          "base_uri": "https://localhost:8080/"
        },
        "id": "Zzim89wxxtpj",
        "outputId": "84bacb4a-1365-4b51-ac51-5c87a034e46a"
      },
      "execution_count": 615,
      "outputs": [
        {
          "output_type": "stream",
          "name": "stdout",
          "text": [
            "['telephone' 'cellular']\n"
          ]
        }
      ]
    },
    {
      "cell_type": "code",
      "source": [
        "unique_values = df[\"month\"].unique()\n",
        "print(unique_values)"
      ],
      "metadata": {
        "colab": {
          "base_uri": "https://localhost:8080/"
        },
        "id": "M2KnbZjYx0Mn",
        "outputId": "ab26f37b-b081-4720-e12c-a31a8f9d0a51"
      },
      "execution_count": 616,
      "outputs": [
        {
          "output_type": "stream",
          "name": "stdout",
          "text": [
            "['may' 'jun' 'jul' 'aug' 'oct' 'nov' 'dec' 'mar' 'apr' 'sep']\n"
          ]
        }
      ]
    },
    {
      "cell_type": "code",
      "source": [
        "unique_values = df[\"day_of_week\"].unique()\n",
        "print(unique_values)\n"
      ],
      "metadata": {
        "colab": {
          "base_uri": "https://localhost:8080/"
        },
        "id": "oJDGcXDRx8tL",
        "outputId": "d9434e4b-ceee-4149-cee4-58a11a0758c9"
      },
      "execution_count": 617,
      "outputs": [
        {
          "output_type": "stream",
          "name": "stdout",
          "text": [
            "['mon' 'tue' 'wed' 'thu' 'fri']\n"
          ]
        }
      ]
    },
    {
      "cell_type": "code",
      "source": [
        "unique_values = df[\"poutcome\"].unique()\n",
        "print(unique_values)\n"
      ],
      "metadata": {
        "colab": {
          "base_uri": "https://localhost:8080/"
        },
        "id": "qygX6eAeyDjy",
        "outputId": "6fa07a85-f742-4073-fe5b-54f186a09ff7"
      },
      "execution_count": 618,
      "outputs": [
        {
          "output_type": "stream",
          "name": "stdout",
          "text": [
            "['nonexistent' 'failure' 'success']\n"
          ]
        }
      ]
    },
    {
      "cell_type": "markdown",
      "source": [
        "## 4. **Feature Scaling, Encoding and Scaling**"
      ],
      "metadata": {
        "id": "E5tUspk098UC"
      }
    },
    {
      "cell_type": "markdown",
      "source": [
        "- Encode every object type columns into numerical values"
      ],
      "metadata": {
        "id": "7VnmpL6_7JCn"
      }
    },
    {
      "cell_type": "markdown",
      "source": [
        "- `scikit-learn.preprocessing.LabelEncoder` : Encodes categorical labels as numeric values (0, 1, 2, ...).\n",
        "- `scikit-learn.preprocessing.OneHotEncoder` - Converts categorical variables into binary one-hot encoded format.\n"
      ],
      "metadata": {
        "id": "HQNtGEZDQZfc"
      }
    },
    {
      "cell_type": "code",
      "source": [
        "from sklearn.preprocessing import LabelEncoder, OneHotEncoder"
      ],
      "metadata": {
        "id": "yWFaSZpEOQlH"
      },
      "execution_count": 619,
      "outputs": []
    },
    {
      "cell_type": "code",
      "source": [
        "# One-Hot Encoding (Binary Encoding)\n",
        "df[\"marital_encoded\"] = (df[\"marital\"] == \"married\").astype(int)\n",
        "df[\"education_encoded\"] = df[\"education\"].apply(lambda x: 1 if x in [\"university.degree\", \"professional.course\"] else 0)\n",
        "df[\"default_encoded\"] = (df[\"default\"] == \"yes\").astype(int)\n",
        "df[\"contact_encoded\"] = (df[\"contact\"] == \"telephone\").astype(int)\n",
        "df[\"poutcome_encoded\"] = (df[\"poutcome\"] == \"success\").astype(int)\n",
        "\n",
        "# Encode Housing & Loan (Handling 'unknown' explicitly)\n",
        "def encode_yn_unknown(value):\n",
        "    return 1 if value == \"yes\" else 0 if value == \"no\" else -1\n",
        "\n",
        "df[\"housing_encoded\"] = df[\"housing\"].apply(encode_yn_unknown)\n",
        "df[\"loan_encoded\"] = df[\"loan\"].apply(encode_yn_unknown)\n",
        "\n",
        "# Drop original categorical columns (already encoded)\n",
        "df.drop(columns=[\"housing\", \"loan\"], inplace=True)\n",
        "\n",
        "# Label Encoding - Job\n",
        "label_encoder = LabelEncoder()\n",
        "df[\"job_encoded\"] = label_encoder.fit_transform(df[\"job\"])  # Converts categorical values into numeric labels\n",
        "\n",
        "# Label Encoding - Month & Day of Week (Using Mapping)\n",
        "month_mapping = {\"jan\": 1, \"feb\": 2, \"mar\": 3, \"apr\": 4, \"may\": 5, \"jun\": 6,\n",
        "                 \"jul\": 7, \"aug\": 8, \"sep\": 9, \"oct\": 10, \"nov\": 11, \"dec\": 12}\n",
        "day_mapping = {\"mon\": 1, \"tue\": 2, \"wed\": 3, \"thu\": 4, \"fri\": 5, \"sat\": 6, \"sun\": 7}\n",
        "\n",
        "df[\"month_encoded\"] = df[\"month\"].map(month_mapping).astype(int)\n",
        "df[\"day_of_week_encoded\"] = df[\"day_of_week\"].map(day_mapping).astype(int)\n",
        "\n",
        "# Drop original categorical columns\n",
        "df.drop(columns=[\"job\", \"marital\", \"education\", \"default\", \"contact\", \"month\", \"day_of_week\", \"poutcome\"], inplace=True)\n",
        "\n"
      ],
      "metadata": {
        "id": "0xHLqrU1N94h"
      },
      "execution_count": 620,
      "outputs": []
    },
    {
      "cell_type": "markdown",
      "source": [
        "- Description summary of the df"
      ],
      "metadata": {
        "id": "BC-xeKgIQug6"
      }
    },
    {
      "cell_type": "code",
      "source": [
        "df.describe()"
      ],
      "metadata": {
        "colab": {
          "base_uri": "https://localhost:8080/",
          "height": 320
        },
        "id": "6NPQvD5cObgd",
        "outputId": "0c658715-be51-4071-a432-b98c49e30848"
      },
      "execution_count": 621,
      "outputs": [
        {
          "output_type": "execute_result",
          "data": {
            "text/plain": [
              "               age      duration      campaign         pdays      previous  \\\n",
              "count  41188.00000  41188.000000  41188.000000  41188.000000  41188.000000   \n",
              "mean      40.02406    258.285010      2.567593    962.475454      0.172963   \n",
              "std       10.42125    259.279249      2.770014    186.910907      0.494901   \n",
              "min       17.00000      0.000000      1.000000      0.000000      0.000000   \n",
              "25%       32.00000    102.000000      1.000000    999.000000      0.000000   \n",
              "50%       38.00000    180.000000      2.000000    999.000000      0.000000   \n",
              "75%       47.00000    319.000000      3.000000    999.000000      0.000000   \n",
              "max       98.00000   4918.000000     56.000000    999.000000      7.000000   \n",
              "\n",
              "       emp.var.rate  cons.price.idx  cons.conf.idx     euribor3m  \\\n",
              "count  41188.000000    41188.000000   41188.000000  41188.000000   \n",
              "mean       0.081886       93.575664     -40.502600      3.621291   \n",
              "std        1.570960        0.578840       4.628198      1.734447   \n",
              "min       -3.400000       92.201000     -50.800000      0.634000   \n",
              "25%       -1.800000       93.075000     -42.700000      1.344000   \n",
              "50%        1.100000       93.749000     -41.800000      4.857000   \n",
              "75%        1.400000       93.994000     -36.400000      4.961000   \n",
              "max        1.400000       94.767000     -26.900000      5.045000   \n",
              "\n",
              "        nr.employed  marital_encoded  education_encoded  default_encoded  \\\n",
              "count  41188.000000     41188.000000       41188.000000     41188.000000   \n",
              "mean    5167.035911         0.605225           0.422720         0.000073   \n",
              "std       72.251528         0.488808           0.493998         0.008534   \n",
              "min     4963.600000         0.000000           0.000000         0.000000   \n",
              "25%     5099.100000         0.000000           0.000000         0.000000   \n",
              "50%     5191.000000         1.000000           0.000000         0.000000   \n",
              "75%     5228.100000         1.000000           1.000000         0.000000   \n",
              "max     5228.100000         1.000000           1.000000         1.000000   \n",
              "\n",
              "       contact_encoded  poutcome_encoded  housing_encoded  loan_encoded  \\\n",
              "count     41188.000000      41188.000000     41188.000000  41188.000000   \n",
              "mean          0.365252          0.033335         0.499806      0.127659   \n",
              "std           0.481507          0.179512         0.545967      0.399297   \n",
              "min           0.000000          0.000000        -1.000000     -1.000000   \n",
              "25%           0.000000          0.000000         0.000000      0.000000   \n",
              "50%           0.000000          0.000000         1.000000      0.000000   \n",
              "75%           1.000000          0.000000         1.000000      0.000000   \n",
              "max           1.000000          1.000000         1.000000      1.000000   \n",
              "\n",
              "       job_encoded  month_encoded  day_of_week_encoded  \n",
              "count  41188.00000   41188.000000         41188.000000  \n",
              "mean       3.72458       6.607896             2.979581  \n",
              "std        3.59456       2.040998             1.411514  \n",
              "min        0.00000       3.000000             1.000000  \n",
              "25%        0.00000       5.000000             2.000000  \n",
              "50%        2.00000       6.000000             3.000000  \n",
              "75%        7.00000       8.000000             4.000000  \n",
              "max       11.00000      12.000000             5.000000  "
            ],
            "text/html": [
              "\n",
              "  <div id=\"df-678842c0-feeb-4152-bbda-77b997012bd6\" class=\"colab-df-container\">\n",
              "    <div>\n",
              "<style scoped>\n",
              "    .dataframe tbody tr th:only-of-type {\n",
              "        vertical-align: middle;\n",
              "    }\n",
              "\n",
              "    .dataframe tbody tr th {\n",
              "        vertical-align: top;\n",
              "    }\n",
              "\n",
              "    .dataframe thead th {\n",
              "        text-align: right;\n",
              "    }\n",
              "</style>\n",
              "<table border=\"1\" class=\"dataframe\">\n",
              "  <thead>\n",
              "    <tr style=\"text-align: right;\">\n",
              "      <th></th>\n",
              "      <th>age</th>\n",
              "      <th>duration</th>\n",
              "      <th>campaign</th>\n",
              "      <th>pdays</th>\n",
              "      <th>previous</th>\n",
              "      <th>emp.var.rate</th>\n",
              "      <th>cons.price.idx</th>\n",
              "      <th>cons.conf.idx</th>\n",
              "      <th>euribor3m</th>\n",
              "      <th>nr.employed</th>\n",
              "      <th>marital_encoded</th>\n",
              "      <th>education_encoded</th>\n",
              "      <th>default_encoded</th>\n",
              "      <th>contact_encoded</th>\n",
              "      <th>poutcome_encoded</th>\n",
              "      <th>housing_encoded</th>\n",
              "      <th>loan_encoded</th>\n",
              "      <th>job_encoded</th>\n",
              "      <th>month_encoded</th>\n",
              "      <th>day_of_week_encoded</th>\n",
              "    </tr>\n",
              "  </thead>\n",
              "  <tbody>\n",
              "    <tr>\n",
              "      <th>count</th>\n",
              "      <td>41188.00000</td>\n",
              "      <td>41188.000000</td>\n",
              "      <td>41188.000000</td>\n",
              "      <td>41188.000000</td>\n",
              "      <td>41188.000000</td>\n",
              "      <td>41188.000000</td>\n",
              "      <td>41188.000000</td>\n",
              "      <td>41188.000000</td>\n",
              "      <td>41188.000000</td>\n",
              "      <td>41188.000000</td>\n",
              "      <td>41188.000000</td>\n",
              "      <td>41188.000000</td>\n",
              "      <td>41188.000000</td>\n",
              "      <td>41188.000000</td>\n",
              "      <td>41188.000000</td>\n",
              "      <td>41188.000000</td>\n",
              "      <td>41188.000000</td>\n",
              "      <td>41188.00000</td>\n",
              "      <td>41188.000000</td>\n",
              "      <td>41188.000000</td>\n",
              "    </tr>\n",
              "    <tr>\n",
              "      <th>mean</th>\n",
              "      <td>40.02406</td>\n",
              "      <td>258.285010</td>\n",
              "      <td>2.567593</td>\n",
              "      <td>962.475454</td>\n",
              "      <td>0.172963</td>\n",
              "      <td>0.081886</td>\n",
              "      <td>93.575664</td>\n",
              "      <td>-40.502600</td>\n",
              "      <td>3.621291</td>\n",
              "      <td>5167.035911</td>\n",
              "      <td>0.605225</td>\n",
              "      <td>0.422720</td>\n",
              "      <td>0.000073</td>\n",
              "      <td>0.365252</td>\n",
              "      <td>0.033335</td>\n",
              "      <td>0.499806</td>\n",
              "      <td>0.127659</td>\n",
              "      <td>3.72458</td>\n",
              "      <td>6.607896</td>\n",
              "      <td>2.979581</td>\n",
              "    </tr>\n",
              "    <tr>\n",
              "      <th>std</th>\n",
              "      <td>10.42125</td>\n",
              "      <td>259.279249</td>\n",
              "      <td>2.770014</td>\n",
              "      <td>186.910907</td>\n",
              "      <td>0.494901</td>\n",
              "      <td>1.570960</td>\n",
              "      <td>0.578840</td>\n",
              "      <td>4.628198</td>\n",
              "      <td>1.734447</td>\n",
              "      <td>72.251528</td>\n",
              "      <td>0.488808</td>\n",
              "      <td>0.493998</td>\n",
              "      <td>0.008534</td>\n",
              "      <td>0.481507</td>\n",
              "      <td>0.179512</td>\n",
              "      <td>0.545967</td>\n",
              "      <td>0.399297</td>\n",
              "      <td>3.59456</td>\n",
              "      <td>2.040998</td>\n",
              "      <td>1.411514</td>\n",
              "    </tr>\n",
              "    <tr>\n",
              "      <th>min</th>\n",
              "      <td>17.00000</td>\n",
              "      <td>0.000000</td>\n",
              "      <td>1.000000</td>\n",
              "      <td>0.000000</td>\n",
              "      <td>0.000000</td>\n",
              "      <td>-3.400000</td>\n",
              "      <td>92.201000</td>\n",
              "      <td>-50.800000</td>\n",
              "      <td>0.634000</td>\n",
              "      <td>4963.600000</td>\n",
              "      <td>0.000000</td>\n",
              "      <td>0.000000</td>\n",
              "      <td>0.000000</td>\n",
              "      <td>0.000000</td>\n",
              "      <td>0.000000</td>\n",
              "      <td>-1.000000</td>\n",
              "      <td>-1.000000</td>\n",
              "      <td>0.00000</td>\n",
              "      <td>3.000000</td>\n",
              "      <td>1.000000</td>\n",
              "    </tr>\n",
              "    <tr>\n",
              "      <th>25%</th>\n",
              "      <td>32.00000</td>\n",
              "      <td>102.000000</td>\n",
              "      <td>1.000000</td>\n",
              "      <td>999.000000</td>\n",
              "      <td>0.000000</td>\n",
              "      <td>-1.800000</td>\n",
              "      <td>93.075000</td>\n",
              "      <td>-42.700000</td>\n",
              "      <td>1.344000</td>\n",
              "      <td>5099.100000</td>\n",
              "      <td>0.000000</td>\n",
              "      <td>0.000000</td>\n",
              "      <td>0.000000</td>\n",
              "      <td>0.000000</td>\n",
              "      <td>0.000000</td>\n",
              "      <td>0.000000</td>\n",
              "      <td>0.000000</td>\n",
              "      <td>0.00000</td>\n",
              "      <td>5.000000</td>\n",
              "      <td>2.000000</td>\n",
              "    </tr>\n",
              "    <tr>\n",
              "      <th>50%</th>\n",
              "      <td>38.00000</td>\n",
              "      <td>180.000000</td>\n",
              "      <td>2.000000</td>\n",
              "      <td>999.000000</td>\n",
              "      <td>0.000000</td>\n",
              "      <td>1.100000</td>\n",
              "      <td>93.749000</td>\n",
              "      <td>-41.800000</td>\n",
              "      <td>4.857000</td>\n",
              "      <td>5191.000000</td>\n",
              "      <td>1.000000</td>\n",
              "      <td>0.000000</td>\n",
              "      <td>0.000000</td>\n",
              "      <td>0.000000</td>\n",
              "      <td>0.000000</td>\n",
              "      <td>1.000000</td>\n",
              "      <td>0.000000</td>\n",
              "      <td>2.00000</td>\n",
              "      <td>6.000000</td>\n",
              "      <td>3.000000</td>\n",
              "    </tr>\n",
              "    <tr>\n",
              "      <th>75%</th>\n",
              "      <td>47.00000</td>\n",
              "      <td>319.000000</td>\n",
              "      <td>3.000000</td>\n",
              "      <td>999.000000</td>\n",
              "      <td>0.000000</td>\n",
              "      <td>1.400000</td>\n",
              "      <td>93.994000</td>\n",
              "      <td>-36.400000</td>\n",
              "      <td>4.961000</td>\n",
              "      <td>5228.100000</td>\n",
              "      <td>1.000000</td>\n",
              "      <td>1.000000</td>\n",
              "      <td>0.000000</td>\n",
              "      <td>1.000000</td>\n",
              "      <td>0.000000</td>\n",
              "      <td>1.000000</td>\n",
              "      <td>0.000000</td>\n",
              "      <td>7.00000</td>\n",
              "      <td>8.000000</td>\n",
              "      <td>4.000000</td>\n",
              "    </tr>\n",
              "    <tr>\n",
              "      <th>max</th>\n",
              "      <td>98.00000</td>\n",
              "      <td>4918.000000</td>\n",
              "      <td>56.000000</td>\n",
              "      <td>999.000000</td>\n",
              "      <td>7.000000</td>\n",
              "      <td>1.400000</td>\n",
              "      <td>94.767000</td>\n",
              "      <td>-26.900000</td>\n",
              "      <td>5.045000</td>\n",
              "      <td>5228.100000</td>\n",
              "      <td>1.000000</td>\n",
              "      <td>1.000000</td>\n",
              "      <td>1.000000</td>\n",
              "      <td>1.000000</td>\n",
              "      <td>1.000000</td>\n",
              "      <td>1.000000</td>\n",
              "      <td>1.000000</td>\n",
              "      <td>11.00000</td>\n",
              "      <td>12.000000</td>\n",
              "      <td>5.000000</td>\n",
              "    </tr>\n",
              "  </tbody>\n",
              "</table>\n",
              "</div>\n",
              "    <div class=\"colab-df-buttons\">\n",
              "\n",
              "  <div class=\"colab-df-container\">\n",
              "    <button class=\"colab-df-convert\" onclick=\"convertToInteractive('df-678842c0-feeb-4152-bbda-77b997012bd6')\"\n",
              "            title=\"Convert this dataframe to an interactive table.\"\n",
              "            style=\"display:none;\">\n",
              "\n",
              "  <svg xmlns=\"http://www.w3.org/2000/svg\" height=\"24px\" viewBox=\"0 -960 960 960\">\n",
              "    <path d=\"M120-120v-720h720v720H120Zm60-500h600v-160H180v160Zm220 220h160v-160H400v160Zm0 220h160v-160H400v160ZM180-400h160v-160H180v160Zm440 0h160v-160H620v160ZM180-180h160v-160H180v160Zm440 0h160v-160H620v160Z\"/>\n",
              "  </svg>\n",
              "    </button>\n",
              "\n",
              "  <style>\n",
              "    .colab-df-container {\n",
              "      display:flex;\n",
              "      gap: 12px;\n",
              "    }\n",
              "\n",
              "    .colab-df-convert {\n",
              "      background-color: #E8F0FE;\n",
              "      border: none;\n",
              "      border-radius: 50%;\n",
              "      cursor: pointer;\n",
              "      display: none;\n",
              "      fill: #1967D2;\n",
              "      height: 32px;\n",
              "      padding: 0 0 0 0;\n",
              "      width: 32px;\n",
              "    }\n",
              "\n",
              "    .colab-df-convert:hover {\n",
              "      background-color: #E2EBFA;\n",
              "      box-shadow: 0px 1px 2px rgba(60, 64, 67, 0.3), 0px 1px 3px 1px rgba(60, 64, 67, 0.15);\n",
              "      fill: #174EA6;\n",
              "    }\n",
              "\n",
              "    .colab-df-buttons div {\n",
              "      margin-bottom: 4px;\n",
              "    }\n",
              "\n",
              "    [theme=dark] .colab-df-convert {\n",
              "      background-color: #3B4455;\n",
              "      fill: #D2E3FC;\n",
              "    }\n",
              "\n",
              "    [theme=dark] .colab-df-convert:hover {\n",
              "      background-color: #434B5C;\n",
              "      box-shadow: 0px 1px 3px 1px rgba(0, 0, 0, 0.15);\n",
              "      filter: drop-shadow(0px 1px 2px rgba(0, 0, 0, 0.3));\n",
              "      fill: #FFFFFF;\n",
              "    }\n",
              "  </style>\n",
              "\n",
              "    <script>\n",
              "      const buttonEl =\n",
              "        document.querySelector('#df-678842c0-feeb-4152-bbda-77b997012bd6 button.colab-df-convert');\n",
              "      buttonEl.style.display =\n",
              "        google.colab.kernel.accessAllowed ? 'block' : 'none';\n",
              "\n",
              "      async function convertToInteractive(key) {\n",
              "        const element = document.querySelector('#df-678842c0-feeb-4152-bbda-77b997012bd6');\n",
              "        const dataTable =\n",
              "          await google.colab.kernel.invokeFunction('convertToInteractive',\n",
              "                                                    [key], {});\n",
              "        if (!dataTable) return;\n",
              "\n",
              "        const docLinkHtml = 'Like what you see? Visit the ' +\n",
              "          '<a target=\"_blank\" href=https://colab.research.google.com/notebooks/data_table.ipynb>data table notebook</a>'\n",
              "          + ' to learn more about interactive tables.';\n",
              "        element.innerHTML = '';\n",
              "        dataTable['output_type'] = 'display_data';\n",
              "        await google.colab.output.renderOutput(dataTable, element);\n",
              "        const docLink = document.createElement('div');\n",
              "        docLink.innerHTML = docLinkHtml;\n",
              "        element.appendChild(docLink);\n",
              "      }\n",
              "    </script>\n",
              "  </div>\n",
              "\n",
              "\n",
              "<div id=\"df-f00c0cb6-6f78-46a4-8ca2-91dc8a4db282\">\n",
              "  <button class=\"colab-df-quickchart\" onclick=\"quickchart('df-f00c0cb6-6f78-46a4-8ca2-91dc8a4db282')\"\n",
              "            title=\"Suggest charts\"\n",
              "            style=\"display:none;\">\n",
              "\n",
              "<svg xmlns=\"http://www.w3.org/2000/svg\" height=\"24px\"viewBox=\"0 0 24 24\"\n",
              "     width=\"24px\">\n",
              "    <g>\n",
              "        <path d=\"M19 3H5c-1.1 0-2 .9-2 2v14c0 1.1.9 2 2 2h14c1.1 0 2-.9 2-2V5c0-1.1-.9-2-2-2zM9 17H7v-7h2v7zm4 0h-2V7h2v10zm4 0h-2v-4h2v4z\"/>\n",
              "    </g>\n",
              "</svg>\n",
              "  </button>\n",
              "\n",
              "<style>\n",
              "  .colab-df-quickchart {\n",
              "      --bg-color: #E8F0FE;\n",
              "      --fill-color: #1967D2;\n",
              "      --hover-bg-color: #E2EBFA;\n",
              "      --hover-fill-color: #174EA6;\n",
              "      --disabled-fill-color: #AAA;\n",
              "      --disabled-bg-color: #DDD;\n",
              "  }\n",
              "\n",
              "  [theme=dark] .colab-df-quickchart {\n",
              "      --bg-color: #3B4455;\n",
              "      --fill-color: #D2E3FC;\n",
              "      --hover-bg-color: #434B5C;\n",
              "      --hover-fill-color: #FFFFFF;\n",
              "      --disabled-bg-color: #3B4455;\n",
              "      --disabled-fill-color: #666;\n",
              "  }\n",
              "\n",
              "  .colab-df-quickchart {\n",
              "    background-color: var(--bg-color);\n",
              "    border: none;\n",
              "    border-radius: 50%;\n",
              "    cursor: pointer;\n",
              "    display: none;\n",
              "    fill: var(--fill-color);\n",
              "    height: 32px;\n",
              "    padding: 0;\n",
              "    width: 32px;\n",
              "  }\n",
              "\n",
              "  .colab-df-quickchart:hover {\n",
              "    background-color: var(--hover-bg-color);\n",
              "    box-shadow: 0 1px 2px rgba(60, 64, 67, 0.3), 0 1px 3px 1px rgba(60, 64, 67, 0.15);\n",
              "    fill: var(--button-hover-fill-color);\n",
              "  }\n",
              "\n",
              "  .colab-df-quickchart-complete:disabled,\n",
              "  .colab-df-quickchart-complete:disabled:hover {\n",
              "    background-color: var(--disabled-bg-color);\n",
              "    fill: var(--disabled-fill-color);\n",
              "    box-shadow: none;\n",
              "  }\n",
              "\n",
              "  .colab-df-spinner {\n",
              "    border: 2px solid var(--fill-color);\n",
              "    border-color: transparent;\n",
              "    border-bottom-color: var(--fill-color);\n",
              "    animation:\n",
              "      spin 1s steps(1) infinite;\n",
              "  }\n",
              "\n",
              "  @keyframes spin {\n",
              "    0% {\n",
              "      border-color: transparent;\n",
              "      border-bottom-color: var(--fill-color);\n",
              "      border-left-color: var(--fill-color);\n",
              "    }\n",
              "    20% {\n",
              "      border-color: transparent;\n",
              "      border-left-color: var(--fill-color);\n",
              "      border-top-color: var(--fill-color);\n",
              "    }\n",
              "    30% {\n",
              "      border-color: transparent;\n",
              "      border-left-color: var(--fill-color);\n",
              "      border-top-color: var(--fill-color);\n",
              "      border-right-color: var(--fill-color);\n",
              "    }\n",
              "    40% {\n",
              "      border-color: transparent;\n",
              "      border-right-color: var(--fill-color);\n",
              "      border-top-color: var(--fill-color);\n",
              "    }\n",
              "    60% {\n",
              "      border-color: transparent;\n",
              "      border-right-color: var(--fill-color);\n",
              "    }\n",
              "    80% {\n",
              "      border-color: transparent;\n",
              "      border-right-color: var(--fill-color);\n",
              "      border-bottom-color: var(--fill-color);\n",
              "    }\n",
              "    90% {\n",
              "      border-color: transparent;\n",
              "      border-bottom-color: var(--fill-color);\n",
              "    }\n",
              "  }\n",
              "</style>\n",
              "\n",
              "  <script>\n",
              "    async function quickchart(key) {\n",
              "      const quickchartButtonEl =\n",
              "        document.querySelector('#' + key + ' button');\n",
              "      quickchartButtonEl.disabled = true;  // To prevent multiple clicks.\n",
              "      quickchartButtonEl.classList.add('colab-df-spinner');\n",
              "      try {\n",
              "        const charts = await google.colab.kernel.invokeFunction(\n",
              "            'suggestCharts', [key], {});\n",
              "      } catch (error) {\n",
              "        console.error('Error during call to suggestCharts:', error);\n",
              "      }\n",
              "      quickchartButtonEl.classList.remove('colab-df-spinner');\n",
              "      quickchartButtonEl.classList.add('colab-df-quickchart-complete');\n",
              "    }\n",
              "    (() => {\n",
              "      let quickchartButtonEl =\n",
              "        document.querySelector('#df-f00c0cb6-6f78-46a4-8ca2-91dc8a4db282 button');\n",
              "      quickchartButtonEl.style.display =\n",
              "        google.colab.kernel.accessAllowed ? 'block' : 'none';\n",
              "    })();\n",
              "  </script>\n",
              "</div>\n",
              "\n",
              "    </div>\n",
              "  </div>\n"
            ],
            "application/vnd.google.colaboratory.intrinsic+json": {
              "type": "dataframe",
              "summary": "{\n  \"name\": \"df\",\n  \"rows\": 8,\n  \"fields\": [\n    {\n      \"column\": \"age\",\n      \"properties\": {\n        \"dtype\": \"number\",\n        \"std\": 14547.915389437558,\n        \"min\": 10.421249980934235,\n        \"max\": 41188.0,\n        \"num_unique_values\": 8,\n        \"samples\": [\n          40.02406040594348,\n          38.0,\n          41188.0\n        ],\n        \"semantic_type\": \"\",\n        \"description\": \"\"\n      }\n    },\n    {\n      \"column\": \"duration\",\n      \"properties\": {\n        \"dtype\": \"number\",\n        \"std\": 14353.429834977824,\n        \"min\": 0.0,\n        \"max\": 41188.0,\n        \"num_unique_values\": 8,\n        \"samples\": [\n          258.2850101971448,\n          180.0,\n          41188.0\n        ],\n        \"semantic_type\": \"\",\n        \"description\": \"\"\n      }\n    },\n    {\n      \"column\": \"campaign\",\n      \"properties\": {\n        \"dtype\": \"number\",\n        \"std\": 14558.717737799894,\n        \"min\": 1.0,\n        \"max\": 41188.0,\n        \"num_unique_values\": 7,\n        \"samples\": [\n          41188.0,\n          2.567592502670681,\n          3.0\n        ],\n        \"semantic_type\": \"\",\n        \"description\": \"\"\n      }\n    },\n    {\n      \"column\": \"pdays\",\n      \"properties\": {\n        \"dtype\": \"number\",\n        \"std\": 14308.123597767702,\n        \"min\": 0.0,\n        \"max\": 41188.0,\n        \"num_unique_values\": 5,\n        \"samples\": [\n          962.4754540157328,\n          999.0,\n          186.9109073447436\n        ],\n        \"semantic_type\": \"\",\n        \"description\": \"\"\n      }\n    },\n    {\n      \"column\": \"previous\",\n      \"properties\": {\n        \"dtype\": \"number\",\n        \"std\": 14561.769966637721,\n        \"min\": 0.0,\n        \"max\": 41188.0,\n        \"num_unique_values\": 5,\n        \"samples\": [\n          0.17296299893172767,\n          7.0,\n          0.4949010798393183\n        ],\n        \"semantic_type\": \"\",\n        \"description\": \"\"\n      }\n    },\n    {\n      \"column\": \"emp.var.rate\",\n      \"properties\": {\n        \"dtype\": \"number\",\n        \"std\": 14562.139340189238,\n        \"min\": -3.4,\n        \"max\": 41188.0,\n        \"num_unique_values\": 7,\n        \"samples\": [\n          41188.0,\n          0.08188550063125165,\n          1.1\n        ],\n        \"semantic_type\": \"\",\n        \"description\": \"\"\n      }\n    },\n    {\n      \"column\": \"cons.price.idx\",\n      \"properties\": {\n        \"dtype\": \"number\",\n        \"std\": 14533.81120862695,\n        \"min\": 0.5788400489541813,\n        \"max\": 41188.0,\n        \"num_unique_values\": 8,\n        \"samples\": [\n          93.57566436826262,\n          93.749,\n          41188.0\n        ],\n        \"semantic_type\": \"\",\n        \"description\": \"\"\n      }\n    },\n    {\n      \"column\": \"cons.conf.idx\",\n      \"properties\": {\n        \"dtype\": \"number\",\n        \"std\": 14574.009636834655,\n        \"min\": -50.8,\n        \"max\": 41188.0,\n        \"num_unique_values\": 8,\n        \"samples\": [\n          -40.50260027192386,\n          -41.8,\n          41188.0\n        ],\n        \"semantic_type\": \"\",\n        \"description\": \"\"\n      }\n    },\n    {\n      \"column\": \"euribor3m\",\n      \"properties\": {\n        \"dtype\": \"number\",\n        \"std\": 14561.036053130754,\n        \"min\": 0.634,\n        \"max\": 41188.0,\n        \"num_unique_values\": 8,\n        \"samples\": [\n          3.621290812858114,\n          4.857,\n          41188.0\n        ],\n        \"semantic_type\": \"\",\n        \"description\": \"\"\n      }\n    },\n    {\n      \"column\": \"nr.employed\",\n      \"properties\": {\n        \"dtype\": \"number\",\n        \"std\": 13119.961802721198,\n        \"min\": 72.25152766826527,\n        \"max\": 41188.0,\n        \"num_unique_values\": 7,\n        \"samples\": [\n          41188.0,\n          5167.035910944936,\n          5191.0\n        ],\n        \"semantic_type\": \"\",\n        \"description\": \"\"\n      }\n    },\n    {\n      \"column\": \"marital_encoded\",\n      \"properties\": {\n        \"dtype\": \"number\",\n        \"std\": 14561.950277796881,\n        \"min\": 0.0,\n        \"max\": 41188.0,\n        \"num_unique_values\": 5,\n        \"samples\": [\n          0.6052248227639119,\n          1.0,\n          0.4888082831966373\n        ],\n        \"semantic_type\": \"\",\n        \"description\": \"\"\n      }\n    },\n    {\n      \"column\": \"education_encoded\",\n      \"properties\": {\n        \"dtype\": \"number\",\n        \"std\": 14562.009741175729,\n        \"min\": 0.0,\n        \"max\": 41188.0,\n        \"num_unique_values\": 5,\n        \"samples\": [\n          0.4227202097698359,\n          1.0,\n          0.4939977316721451\n        ],\n        \"semantic_type\": \"\",\n        \"description\": \"\"\n      }\n    },\n    {\n      \"column\": \"default_encoded\",\n      \"properties\": {\n        \"dtype\": \"number\",\n        \"std\": 14562.10611359824,\n        \"min\": 0.0,\n        \"max\": 41188.0,\n        \"num_unique_values\": 5,\n        \"samples\": [\n          7.283674856754395e-05,\n          1.0,\n          0.008534237616037917\n        ],\n        \"semantic_type\": \"\",\n        \"description\": \"\"\n      }\n    },\n    {\n      \"column\": \"contact_encoded\",\n      \"properties\": {\n        \"dtype\": \"number\",\n        \"std\": 14562.013274655754,\n        \"min\": 0.0,\n        \"max\": 41188.0,\n        \"num_unique_values\": 5,\n        \"samples\": [\n          0.3652520151500437,\n          1.0,\n          0.4815066039129343\n        ],\n        \"semantic_type\": \"\",\n        \"description\": \"\"\n      }\n    },\n    {\n      \"column\": \"poutcome_encoded\",\n      \"properties\": {\n        \"dtype\": \"number\",\n        \"std\": 14562.095797777907,\n        \"min\": 0.0,\n        \"max\": 41188.0,\n        \"num_unique_values\": 5,\n        \"samples\": [\n          0.033334951927745944,\n          1.0,\n          0.17951188062082882\n        ],\n        \"semantic_type\": \"\",\n        \"description\": \"\"\n      }\n    },\n    {\n      \"column\": \"housing_encoded\",\n      \"properties\": {\n        \"dtype\": \"number\",\n        \"std\": 14562.003232831281,\n        \"min\": -1.0,\n        \"max\": 41188.0,\n        \"num_unique_values\": 6,\n        \"samples\": [\n          41188.0,\n          0.49980576867048654,\n          1.0\n        ],\n        \"semantic_type\": \"\",\n        \"description\": \"\"\n      }\n    },\n    {\n      \"column\": \"loan_encoded\",\n      \"properties\": {\n        \"dtype\": \"number\",\n        \"std\": 14562.130446967598,\n        \"min\": -1.0,\n        \"max\": 41188.0,\n        \"num_unique_values\": 6,\n        \"samples\": [\n          41188.0,\n          0.12765854132271534,\n          1.0\n        ],\n        \"semantic_type\": \"\",\n        \"description\": \"\"\n      }\n    },\n    {\n      \"column\": \"job_encoded\",\n      \"properties\": {\n        \"dtype\": \"number\",\n        \"std\": 14560.777688774186,\n        \"min\": 0.0,\n        \"max\": 41188.0,\n        \"num_unique_values\": 7,\n        \"samples\": [\n          41188.0,\n          3.7245799747499273,\n          7.0\n        ],\n        \"semantic_type\": \"\",\n        \"description\": \"\"\n      }\n    },\n    {\n      \"column\": \"month_encoded\",\n      \"properties\": {\n        \"dtype\": \"number\",\n        \"std\": 14560.003281057756,\n        \"min\": 2.040997674562115,\n        \"max\": 41188.0,\n        \"num_unique_values\": 8,\n        \"samples\": [\n          6.6078955035447215,\n          6.0,\n          41188.0\n        ],\n        \"semantic_type\": \"\",\n        \"description\": \"\"\n      }\n    },\n    {\n      \"column\": \"day_of_week_encoded\",\n      \"properties\": {\n        \"dtype\": \"number\",\n        \"std\": 14561.177713150968,\n        \"min\": 1.0,\n        \"max\": 41188.0,\n        \"num_unique_values\": 8,\n        \"samples\": [\n          2.9795814314848985,\n          3.0,\n          41188.0\n        ],\n        \"semantic_type\": \"\",\n        \"description\": \"\"\n      }\n    }\n  ]\n}"
            }
          },
          "metadata": {},
          "execution_count": 621
        }
      ]
    },
    {
      "cell_type": "markdown",
      "source": [
        "- Shows column names, data types, and missing values after manual encoding."
      ],
      "metadata": {
        "id": "qTIEeyAz7V_F"
      }
    },
    {
      "cell_type": "code",
      "source": [
        "df.info()"
      ],
      "metadata": {
        "colab": {
          "base_uri": "https://localhost:8080/"
        },
        "id": "0NZXKiTf19pw",
        "outputId": "3535537d-1b7d-4029-c343-f0a4c42a8a05"
      },
      "execution_count": 622,
      "outputs": [
        {
          "output_type": "stream",
          "name": "stdout",
          "text": [
            "<class 'pandas.core.frame.DataFrame'>\n",
            "RangeIndex: 41188 entries, 0 to 41187\n",
            "Data columns (total 21 columns):\n",
            " #   Column               Non-Null Count  Dtype  \n",
            "---  ------               --------------  -----  \n",
            " 0   age                  41188 non-null  int64  \n",
            " 1   duration             41188 non-null  int64  \n",
            " 2   campaign             41188 non-null  int64  \n",
            " 3   pdays                41188 non-null  int64  \n",
            " 4   previous             41188 non-null  int64  \n",
            " 5   emp.var.rate         41188 non-null  float64\n",
            " 6   cons.price.idx       41188 non-null  float64\n",
            " 7   cons.conf.idx        41188 non-null  float64\n",
            " 8   euribor3m            41188 non-null  float64\n",
            " 9   nr.employed          41188 non-null  float64\n",
            " 10  y                    41188 non-null  object \n",
            " 11  marital_encoded      41188 non-null  int64  \n",
            " 12  education_encoded    41188 non-null  int64  \n",
            " 13  default_encoded      41188 non-null  int64  \n",
            " 14  contact_encoded      41188 non-null  int64  \n",
            " 15  poutcome_encoded     41188 non-null  int64  \n",
            " 16  housing_encoded      41188 non-null  int64  \n",
            " 17  loan_encoded         41188 non-null  int64  \n",
            " 18  job_encoded          41188 non-null  int64  \n",
            " 19  month_encoded        41188 non-null  int64  \n",
            " 20  day_of_week_encoded  41188 non-null  int64  \n",
            "dtypes: float64(5), int64(15), object(1)\n",
            "memory usage: 6.6+ MB\n"
          ]
        }
      ]
    },
    {
      "cell_type": "code",
      "source": [
        "X = df.drop(columns=['y'])  # Drops the target variable (y) from X.\n",
        "y = df['y']  # Stores y separately."
      ],
      "metadata": {
        "id": "xT4-dcF3oSyI"
      },
      "execution_count": 623,
      "outputs": []
    },
    {
      "cell_type": "markdown",
      "source": [
        "- Encode yes/no target values into boolean values (1/0)."
      ],
      "metadata": {
        "id": "h5NwERGO-5z6"
      }
    },
    {
      "cell_type": "code",
      "source": [
        "y_encoded = y.map({'yes': 1, 'no': 0})\n",
        "y_encoded"
      ],
      "metadata": {
        "colab": {
          "base_uri": "https://localhost:8080/",
          "height": 458
        },
        "id": "4568pillMpzy",
        "outputId": "fdb6cab8-3c9e-4367-8dc8-0ac83bd7bff5"
      },
      "execution_count": 624,
      "outputs": [
        {
          "output_type": "execute_result",
          "data": {
            "text/plain": [
              "0        0\n",
              "1        0\n",
              "2        0\n",
              "3        0\n",
              "4        0\n",
              "        ..\n",
              "41183    1\n",
              "41184    0\n",
              "41185    0\n",
              "41186    1\n",
              "41187    0\n",
              "Name: y, Length: 41188, dtype: int64"
            ],
            "text/html": [
              "<div>\n",
              "<style scoped>\n",
              "    .dataframe tbody tr th:only-of-type {\n",
              "        vertical-align: middle;\n",
              "    }\n",
              "\n",
              "    .dataframe tbody tr th {\n",
              "        vertical-align: top;\n",
              "    }\n",
              "\n",
              "    .dataframe thead th {\n",
              "        text-align: right;\n",
              "    }\n",
              "</style>\n",
              "<table border=\"1\" class=\"dataframe\">\n",
              "  <thead>\n",
              "    <tr style=\"text-align: right;\">\n",
              "      <th></th>\n",
              "      <th>y</th>\n",
              "    </tr>\n",
              "  </thead>\n",
              "  <tbody>\n",
              "    <tr>\n",
              "      <th>0</th>\n",
              "      <td>0</td>\n",
              "    </tr>\n",
              "    <tr>\n",
              "      <th>1</th>\n",
              "      <td>0</td>\n",
              "    </tr>\n",
              "    <tr>\n",
              "      <th>2</th>\n",
              "      <td>0</td>\n",
              "    </tr>\n",
              "    <tr>\n",
              "      <th>3</th>\n",
              "      <td>0</td>\n",
              "    </tr>\n",
              "    <tr>\n",
              "      <th>4</th>\n",
              "      <td>0</td>\n",
              "    </tr>\n",
              "    <tr>\n",
              "      <th>...</th>\n",
              "      <td>...</td>\n",
              "    </tr>\n",
              "    <tr>\n",
              "      <th>41183</th>\n",
              "      <td>1</td>\n",
              "    </tr>\n",
              "    <tr>\n",
              "      <th>41184</th>\n",
              "      <td>0</td>\n",
              "    </tr>\n",
              "    <tr>\n",
              "      <th>41185</th>\n",
              "      <td>0</td>\n",
              "    </tr>\n",
              "    <tr>\n",
              "      <th>41186</th>\n",
              "      <td>1</td>\n",
              "    </tr>\n",
              "    <tr>\n",
              "      <th>41187</th>\n",
              "      <td>0</td>\n",
              "    </tr>\n",
              "  </tbody>\n",
              "</table>\n",
              "<p>41188 rows × 1 columns</p>\n",
              "</div><br><label><b>dtype:</b> int64</label>"
            ]
          },
          "metadata": {},
          "execution_count": 624
        }
      ]
    },
    {
      "cell_type": "markdown",
      "source": [
        "- Compute correlation matrix"
      ],
      "metadata": {
        "id": "31UVNx1GJ6pn"
      }
    },
    {
      "cell_type": "code",
      "source": [
        "corr_matrix = X.corr()"
      ],
      "metadata": {
        "id": "k1rMYxVJ-S-u"
      },
      "execution_count": 625,
      "outputs": []
    },
    {
      "cell_type": "markdown",
      "source": [
        "- Plot heatmap"
      ],
      "metadata": {
        "id": "SAuTWCrUJ9Pb"
      }
    },
    {
      "cell_type": "code",
      "source": [
        "plt.figure(figsize=(12, 8))\n",
        "sns.heatmap(corr_matrix, annot=False, fmt=\".2f\", cmap=\"coolwarm\", linewidths=0.5)\n"
      ],
      "metadata": {
        "colab": {
          "base_uri": "https://localhost:8080/",
          "height": 687
        },
        "id": "AjZCO-Ai-UQo",
        "outputId": "83e521a0-bf16-4573-b88b-ffb4ba5d0a1f"
      },
      "execution_count": 626,
      "outputs": [
        {
          "output_type": "execute_result",
          "data": {
            "text/plain": [
              "<Axes: >"
            ]
          },
          "metadata": {},
          "execution_count": 626
        },
        {
          "output_type": "display_data",
          "data": {
            "text/plain": [
              "<Figure size 1200x800 with 2 Axes>"
            ],
            "image/png": "[encoded data removed]"
          },
          "metadata": {}
        }
      ]
    },
    {
      "cell_type": "markdown",
      "source": [
        "## 5. **Splitting Data into Training and Testing Sets**"
      ],
      "metadata": {
        "id": "cROOztBs-_JW"
      }
    },
    {
      "cell_type": "markdown",
      "source": [
        "- `train_test_split`: Splits data into training and testing sets."
      ],
      "metadata": {
        "id": "1exsVl5U_CVU"
      }
    },
    {
      "cell_type": "code",
      "source": [
        "from sklearn.model_selection import train_test_split"
      ],
      "metadata": {
        "id": "-MZ_RjCw54KE"
      },
      "execution_count": 627,
      "outputs": []
    },
    {
      "cell_type": "markdown",
      "source": [
        "- Splits data into training (80%) and testing (20%) sets.\n",
        "\n",
        "- random_state=42 ensures reproducibility."
      ],
      "metadata": {
        "id": "XMpW75Fz_Qqk"
      }
    },
    {
      "cell_type": "code",
      "source": [
        "X_train, X_test, y_train, y_test = train_test_split(X, y_encoded, test_size=0.2, random_state=42)"
      ],
      "metadata": {
        "id": "V8B_H67bNt7B"
      },
      "execution_count": 628,
      "outputs": []
    },
    {
      "cell_type": "markdown",
      "source": [
        "## 6. **Decision Tree Model (Gini Criterion)**"
      ],
      "metadata": {
        "id": "iIWqPfpM_nTk"
      }
    },
    {
      "cell_type": "markdown",
      "source": [
        "#### - Import Packages"
      ],
      "metadata": {
        "id": "9CM4V6-dOpTF"
      }
    },
    {
      "cell_type": "markdown",
      "source": [
        "- `DecisionTreeClassifier`: Implements Decision Tree classification.\n",
        "\n",
        "- `GridSearchCV`: Performs hyperparameter tuning."
      ],
      "metadata": {
        "id": "X1ipvnC2_Xcx"
      }
    },
    {
      "cell_type": "code",
      "source": [
        "from sklearn.tree import DecisionTreeClassifier\n",
        "from sklearn.model_selection import GridSearchCV"
      ],
      "metadata": {
        "id": "3EKtpGj_52xb"
      },
      "execution_count": 629,
      "outputs": []
    },
    {
      "cell_type": "markdown",
      "source": [
        "#### - Perform Hyperparameter Tuning using Grid Search and Cross Validation"
      ],
      "metadata": {
        "id": "6JzvpHNEOtV3"
      }
    },
    {
      "cell_type": "markdown",
      "source": [
        "- Performs hyperparameter tuning to find the optimal depth of the tree.\n",
        "- max_depth controls how deep the decision tree can grow.\n",
        "- range(1, 20) tests all values from 1 to 19 (i.e., 19 different depths).\n",
        "- param_grid: Specifies that max_depth should be tuned between 1 and 19.\n",
        "- scoring='accuracy': Evaluates models based on accuracy (higher is better).\n",
        "- Uses cross-validation (cv=5)."
      ],
      "metadata": {
        "id": "igfGJHxe_rSM"
      }
    },
    {
      "cell_type": "code",
      "source": [
        "param_grid = {'max_depth': range(1, 20)}\n",
        "grid_search_gini = GridSearchCV(DecisionTreeClassifier(criterion=\"gini\", random_state=42), param_grid, cv=5, scoring='accuracy')\n",
        "grid_search_gini.fit(X_train, y_train)\n",
        "best_max_depth_gini = grid_search_gini.best_params_['max_depth']\n",
        "print(f\"Optimal Max Depth for Decision Tree (Gini): {best_max_depth_gini}\")"
      ],
      "metadata": {
        "colab": {
          "base_uri": "https://localhost:8080/"
        },
        "id": "5plpXQQKiUVA",
        "outputId": "3125c643-f381-4716-dd3f-e0b49b5e3d9c"
      },
      "execution_count": 630,
      "outputs": [
        {
          "output_type": "stream",
          "name": "stdout",
          "text": [
            "Optimal Max Depth for Decision Tree (Gini): 5\n"
          ]
        }
      ]
    },
    {
      "cell_type": "markdown",
      "source": [
        "#### - Train the model"
      ],
      "metadata": {
        "id": "7__FEvu3O3AG"
      }
    },
    {
      "cell_type": "markdown",
      "source": [
        "- Trains the Decision Tree classifier using the Gini index.\n",
        "\n",
        "- Measures execution time and memory usage."
      ],
      "metadata": {
        "id": "3kQd-YZu_63e"
      }
    },
    {
      "cell_type": "markdown",
      "source": [
        "- `tracemalloc.get_traced_memory()`\n",
        "  - This function returns a tuple:(current_memory, peak_memory)\n",
        "    - current_memory → Memory currently allocated (in bytes).\n",
        "    - peak_memory → Peak memory usage during execution (in bytes).\n",
        "\n",
        "  we only need the current_memory and throw away the peak_memory\n",
        "\n",
        "  - `tree_clf_gini` - to predict class labels for X_test and stores the results in y_pred_gini"
      ],
      "metadata": {
        "id": "RZp_0vPeMP9L"
      }
    },
    {
      "cell_type": "code",
      "source": [
        "time_start = time.time()\n",
        "tracemalloc.start()\n",
        "tree_clf_gini = DecisionTreeClassifier(criterion=\"gini\", max_depth=best_max_depth_gini, random_state=42)\n",
        "tree_clf_gini.fit(X_train, y_train)\n",
        "gini_memory, _ = tracemalloc.get_traced_memory()\n",
        "gini_time = time.time() - time_start\n",
        "tracemalloc.stop()"
      ],
      "metadata": {
        "id": "CevWdgEOPDt_"
      },
      "execution_count": 631,
      "outputs": []
    },
    {
      "cell_type": "code",
      "source": [
        "tree_clf_gini"
      ],
      "metadata": {
        "colab": {
          "base_uri": "https://localhost:8080/",
          "height": 80
        },
        "id": "8qVnehWvTBSl",
        "outputId": "e62d494a-b833-4004-c9e2-fa03a940dc46"
      },
      "execution_count": 632,
      "outputs": [
        {
          "output_type": "execute_result",
          "data": {
            "text/plain": [
              "DecisionTreeClassifier(max_depth=5, random_state=42)"
            ],
            "text/html": [
              "<style>#sk-container-id-10 {\n",
              "  /* Definition of color scheme common for light and dark mode */\n",
              "  --sklearn-color-text: #000;\n",
              "  --sklearn-color-text-muted: #666;\n",
              "  --sklearn-color-line: gray;\n",
              "  /* Definition of color scheme for unfitted estimators */\n",
              "  --sklearn-color-unfitted-level-0: #fff5e6;\n",
              "  --sklearn-color-unfitted-level-1: #f6e4d2;\n",
              "  --sklearn-color-unfitted-level-2: #ffe0b3;\n",
              "  --sklearn-color-unfitted-level-3: chocolate;\n",
              "  /* Definition of color scheme for fitted estimators */\n",
              "  --sklearn-color-fitted-level-0: #f0f8ff;\n",
              "  --sklearn-color-fitted-level-1: #d4ebff;\n",
              "  --sklearn-color-fitted-level-2: #b3dbfd;\n",
              "  --sklearn-color-fitted-level-3: cornflowerblue;\n",
              "\n",
              "  /* Specific color for light theme */\n",
              "  --sklearn-color-text-on-default-background: var(--sg-text-color, var(--theme-code-foreground, var(--jp-content-font-color1, black)));\n",
              "  --sklearn-color-background: var(--sg-background-color, var(--theme-background, var(--jp-layout-color0, white)));\n",
              "  --sklearn-color-border-box: var(--sg-text-color, var(--theme-code-foreground, var(--jp-content-font-color1, black)));\n",
              "  --sklearn-color-icon: #696969;\n",
              "\n",
              "  @media (prefers-color-scheme: dark) {\n",
              "    /* Redefinition of color scheme for dark theme */\n",
              "    --sklearn-color-text-on-default-background: var(--sg-text-color, var(--theme-code-foreground, var(--jp-content-font-color1, white)));\n",
              "    --sklearn-color-background: var(--sg-background-color, var(--theme-background, var(--jp-layout-color0, #111)));\n",
              "    --sklearn-color-border-box: var(--sg-text-color, var(--theme-code-foreground, var(--jp-content-font-color1, white)));\n",
              "    --sklearn-color-icon: #878787;\n",
              "  }\n",
              "}\n",
              "\n",
              "#sk-container-id-10 {\n",
              "  color: var(--sklearn-color-text);\n",
              "}\n",
              "\n",
              "#sk-container-id-10 pre {\n",
              "  padding: 0;\n",
              "}\n",
              "\n",
              "#sk-container-id-10 input.sk-hidden--visually {\n",
              "  border: 0;\n",
              "  clip: rect(1px 1px 1px 1px);\n",
              "  clip: rect(1px, 1px, 1px, 1px);\n",
              "  height: 1px;\n",
              "  margin: -1px;\n",
              "  overflow: hidden;\n",
              "  padding: 0;\n",
              "  position: absolute;\n",
              "  width: 1px;\n",
              "}\n",
              "\n",
              "#sk-container-id-10 div.sk-dashed-wrapped {\n",
              "  border: 1px dashed var(--sklearn-color-line);\n",
              "  margin: 0 0.4em 0.5em 0.4em;\n",
              "  box-sizing: border-box;\n",
              "  padding-bottom: 0.4em;\n",
              "  background-color: var(--sklearn-color-background);\n",
              "}\n",
              "\n",
              "#sk-container-id-10 div.sk-container {\n",
              "  /* jupyter's `normalize.less` sets `[hidden] { display: none; }`\n",
              "     but bootstrap.min.css set `[hidden] { display: none !important; }`\n",
              "     so we also need the `!important` here to be able to override the\n",
              "     default hidden behavior on the sphinx rendered scikit-learn.org.\n",
              "     See: https://github.com/scikit-learn/scikit-learn/issues/21755 */\n",
              "  display: inline-block !important;\n",
              "  position: relative;\n",
              "}\n",
              "\n",
              "#sk-container-id-10 div.sk-text-repr-fallback {\n",
              "  display: none;\n",
              "}\n",
              "\n",
              "div.sk-parallel-item,\n",
              "div.sk-serial,\n",
              "div.sk-item {\n",
              "  /* draw centered vertical line to link estimators */\n",
              "  background-image: linear-gradient(var(--sklearn-color-text-on-default-background), var(--sklearn-color-text-on-default-background));\n",
              "  background-size: 2px 100%;\n",
              "  background-repeat: no-repeat;\n",
              "  background-position: center center;\n",
              "}\n",
              "\n",
              "/* Parallel-specific style estimator block */\n",
              "\n",
              "#sk-container-id-10 div.sk-parallel-item::after {\n",
              "  content: \"\";\n",
              "  width: 100%;\n",
              "  border-bottom: 2px solid var(--sklearn-color-text-on-default-background);\n",
              "  flex-grow: 1;\n",
              "}\n",
              "\n",
              "#sk-container-id-10 div.sk-parallel {\n",
              "  display: flex;\n",
              "  align-items: stretch;\n",
              "  justify-content: center;\n",
              "  background-color: var(--sklearn-color-background);\n",
              "  position: relative;\n",
              "}\n",
              "\n",
              "#sk-container-id-10 div.sk-parallel-item {\n",
              "  display: flex;\n",
              "  flex-direction: column;\n",
              "}\n",
              "\n",
              "#sk-container-id-10 div.sk-parallel-item:first-child::after {\n",
              "  align-self: flex-end;\n",
              "  width: 50%;\n",
              "}\n",
              "\n",
              "#sk-container-id-10 div.sk-parallel-item:last-child::after {\n",
              "  align-self: flex-start;\n",
              "  width: 50%;\n",
              "}\n",
              "\n",
              "#sk-container-id-10 div.sk-parallel-item:only-child::after {\n",
              "  width: 0;\n",
              "}\n",
              "\n",
              "/* Serial-specific style estimator block */\n",
              "\n",
              "#sk-container-id-10 div.sk-serial {\n",
              "  display: flex;\n",
              "  flex-direction: column;\n",
              "  align-items: center;\n",
              "  background-color: var(--sklearn-color-background);\n",
              "  padding-right: 1em;\n",
              "  padding-left: 1em;\n",
              "}\n",
              "\n",
              "\n",
              "/* Toggleable style: style used for estimator/Pipeline/ColumnTransformer box that is\n",
              "clickable and can be expanded/collapsed.\n",
              "- Pipeline and ColumnTransformer use this feature and define the default style\n",
              "- Estimators will overwrite some part of the style using the `sk-estimator` class\n",
              "*/\n",
              "\n",
              "/* Pipeline and ColumnTransformer style (default) */\n",
              "\n",
              "#sk-container-id-10 div.sk-toggleable {\n",
              "  /* Default theme specific background. It is overwritten whether we have a\n",
              "  specific estimator or a Pipeline/ColumnTransformer */\n",
              "  background-color: var(--sklearn-color-background);\n",
              "}\n",
              "\n",
              "/* Toggleable label */\n",
              "#sk-container-id-10 label.sk-toggleable__label {\n",
              "  cursor: pointer;\n",
              "  display: flex;\n",
              "  width: 100%;\n",
              "  margin-bottom: 0;\n",
              "  padding: 0.5em;\n",
              "  box-sizing: border-box;\n",
              "  text-align: center;\n",
              "  align-items: start;\n",
              "  justify-content: space-between;\n",
              "  gap: 0.5em;\n",
              "}\n",
              "\n",
              "#sk-container-id-10 label.sk-toggleable__label .caption {\n",
              "  font-size: 0.6rem;\n",
              "  font-weight: lighter;\n",
              "  color: var(--sklearn-color-text-muted);\n",
              "}\n",
              "\n",
              "#sk-container-id-10 label.sk-toggleable__label-arrow:before {\n",
              "  /* Arrow on the left of the label */\n",
              "  content: \"▸\";\n",
              "  float: left;\n",
              "  margin-right: 0.25em;\n",
              "  color: var(--sklearn-color-icon);\n",
              "}\n",
              "\n",
              "#sk-container-id-10 label.sk-toggleable__label-arrow:hover:before {\n",
              "  color: var(--sklearn-color-text);\n",
              "}\n",
              "\n",
              "/* Toggleable content - dropdown */\n",
              "\n",
              "#sk-container-id-10 div.sk-toggleable__content {\n",
              "  max-height: 0;\n",
              "  max-width: 0;\n",
              "  overflow: hidden;\n",
              "  text-align: left;\n",
              "  /* unfitted */\n",
              "  background-color: var(--sklearn-color-unfitted-level-0);\n",
              "}\n",
              "\n",
              "#sk-container-id-10 div.sk-toggleable__content.fitted {\n",
              "  /* fitted */\n",
              "  background-color: var(--sklearn-color-fitted-level-0);\n",
              "}\n",
              "\n",
              "#sk-container-id-10 div.sk-toggleable__content pre {\n",
              "  margin: 0.2em;\n",
              "  border-radius: 0.25em;\n",
              "  color: var(--sklearn-color-text);\n",
              "  /* unfitted */\n",
              "  background-color: var(--sklearn-color-unfitted-level-0);\n",
              "}\n",
              "\n",
              "#sk-container-id-10 div.sk-toggleable__content.fitted pre {\n",
              "  /* unfitted */\n",
              "  background-color: var(--sklearn-color-fitted-level-0);\n",
              "}\n",
              "\n",
              "#sk-container-id-10 input.sk-toggleable__control:checked~div.sk-toggleable__content {\n",
              "  /* Expand drop-down */\n",
              "  max-height: 200px;\n",
              "  max-width: 100%;\n",
              "  overflow: auto;\n",
              "}\n",
              "\n",
              "#sk-container-id-10 input.sk-toggleable__control:checked~label.sk-toggleable__label-arrow:before {\n",
              "  content: \"▾\";\n",
              "}\n",
              "\n",
              "/* Pipeline/ColumnTransformer-specific style */\n",
              "\n",
              "#sk-container-id-10 div.sk-label input.sk-toggleable__control:checked~label.sk-toggleable__label {\n",
              "  color: var(--sklearn-color-text);\n",
              "  background-color: var(--sklearn-color-unfitted-level-2);\n",
              "}\n",
              "\n",
              "#sk-container-id-10 div.sk-label.fitted input.sk-toggleable__control:checked~label.sk-toggleable__label {\n",
              "  background-color: var(--sklearn-color-fitted-level-2);\n",
              "}\n",
              "\n",
              "/* Estimator-specific style */\n",
              "\n",
              "/* Colorize estimator box */\n",
              "#sk-container-id-10 div.sk-estimator input.sk-toggleable__control:checked~label.sk-toggleable__label {\n",
              "  /* unfitted */\n",
              "  background-color: var(--sklearn-color-unfitted-level-2);\n",
              "}\n",
              "\n",
              "#sk-container-id-10 div.sk-estimator.fitted input.sk-toggleable__control:checked~label.sk-toggleable__label {\n",
              "  /* fitted */\n",
              "  background-color: var(--sklearn-color-fitted-level-2);\n",
              "}\n",
              "\n",
              "#sk-container-id-10 div.sk-label label.sk-toggleable__label,\n",
              "#sk-container-id-10 div.sk-label label {\n",
              "  /* The background is the default theme color */\n",
              "  color: var(--sklearn-color-text-on-default-background);\n",
              "}\n",
              "\n",
              "/* On hover, darken the color of the background */\n",
              "#sk-container-id-10 div.sk-label:hover label.sk-toggleable__label {\n",
              "  color: var(--sklearn-color-text);\n",
              "  background-color: var(--sklearn-color-unfitted-level-2);\n",
              "}\n",
              "\n",
              "/* Label box, darken color on hover, fitted */\n",
              "#sk-container-id-10 div.sk-label.fitted:hover label.sk-toggleable__label.fitted {\n",
              "  color: var(--sklearn-color-text);\n",
              "  background-color: var(--sklearn-color-fitted-level-2);\n",
              "}\n",
              "\n",
              "/* Estimator label */\n",
              "\n",
              "#sk-container-id-10 div.sk-label label {\n",
              "  font-family: monospace;\n",
              "  font-weight: bold;\n",
              "  display: inline-block;\n",
              "  line-height: 1.2em;\n",
              "}\n",
              "\n",
              "#sk-container-id-10 div.sk-label-container {\n",
              "  text-align: center;\n",
              "}\n",
              "\n",
              "/* Estimator-specific */\n",
              "#sk-container-id-10 div.sk-estimator {\n",
              "  font-family: monospace;\n",
              "  border: 1px dotted var(--sklearn-color-border-box);\n",
              "  border-radius: 0.25em;\n",
              "  box-sizing: border-box;\n",
              "  margin-bottom: 0.5em;\n",
              "  /* unfitted */\n",
              "  background-color: var(--sklearn-color-unfitted-level-0);\n",
              "}\n",
              "\n",
              "#sk-container-id-10 div.sk-estimator.fitted {\n",
              "  /* fitted */\n",
              "  background-color: var(--sklearn-color-fitted-level-0);\n",
              "}\n",
              "\n",
              "/* on hover */\n",
              "#sk-container-id-10 div.sk-estimator:hover {\n",
              "  /* unfitted */\n",
              "  background-color: var(--sklearn-color-unfitted-level-2);\n",
              "}\n",
              "\n",
              "#sk-container-id-10 div.sk-estimator.fitted:hover {\n",
              "  /* fitted */\n",
              "  background-color: var(--sklearn-color-fitted-level-2);\n",
              "}\n",
              "\n",
              "/* Specification for estimator info (e.g. \"i\" and \"?\") */\n",
              "\n",
              "/* Common style for \"i\" and \"?\" */\n",
              "\n",
              ".sk-estimator-doc-link,\n",
              "a:link.sk-estimator-doc-link,\n",
              "a:visited.sk-estimator-doc-link {\n",
              "  float: right;\n",
              "  font-size: smaller;\n",
              "  line-height: 1em;\n",
              "  font-family: monospace;\n",
              "  background-color: var(--sklearn-color-background);\n",
              "  border-radius: 1em;\n",
              "  height: 1em;\n",
              "  width: 1em;\n",
              "  text-decoration: none !important;\n",
              "  margin-left: 0.5em;\n",
              "  text-align: center;\n",
              "  /* unfitted */\n",
              "  border: var(--sklearn-color-unfitted-level-1) 1pt solid;\n",
              "  color: var(--sklearn-color-unfitted-level-1);\n",
              "}\n",
              "\n",
              ".sk-estimator-doc-link.fitted,\n",
              "a:link.sk-estimator-doc-link.fitted,\n",
              "a:visited.sk-estimator-doc-link.fitted {\n",
              "  /* fitted */\n",
              "  border: var(--sklearn-color-fitted-level-1) 1pt solid;\n",
              "  color: var(--sklearn-color-fitted-level-1);\n",
              "}\n",
              "\n",
              "/* On hover */\n",
              "div.sk-estimator:hover .sk-estimator-doc-link:hover,\n",
              ".sk-estimator-doc-link:hover,\n",
              "div.sk-label-container:hover .sk-estimator-doc-link:hover,\n",
              ".sk-estimator-doc-link:hover {\n",
              "  /* unfitted */\n",
              "  background-color: var(--sklearn-color-unfitted-level-3);\n",
              "  color: var(--sklearn-color-background);\n",
              "  text-decoration: none;\n",
              "}\n",
              "\n",
              "div.sk-estimator.fitted:hover .sk-estimator-doc-link.fitted:hover,\n",
              ".sk-estimator-doc-link.fitted:hover,\n",
              "div.sk-label-container:hover .sk-estimator-doc-link.fitted:hover,\n",
              ".sk-estimator-doc-link.fitted:hover {\n",
              "  /* fitted */\n",
              "  background-color: var(--sklearn-color-fitted-level-3);\n",
              "  color: var(--sklearn-color-background);\n",
              "  text-decoration: none;\n",
              "}\n",
              "\n",
              "/* Span, style for the box shown on hovering the info icon */\n",
              ".sk-estimator-doc-link span {\n",
              "  display: none;\n",
              "  z-index: 9999;\n",
              "  position: relative;\n",
              "  font-weight: normal;\n",
              "  right: .2ex;\n",
              "  padding: .5ex;\n",
              "  margin: .5ex;\n",
              "  width: min-content;\n",
              "  min-width: 20ex;\n",
              "  max-width: 50ex;\n",
              "  color: var(--sklearn-color-text);\n",
              "  box-shadow: 2pt 2pt 4pt #999;\n",
              "  /* unfitted */\n",
              "  background: var(--sklearn-color-unfitted-level-0);\n",
              "  border: .5pt solid var(--sklearn-color-unfitted-level-3);\n",
              "}\n",
              "\n",
              ".sk-estimator-doc-link.fitted span {\n",
              "  /* fitted */\n",
              "  background: var(--sklearn-color-fitted-level-0);\n",
              "  border: var(--sklearn-color-fitted-level-3);\n",
              "}\n",
              "\n",
              ".sk-estimator-doc-link:hover span {\n",
              "  display: block;\n",
              "}\n",
              "\n",
              "/* \"?\"-specific style due to the `<a>` HTML tag */\n",
              "\n",
              "#sk-container-id-10 a.estimator_doc_link {\n",
              "  float: right;\n",
              "  font-size: 1rem;\n",
              "  line-height: 1em;\n",
              "  font-family: monospace;\n",
              "  background-color: var(--sklearn-color-background);\n",
              "  border-radius: 1rem;\n",
              "  height: 1rem;\n",
              "  width: 1rem;\n",
              "  text-decoration: none;\n",
              "  /* unfitted */\n",
              "  color: var(--sklearn-color-unfitted-level-1);\n",
              "  border: var(--sklearn-color-unfitted-level-1) 1pt solid;\n",
              "}\n",
              "\n",
              "#sk-container-id-10 a.estimator_doc_link.fitted {\n",
              "  /* fitted */\n",
              "  border: var(--sklearn-color-fitted-level-1) 1pt solid;\n",
              "  color: var(--sklearn-color-fitted-level-1);\n",
              "}\n",
              "\n",
              "/* On hover */\n",
              "#sk-container-id-10 a.estimator_doc_link:hover {\n",
              "  /* unfitted */\n",
              "  background-color: var(--sklearn-color-unfitted-level-3);\n",
              "  color: var(--sklearn-color-background);\n",
              "  text-decoration: none;\n",
              "}\n",
              "\n",
              "#sk-container-id-10 a.estimator_doc_link.fitted:hover {\n",
              "  /* fitted */\n",
              "  background-color: var(--sklearn-color-fitted-level-3);\n",
              "}\n",
              "</style><div id=\"sk-container-id-10\" class=\"sk-top-container\"><div class=\"sk-text-repr-fallback\"><pre>DecisionTreeClassifier(max_depth=5, random_state=42)</pre><b>In a Jupyter environment, please rerun this cell to show the HTML representation or trust the notebook. <br />On GitHub, the HTML representation is unable to render, please try loading this page with nbviewer.org.</b></div><div class=\"sk-container\" hidden><div class=\"sk-item\"><div class=\"sk-estimator fitted sk-toggleable\"><input class=\"sk-toggleable__control sk-hidden--visually\" id=\"sk-estimator-id-10\" type=\"checkbox\" checked><label for=\"sk-estimator-id-10\" class=\"sk-toggleable__label fitted sk-toggleable__label-arrow\"><div><div>DecisionTreeClassifier</div></div><div><a class=\"sk-estimator-doc-link fitted\" rel=\"noreferrer\" target=\"_blank\" href=\"https://scikit-learn.org/1.6/modules/generated/sklearn.tree.DecisionTreeClassifier.html\">?<span>Documentation for DecisionTreeClassifier</span></a><span class=\"sk-estimator-doc-link fitted\">i<span>Fitted</span></span></div></label><div class=\"sk-toggleable__content fitted\"><pre>DecisionTreeClassifier(max_depth=5, random_state=42)</pre></div> </div></div></div></div>"
            ]
          },
          "metadata": {},
          "execution_count": 632
        }
      ]
    },
    {
      "cell_type": "markdown",
      "source": [
        "#### - Predict"
      ],
      "metadata": {
        "id": "wX6TmXU8O9Y1"
      }
    },
    {
      "cell_type": "markdown",
      "source": [
        "- `tree_clf_gini.predict(X_test)`:\n",
        "  - Uses the trained Decision Tree (tree_clf_gini) to predict labels for the test data (X_test).\n",
        "  - Returns an array of predicted values for each sample in X_test.\n"
      ],
      "metadata": {
        "id": "pHrqaCr2SpZ3"
      }
    },
    {
      "cell_type": "code",
      "source": [
        "y_pred_gini = tree_clf_gini.predict(X_test)\n",
        "y_pred_gini"
      ],
      "metadata": {
        "colab": {
          "base_uri": "https://localhost:8080/"
        },
        "id": "PshjIeiSfmoB",
        "outputId": "04f3b2a4-f2ba-463b-8463-8df4fbb66e23"
      },
      "execution_count": 633,
      "outputs": [
        {
          "output_type": "execute_result",
          "data": {
            "text/plain": [
              "array([0, 0, 0, ..., 0, 1, 0])"
            ]
          },
          "metadata": {},
          "execution_count": 633
        }
      ]
    },
    {
      "cell_type": "markdown",
      "source": [
        "#### - Evaluate accuracy on test data."
      ],
      "metadata": {
        "id": "5sEJn_SUAAne"
      }
    },
    {
      "cell_type": "code",
      "source": [
        "dt_gini_accuracy = tree_clf_gini.score(X_test, y_test)\n",
        "dt_gini_accuracy"
      ],
      "metadata": {
        "colab": {
          "base_uri": "https://localhost:8080/"
        },
        "id": "glXnAqrJ_3Sc",
        "outputId": "daad1970-d716-4bf6-bb97-a9a476ad692f"
      },
      "execution_count": 634,
      "outputs": [
        {
          "output_type": "execute_result",
          "data": {
            "text/plain": [
              "0.9146637533381888"
            ]
          },
          "metadata": {},
          "execution_count": 634
        }
      ]
    },
    {
      "cell_type": "code",
      "source": [
        "print(f\"Decision Tree (Gini) Accuracy: {dt_gini_accuracy:.4f}\")\n",
        "print(f\"Decision Tree (Gini) Time Taken: {gini_time:.4f} seconds\")\n",
        "print(f\"Decision Tree (Gini) Memory Used: {gini_memory / 1e6:.2f} MB\")\n"
      ],
      "metadata": {
        "colab": {
          "base_uri": "https://localhost:8080/"
        },
        "id": "bbEx1-ddVPO2",
        "outputId": "4133825e-20a4-4f68-cb8e-2ccb23524601"
      },
      "execution_count": 635,
      "outputs": [
        {
          "output_type": "stream",
          "name": "stdout",
          "text": [
            "Decision Tree (Gini) Accuracy: 0.9147\n",
            "Decision Tree (Gini) Time Taken: 0.0694 seconds\n",
            "Decision Tree (Gini) Memory Used: 0.03 MB\n"
          ]
        }
      ]
    },
    {
      "cell_type": "markdown",
      "source": [
        "#### - Visualize the Decision Tree"
      ],
      "metadata": {
        "id": "zPrg82N0N-Q_"
      }
    },
    {
      "cell_type": "markdown",
      "source": [
        "- `export_graphviz`, `graphviz.Source`: Visualizes decision trees."
      ],
      "metadata": {
        "id": "u9HyRxn8Bosh"
      }
    },
    {
      "cell_type": "code",
      "source": [
        "from sklearn.tree import export_graphviz\n",
        "from graphviz import Source"
      ],
      "metadata": {
        "id": "N9sokp_96D8s"
      },
      "execution_count": 636,
      "outputs": []
    },
    {
      "cell_type": "markdown",
      "source": [
        "- `export_graphviz()` - Export Decision Tree\n",
        "- `export_graphviz()` - Converts the Decision Tree into a .dot file (Graphviz format) for visualization.\n",
        "- `out_file=str(IMAGES_PATH / \"decision_tree.dot\")` - Saves the tree structure as a .dot file.\n",
        "- `feature_names=X_encoded.columns` - Labels the tree nodes with feature names.\n",
        "- `rounded=True`  Makes the node edges rounded for better visualization.\n",
        "- `filled=True` - Colors the nodes based on class distribution."
      ],
      "metadata": {
        "id": "o5wRZdsMNErn"
      }
    },
    {
      "cell_type": "code",
      "source": [
        "export_graphviz(\n",
        "    tree_clf_gini,\n",
        "    out_file=str(IMAGES_PATH / \"decision_tree.dot\"),\n",
        "    feature_names=X.columns,\n",
        "    rounded=True,\n",
        "    filled=True\n",
        ")\n",
        "Source.from_file(IMAGES_PATH / \"decision_tree.dot\")"
      ],
      "metadata": {
        "colab": {
          "base_uri": "https://localhost:8080/",
          "height": 816
        },
        "id": "-s-dhWSaPFms",
        "outputId": "1d07ad6f-f677-494e-d598-2418e871b635"
      },
      "execution_count": 637,
      "outputs": [
        {
          "output_type": "execute_result",
          "data": {
            "image/svg+xml": "<?xml version=\"1.0\" encoding=\"UTF-8\" standalone=\"no\"?>\n<!DOCTYPE svg PUBLIC \"-//W3C//DTD SVG 1.1//EN\"\n \"http://www.w3.org/Graphics/SVG/1.1/DTD/svg11.dtd\">\n<!-- Generated by graphviz version 2.43.0 (0)\n -->\n<!-- Title: Tree Pages: 1 -->\n<svg width=\"4342pt\" height=\"581pt\"\n viewBox=\"0.00 0.00 4341.50 581.00\" xmlns=\"http://www.w3.org/2000/svg\" xmlns:xlink=\"http://www.w3.org/1999/xlink\">\n<g id=\"graph0\" class=\"graph\" transform=\"scale(1 1) rotate(0) translate(4 577)\">\n<title>Tree</title>\n<polygon fill=\"white\" stroke=\"transparent\" points=\"-4,4 -4,-577 4337.5,-577 4337.5,4 -4,4\"/>\n<!-- 0 -->\n<g id=\"node1\" class=\"node\">\n<title>0</title>\n<path fill=\"#e89152\" stroke=\"black\" d=\"M2190,-573C2190,-573 2050,-573 2050,-573 2044,-573 2038,-567 2038,-561 2038,-561 2038,-517 2038,-517 2038,-511 2044,-505 2050,-505 2050,-505 2190,-505 2190,-505 2196,-505 2202,-511 2202,-517 2202,-517 2202,-561 2202,-561 2202,-567 2196,-573 2190,-573\"/>\n<text text-anchor=\"middle\" x=\"2120\" y=\"-557.8\" font-family=\"Helvetica,sans-Serif\" font-size=\"14.00\">nr.employed &lt;= 5087.65</text>\n<text text-anchor=\"middle\" x=\"2120\" y=\"-542.8\" font-family=\"Helvetica,sans-Serif\" font-size=\"14.00\">gini = 0.2</text>\n<text text-anchor=\"middle\" x=\"2120\" y=\"-527.8\" font-family=\"Helvetica,sans-Serif\" font-size=\"14.00\">samples = 32950</text>\n<text text-anchor=\"middle\" x=\"2120\" y=\"-512.8\" font-family=\"Helvetica,sans-Serif\" font-size=\"14.00\">value = [29245, 3705]</text>\n</g>\n<!-- 1 -->\n<g id=\"node2\" class=\"node\">\n<title>1</title>\n<path fill=\"#fae7d9\" stroke=\"black\" d=\"M1603,-469C1603,-469 1487,-469 1487,-469 1481,-469 1475,-463 1475,-457 1475,-457 1475,-413 1475,-413 1475,-407 1481,-401 1487,-401 1487,-401 1603,-401 1603,-401 1609,-401 1615,-407 1615,-413 1615,-413 1615,-457 1615,-457 1615,-463 1609,-469 1603,-469\"/>\n<text text-anchor=\"middle\" x=\"1545\" y=\"-453.8\" font-family=\"Helvetica,sans-Serif\" font-size=\"14.00\">duration &lt;= 165.5</text>\n<text text-anchor=\"middle\" x=\"1545\" y=\"-438.8\" font-family=\"Helvetica,sans-Serif\" font-size=\"14.00\">gini = 0.494</text>\n<text text-anchor=\"middle\" x=\"1545\" y=\"-423.8\" font-family=\"Helvetica,sans-Serif\" font-size=\"14.00\">samples = 3976</text>\n<text text-anchor=\"middle\" x=\"1545\" y=\"-408.8\" font-family=\"Helvetica,sans-Serif\" font-size=\"14.00\">value = [2199, 1777]</text>\n</g>\n<!-- 0&#45;&gt;1 -->\n<g id=\"edge1\" class=\"edge\">\n<title>0&#45;&gt;1</title>\n<path fill=\"none\" stroke=\"black\" d=\"M2037.92,-523.44C1927.94,-503.93 1734.01,-469.53 1625.07,-450.2\"/>\n<polygon fill=\"black\" stroke=\"black\" points=\"1625.58,-446.74 1615.12,-448.44 1624.35,-453.63 1625.58,-446.74\"/>\n<text text-anchor=\"middle\" x=\"1629.44\" y=\"-465.23\" font-family=\"Helvetica,sans-Serif\" font-size=\"14.00\">True</text>\n</g>\n<!-- 32 -->\n<g id=\"node33\" class=\"node\">\n<title>32</title>\n<path fill=\"#e78a47\" stroke=\"black\" d=\"M2667.5,-469C2667.5,-469 2544.5,-469 2544.5,-469 2538.5,-469 2532.5,-463 2532.5,-457 2532.5,-457 2532.5,-413 2532.5,-413 2532.5,-407 2538.5,-401 2544.5,-401 2544.5,-401 2667.5,-401 2667.5,-401 2673.5,-401 2679.5,-407 2679.5,-413 2679.5,-413 2679.5,-457 2679.5,-457 2679.5,-463 2673.5,-469 2667.5,-469\"/>\n<text text-anchor=\"middle\" x=\"2606\" y=\"-453.8\" font-family=\"Helvetica,sans-Serif\" font-size=\"14.00\">duration &lt;= 525.5</text>\n<text text-anchor=\"middle\" x=\"2606\" y=\"-438.8\" font-family=\"Helvetica,sans-Serif\" font-size=\"14.00\">gini = 0.124</text>\n<text text-anchor=\"middle\" x=\"2606\" y=\"-423.8\" font-family=\"Helvetica,sans-Serif\" font-size=\"14.00\">samples = 28974</text>\n<text text-anchor=\"middle\" x=\"2606\" y=\"-408.8\" font-family=\"Helvetica,sans-Serif\" font-size=\"14.00\">value = [27046, 1928]</text>\n</g>\n<!-- 0&#45;&gt;32 -->\n<g id=\"edge32\" class=\"edge\">\n<title>0&#45;&gt;32</title>\n<path fill=\"none\" stroke=\"black\" d=\"M2202.17,-520.75C2291.26,-502.06 2432.71,-472.37 2522.37,-453.55\"/>\n<polygon fill=\"black\" stroke=\"black\" points=\"2523.16,-456.96 2532.23,-451.48 2521.72,-450.11 2523.16,-456.96\"/>\n<text text-anchor=\"middle\" x=\"2518.56\" y=\"-468.71\" font-family=\"Helvetica,sans-Serif\" font-size=\"14.00\">False</text>\n</g>\n<!-- 2 -->\n<g id=\"node3\" class=\"node\">\n<title>2</title>\n<path fill=\"#ea9a60\" stroke=\"black\" d=\"M804,-365C804,-365 696,-365 696,-365 690,-365 684,-359 684,-353 684,-353 684,-309 684,-309 684,-303 690,-297 696,-297 696,-297 804,-297 804,-297 810,-297 816,-303 816,-309 816,-309 816,-353 816,-353 816,-359 810,-365 804,-365\"/>\n<text text-anchor=\"middle\" x=\"750\" y=\"-349.8\" font-family=\"Helvetica,sans-Serif\" font-size=\"14.00\">pdays &lt;= 7.5</text>\n<text text-anchor=\"middle\" x=\"750\" y=\"-334.8\" font-family=\"Helvetica,sans-Serif\" font-size=\"14.00\">gini = 0.274</text>\n<text text-anchor=\"middle\" x=\"750\" y=\"-319.8\" font-family=\"Helvetica,sans-Serif\" font-size=\"14.00\">samples = 1440</text>\n<text text-anchor=\"middle\" x=\"750\" y=\"-304.8\" font-family=\"Helvetica,sans-Serif\" font-size=\"14.00\">value = [1204, 236]</text>\n</g>\n<!-- 1&#45;&gt;2 -->\n<g id=\"edge2\" class=\"edge\">\n<title>1&#45;&gt;2</title>\n<path fill=\"none\" stroke=\"black\" d=\"M1474.8,-424.99C1326.15,-405.92 980.65,-361.59 826.56,-341.82\"/>\n<polygon fill=\"black\" stroke=\"black\" points=\"826.61,-338.3 816.25,-340.5 825.72,-345.24 826.61,-338.3\"/>\n</g>\n<!-- 17 -->\n<g id=\"node18\" class=\"node\">\n<title>17</title>\n<path fill=\"#b9dcf6\" stroke=\"black\" d=\"M1599,-365C1599,-365 1491,-365 1491,-365 1485,-365 1479,-359 1479,-353 1479,-353 1479,-309 1479,-309 1479,-303 1485,-297 1491,-297 1491,-297 1599,-297 1599,-297 1605,-297 1611,-303 1611,-309 1611,-309 1611,-353 1611,-353 1611,-359 1605,-365 1599,-365\"/>\n<text text-anchor=\"middle\" x=\"1545\" y=\"-349.8\" font-family=\"Helvetica,sans-Serif\" font-size=\"14.00\">pdays &lt;= 15.5</text>\n<text text-anchor=\"middle\" x=\"1545\" y=\"-334.8\" font-family=\"Helvetica,sans-Serif\" font-size=\"14.00\">gini = 0.477</text>\n<text text-anchor=\"middle\" x=\"1545\" y=\"-319.8\" font-family=\"Helvetica,sans-Serif\" font-size=\"14.00\">samples = 2536</text>\n<text text-anchor=\"middle\" x=\"1545\" y=\"-304.8\" font-family=\"Helvetica,sans-Serif\" font-size=\"14.00\">value = [995, 1541]</text>\n</g>\n<!-- 1&#45;&gt;17 -->\n<g id=\"edge17\" class=\"edge\">\n<title>1&#45;&gt;17</title>\n<path fill=\"none\" stroke=\"black\" d=\"M1545,-400.88C1545,-392.78 1545,-383.98 1545,-375.47\"/>\n<polygon fill=\"black\" stroke=\"black\" points=\"1548.5,-375.3 1545,-365.3 1541.5,-375.3 1548.5,-375.3\"/>\n</g>\n<!-- 3 -->\n<g id=\"node4\" class=\"node\">\n<title>3</title>\n<path fill=\"#f6d3ba\" stroke=\"black\" d=\"M450,-261C450,-261 276,-261 276,-261 270,-261 264,-255 264,-249 264,-249 264,-205 264,-205 264,-199 270,-193 276,-193 276,-193 450,-193 450,-193 456,-193 462,-199 462,-205 462,-205 462,-249 462,-249 462,-255 456,-261 450,-261\"/>\n<text text-anchor=\"middle\" x=\"363\" y=\"-245.8\" font-family=\"Helvetica,sans-Serif\" font-size=\"14.00\">day_of_week_encoded &lt;= 1.5</text>\n<text text-anchor=\"middle\" x=\"363\" y=\"-230.8\" font-family=\"Helvetica,sans-Serif\" font-size=\"14.00\">gini = 0.478</text>\n<text text-anchor=\"middle\" x=\"363\" y=\"-215.8\" font-family=\"Helvetica,sans-Serif\" font-size=\"14.00\">samples = 190</text>\n<text text-anchor=\"middle\" x=\"363\" y=\"-200.8\" font-family=\"Helvetica,sans-Serif\" font-size=\"14.00\">value = [115, 75]</text>\n</g>\n<!-- 2&#45;&gt;3 -->\n<g id=\"edge3\" class=\"edge\">\n<title>2&#45;&gt;3</title>\n<path fill=\"none\" stroke=\"black\" d=\"M683.91,-312.58C625.89,-297.29 540.34,-274.74 472.17,-256.77\"/>\n<polygon fill=\"black\" stroke=\"black\" points=\"472.8,-253.32 462.24,-254.16 471.02,-260.09 472.8,-253.32\"/>\n</g>\n<!-- 10 -->\n<g id=\"node11\" class=\"node\">\n<title>10</title>\n<path fill=\"#e99456\" stroke=\"black\" d=\"M804,-261C804,-261 696,-261 696,-261 690,-261 684,-255 684,-249 684,-249 684,-205 684,-205 684,-199 690,-193 696,-193 696,-193 804,-193 804,-193 810,-193 816,-199 816,-205 816,-205 816,-249 816,-249 816,-255 810,-261 804,-261\"/>\n<text text-anchor=\"middle\" x=\"750\" y=\"-245.8\" font-family=\"Helvetica,sans-Serif\" font-size=\"14.00\">duration &lt;= 123.5</text>\n<text text-anchor=\"middle\" x=\"750\" y=\"-230.8\" font-family=\"Helvetica,sans-Serif\" font-size=\"14.00\">gini = 0.224</text>\n<text text-anchor=\"middle\" x=\"750\" y=\"-215.8\" font-family=\"Helvetica,sans-Serif\" font-size=\"14.00\">samples = 1250</text>\n<text text-anchor=\"middle\" x=\"750\" y=\"-200.8\" font-family=\"Helvetica,sans-Serif\" font-size=\"14.00\">value = [1089, 161]</text>\n</g>\n<!-- 2&#45;&gt;10 -->\n<g id=\"edge10\" class=\"edge\">\n<title>2&#45;&gt;10</title>\n<path fill=\"none\" stroke=\"black\" d=\"M750,-296.88C750,-288.78 750,-279.98 750,-271.47\"/>\n<polygon fill=\"black\" stroke=\"black\" points=\"753.5,-271.3 750,-261.3 746.5,-271.3 753.5,-271.3\"/>\n</g>\n<!-- 4 -->\n<g id=\"node5\" class=\"node\">\n<title>4</title>\n<path fill=\"#eca26d\" stroke=\"black\" d=\"M217.5,-157C217.5,-157 118.5,-157 118.5,-157 112.5,-157 106.5,-151 106.5,-145 106.5,-145 106.5,-101 106.5,-101 106.5,-95 112.5,-89 118.5,-89 118.5,-89 217.5,-89 217.5,-89 223.5,-89 229.5,-95 229.5,-101 229.5,-101 229.5,-145 229.5,-145 229.5,-151 223.5,-157 217.5,-157\"/>\n<text text-anchor=\"middle\" x=\"168\" y=\"-141.8\" font-family=\"Helvetica,sans-Serif\" font-size=\"14.00\">duration &lt;= 158.5</text>\n<text text-anchor=\"middle\" x=\"168\" y=\"-126.8\" font-family=\"Helvetica,sans-Serif\" font-size=\"14.00\">gini = 0.329</text>\n<text text-anchor=\"middle\" x=\"168\" y=\"-111.8\" font-family=\"Helvetica,sans-Serif\" font-size=\"14.00\">samples = 53</text>\n<text text-anchor=\"middle\" x=\"168\" y=\"-96.8\" font-family=\"Helvetica,sans-Serif\" font-size=\"14.00\">value = [42, 11]</text>\n</g>\n<!-- 3&#45;&gt;4 -->\n<g id=\"edge4\" class=\"edge\">\n<title>3&#45;&gt;4</title>\n<path fill=\"none\" stroke=\"black\" d=\"M299.69,-192.88C280.21,-182.69 258.64,-171.41 238.7,-160.98\"/>\n<polygon fill=\"black\" stroke=\"black\" points=\"240.15,-157.79 229.66,-156.25 236.9,-163.99 240.15,-157.79\"/>\n</g>\n<!-- 7 -->\n<g id=\"node8\" class=\"node\">\n<title>7</title>\n<path fill=\"#fcefe7\" stroke=\"black\" d=\"M412.5,-157C412.5,-157 313.5,-157 313.5,-157 307.5,-157 301.5,-151 301.5,-145 301.5,-145 301.5,-101 301.5,-101 301.5,-95 307.5,-89 313.5,-89 313.5,-89 412.5,-89 412.5,-89 418.5,-89 424.5,-95 424.5,-101 424.5,-101 424.5,-145 424.5,-145 424.5,-151 418.5,-157 412.5,-157\"/>\n<text text-anchor=\"middle\" x=\"363\" y=\"-141.8\" font-family=\"Helvetica,sans-Serif\" font-size=\"14.00\">duration &lt;= 127.5</text>\n<text text-anchor=\"middle\" x=\"363\" y=\"-126.8\" font-family=\"Helvetica,sans-Serif\" font-size=\"14.00\">gini = 0.498</text>\n<text text-anchor=\"middle\" x=\"363\" y=\"-111.8\" font-family=\"Helvetica,sans-Serif\" font-size=\"14.00\">samples = 137</text>\n<text text-anchor=\"middle\" x=\"363\" y=\"-96.8\" font-family=\"Helvetica,sans-Serif\" font-size=\"14.00\">value = [73, 64]</text>\n</g>\n<!-- 3&#45;&gt;7 -->\n<g id=\"edge7\" class=\"edge\">\n<title>3&#45;&gt;7</title>\n<path fill=\"none\" stroke=\"black\" d=\"M363,-192.88C363,-184.78 363,-175.98 363,-167.47\"/>\n<polygon fill=\"black\" stroke=\"black\" points=\"366.5,-167.3 363,-157.3 359.5,-167.3 366.5,-167.3\"/>\n</g>\n<!-- 5 -->\n<g id=\"node6\" class=\"node\">\n<title>5</title>\n<path fill=\"#e9975b\" stroke=\"black\" d=\"M90,-53C90,-53 12,-53 12,-53 6,-53 0,-47 0,-41 0,-41 0,-12 0,-12 0,-6 6,0 12,0 12,0 90,0 90,0 96,0 102,-6 102,-12 102,-12 102,-41 102,-41 102,-47 96,-53 90,-53\"/>\n<text text-anchor=\"middle\" x=\"51\" y=\"-37.8\" font-family=\"Helvetica,sans-Serif\" font-size=\"14.00\">gini = 0.249</text>\n<text text-anchor=\"middle\" x=\"51\" y=\"-22.8\" font-family=\"Helvetica,sans-Serif\" font-size=\"14.00\">samples = 48</text>\n<text text-anchor=\"middle\" x=\"51\" y=\"-7.8\" font-family=\"Helvetica,sans-Serif\" font-size=\"14.00\">value = [41, 7]</text>\n</g>\n<!-- 4&#45;&gt;5 -->\n<g id=\"edge5\" class=\"edge\">\n<title>4&#45;&gt;5</title>\n<path fill=\"none\" stroke=\"black\" d=\"M127.08,-88.95C115.3,-79.43 102.47,-69.07 90.76,-59.62\"/>\n<polygon fill=\"black\" stroke=\"black\" points=\"92.84,-56.8 82.86,-53.24 88.44,-62.24 92.84,-56.8\"/>\n</g>\n<!-- 6 -->\n<g id=\"node7\" class=\"node\">\n<title>6</title>\n<path fill=\"#6ab6ec\" stroke=\"black\" d=\"M203.5,-53C203.5,-53 132.5,-53 132.5,-53 126.5,-53 120.5,-47 120.5,-41 120.5,-41 120.5,-12 120.5,-12 120.5,-6 126.5,0 132.5,0 132.5,0 203.5,0 203.5,0 209.5,0 215.5,-6 215.5,-12 215.5,-12 215.5,-41 215.5,-41 215.5,-47 209.5,-53 203.5,-53\"/>\n<text text-anchor=\"middle\" x=\"168\" y=\"-37.8\" font-family=\"Helvetica,sans-Serif\" font-size=\"14.00\">gini = 0.32</text>\n<text text-anchor=\"middle\" x=\"168\" y=\"-22.8\" font-family=\"Helvetica,sans-Serif\" font-size=\"14.00\">samples = 5</text>\n<text text-anchor=\"middle\" x=\"168\" y=\"-7.8\" font-family=\"Helvetica,sans-Serif\" font-size=\"14.00\">value = [1, 4]</text>\n</g>\n<!-- 4&#45;&gt;6 -->\n<g id=\"edge6\" class=\"edge\">\n<title>4&#45;&gt;6</title>\n<path fill=\"none\" stroke=\"black\" d=\"M168,-88.95C168,-80.72 168,-71.85 168,-63.48\"/>\n<polygon fill=\"black\" stroke=\"black\" points=\"171.5,-63.24 168,-53.24 164.5,-63.24 171.5,-63.24\"/>\n</g>\n<!-- 8 -->\n<g id=\"node9\" class=\"node\">\n<title>8</title>\n<path fill=\"#f3c5a4\" stroke=\"black\" d=\"M332,-53C332,-53 246,-53 246,-53 240,-53 234,-47 234,-41 234,-41 234,-12 234,-12 234,-6 240,0 246,0 246,0 332,0 332,0 338,0 344,-6 344,-12 344,-12 344,-41 344,-41 344,-47 338,-53 332,-53\"/>\n<text text-anchor=\"middle\" x=\"289\" y=\"-37.8\" font-family=\"Helvetica,sans-Serif\" font-size=\"14.00\">gini = 0.455</text>\n<text text-anchor=\"middle\" x=\"289\" y=\"-22.8\" font-family=\"Helvetica,sans-Serif\" font-size=\"14.00\">samples = 80</text>\n<text text-anchor=\"middle\" x=\"289\" y=\"-7.8\" font-family=\"Helvetica,sans-Serif\" font-size=\"14.00\">value = [52, 28]</text>\n</g>\n<!-- 7&#45;&gt;8 -->\n<g id=\"edge8\" class=\"edge\">\n<title>7&#45;&gt;8</title>\n<path fill=\"none\" stroke=\"black\" d=\"M337.12,-88.95C330.1,-79.98 322.49,-70.27 315.44,-61.26\"/>\n<polygon fill=\"black\" stroke=\"black\" points=\"318.07,-58.95 309.15,-53.24 312.56,-63.27 318.07,-58.95\"/>\n</g>\n<!-- 9 -->\n<g id=\"node10\" class=\"node\">\n<title>9</title>\n<path fill=\"#acd6f4\" stroke=\"black\" d=\"M460,-53C460,-53 374,-53 374,-53 368,-53 362,-47 362,-41 362,-41 362,-12 362,-12 362,-6 368,0 374,0 374,0 460,0 460,0 466,0 472,-6 472,-12 472,-12 472,-41 472,-41 472,-47 466,-53 460,-53\"/>\n<text text-anchor=\"middle\" x=\"417\" y=\"-37.8\" font-family=\"Helvetica,sans-Serif\" font-size=\"14.00\">gini = 0.465</text>\n<text text-anchor=\"middle\" x=\"417\" y=\"-22.8\" font-family=\"Helvetica,sans-Serif\" font-size=\"14.00\">samples = 57</text>\n<text text-anchor=\"middle\" x=\"417\" y=\"-7.8\" font-family=\"Helvetica,sans-Serif\" font-size=\"14.00\">value = [21, 36]</text>\n</g>\n<!-- 7&#45;&gt;9 -->\n<g id=\"edge9\" class=\"edge\">\n<title>7&#45;&gt;9</title>\n<path fill=\"none\" stroke=\"black\" d=\"M381.89,-88.95C386.85,-80.26 392.22,-70.86 397.23,-62.09\"/>\n<polygon fill=\"black\" stroke=\"black\" points=\"400.37,-63.66 402.29,-53.24 394.29,-60.18 400.37,-63.66\"/>\n</g>\n<!-- 11 -->\n<g id=\"node12\" class=\"node\">\n<title>11</title>\n<path fill=\"#e78b49\" stroke=\"black\" d=\"M723,-157C723,-157 607,-157 607,-157 601,-157 595,-151 595,-145 595,-145 595,-101 595,-101 595,-95 601,-89 607,-89 607,-89 723,-89 723,-89 729,-89 735,-95 735,-101 735,-101 735,-145 735,-145 735,-151 729,-157 723,-157\"/>\n<text text-anchor=\"middle\" x=\"665\" y=\"-141.8\" font-family=\"Helvetica,sans-Serif\" font-size=\"14.00\">duration &lt;= 77.5</text>\n<text text-anchor=\"middle\" x=\"665\" y=\"-126.8\" font-family=\"Helvetica,sans-Serif\" font-size=\"14.00\">gini = 0.141</text>\n<text text-anchor=\"middle\" x=\"665\" y=\"-111.8\" font-family=\"Helvetica,sans-Serif\" font-size=\"14.00\">samples = 825</text>\n<text text-anchor=\"middle\" x=\"665\" y=\"-96.8\" font-family=\"Helvetica,sans-Serif\" font-size=\"14.00\">value = [762.0, 63.0]</text>\n</g>\n<!-- 10&#45;&gt;11 -->\n<g id=\"edge11\" class=\"edge\">\n<title>10&#45;&gt;11</title>\n<path fill=\"none\" stroke=\"black\" d=\"M722.4,-192.88C715.05,-184.07 707.03,-174.43 699.36,-165.24\"/>\n<polygon fill=\"black\" stroke=\"black\" points=\"701.84,-162.74 692.75,-157.3 696.46,-167.22 701.84,-162.74\"/>\n</g>\n<!-- 14 -->\n<g id=\"node15\" class=\"node\">\n<title>14</title>\n<path fill=\"#eda774\" stroke=\"black\" d=\"M905,-157C905,-157 765,-157 765,-157 759,-157 753,-151 753,-145 753,-145 753,-101 753,-101 753,-95 759,-89 765,-89 765,-89 905,-89 905,-89 911,-89 917,-95 917,-101 917,-101 917,-145 917,-145 917,-151 911,-157 905,-157\"/>\n<text text-anchor=\"middle\" x=\"835\" y=\"-141.8\" font-family=\"Helvetica,sans-Serif\" font-size=\"14.00\">cons.price.idx &lt;= 93.951</text>\n<text text-anchor=\"middle\" x=\"835\" y=\"-126.8\" font-family=\"Helvetica,sans-Serif\" font-size=\"14.00\">gini = 0.355</text>\n<text text-anchor=\"middle\" x=\"835\" y=\"-111.8\" font-family=\"Helvetica,sans-Serif\" font-size=\"14.00\">samples = 425</text>\n<text text-anchor=\"middle\" x=\"835\" y=\"-96.8\" font-family=\"Helvetica,sans-Serif\" font-size=\"14.00\">value = [327, 98]</text>\n</g>\n<!-- 10&#45;&gt;14 -->\n<g id=\"edge14\" class=\"edge\">\n<title>10&#45;&gt;14</title>\n<path fill=\"none\" stroke=\"black\" d=\"M777.6,-192.88C784.95,-184.07 792.97,-174.43 800.64,-165.24\"/>\n<polygon fill=\"black\" stroke=\"black\" points=\"803.54,-167.22 807.25,-157.3 798.16,-162.74 803.54,-167.22\"/>\n</g>\n<!-- 12 -->\n<g id=\"node13\" class=\"node\">\n<title>12</title>\n<path fill=\"#e5833c\" stroke=\"black\" d=\"M588,-53C588,-53 502,-53 502,-53 496,-53 490,-47 490,-41 490,-41 490,-12 490,-12 490,-6 496,0 502,0 502,0 588,0 588,0 594,0 600,-6 600,-12 600,-12 600,-41 600,-41 600,-47 594,-53 588,-53\"/>\n<text text-anchor=\"middle\" x=\"545\" y=\"-37.8\" font-family=\"Helvetica,sans-Serif\" font-size=\"14.00\">gini = 0.025</text>\n<text text-anchor=\"middle\" x=\"545\" y=\"-22.8\" font-family=\"Helvetica,sans-Serif\" font-size=\"14.00\">samples = 313</text>\n<text text-anchor=\"middle\" x=\"545\" y=\"-7.8\" font-family=\"Helvetica,sans-Serif\" font-size=\"14.00\">value = [309, 4]</text>\n</g>\n<!-- 11&#45;&gt;12 -->\n<g id=\"edge12\" class=\"edge\">\n<title>11&#45;&gt;12</title>\n<path fill=\"none\" stroke=\"black\" d=\"M623.03,-88.95C610.95,-79.43 597.79,-69.07 585.78,-59.62\"/>\n<polygon fill=\"black\" stroke=\"black\" points=\"587.7,-56.67 577.68,-53.24 583.37,-62.17 587.7,-56.67\"/>\n</g>\n<!-- 13 -->\n<g id=\"node14\" class=\"node\">\n<title>13</title>\n<path fill=\"#e89153\" stroke=\"black\" d=\"M723.5,-53C723.5,-53 630.5,-53 630.5,-53 624.5,-53 618.5,-47 618.5,-41 618.5,-41 618.5,-12 618.5,-12 618.5,-6 624.5,0 630.5,0 630.5,0 723.5,0 723.5,0 729.5,0 735.5,-6 735.5,-12 735.5,-12 735.5,-41 735.5,-41 735.5,-47 729.5,-53 723.5,-53\"/>\n<text text-anchor=\"middle\" x=\"677\" y=\"-37.8\" font-family=\"Helvetica,sans-Serif\" font-size=\"14.00\">gini = 0.204</text>\n<text text-anchor=\"middle\" x=\"677\" y=\"-22.8\" font-family=\"Helvetica,sans-Serif\" font-size=\"14.00\">samples = 512</text>\n<text text-anchor=\"middle\" x=\"677\" y=\"-7.8\" font-family=\"Helvetica,sans-Serif\" font-size=\"14.00\">value = [453, 59]</text>\n</g>\n<!-- 11&#45;&gt;13 -->\n<g id=\"edge13\" class=\"edge\">\n<title>11&#45;&gt;13</title>\n<path fill=\"none\" stroke=\"black\" d=\"M669.2,-88.95C670.25,-80.62 671.39,-71.65 672.47,-63.2\"/>\n<polygon fill=\"black\" stroke=\"black\" points=\"675.94,-63.6 673.73,-53.24 669,-62.72 675.94,-63.6\"/>\n</g>\n<!-- 15 -->\n<g id=\"node16\" class=\"node\">\n<title>15</title>\n<path fill=\"#efb184\" stroke=\"black\" d=\"M882,-53C882,-53 766,-53 766,-53 760,-53 754,-47 754,-41 754,-41 754,-12 754,-12 754,-6 760,0 766,0 766,0 882,0 882,0 888,0 894,-6 894,-12 894,-12 894,-41 894,-41 894,-47 888,-53 882,-53\"/>\n<text text-anchor=\"middle\" x=\"824\" y=\"-37.8\" font-family=\"Helvetica,sans-Serif\" font-size=\"14.00\">gini = 0.399</text>\n<text text-anchor=\"middle\" x=\"824\" y=\"-22.8\" font-family=\"Helvetica,sans-Serif\" font-size=\"14.00\">samples = 334</text>\n<text text-anchor=\"middle\" x=\"824\" y=\"-7.8\" font-family=\"Helvetica,sans-Serif\" font-size=\"14.00\">value = [242.0, 92.0]</text>\n</g>\n<!-- 14&#45;&gt;15 -->\n<g id=\"edge15\" class=\"edge\">\n<title>14&#45;&gt;15</title>\n<path fill=\"none\" stroke=\"black\" d=\"M831.15,-88.95C830.18,-80.62 829.14,-71.65 828.16,-63.2\"/>\n<polygon fill=\"black\" stroke=\"black\" points=\"831.63,-62.76 827,-53.24 824.68,-63.57 831.63,-62.76\"/>\n</g>\n<!-- 16 -->\n<g id=\"node17\" class=\"node\">\n<title>16</title>\n<path fill=\"#e78a47\" stroke=\"black\" d=\"M1002,-53C1002,-53 924,-53 924,-53 918,-53 912,-47 912,-41 912,-41 912,-12 912,-12 912,-6 918,0 924,0 924,0 1002,0 1002,0 1008,0 1014,-6 1014,-12 1014,-12 1014,-41 1014,-41 1014,-47 1008,-53 1002,-53\"/>\n<text text-anchor=\"middle\" x=\"963\" y=\"-37.8\" font-family=\"Helvetica,sans-Serif\" font-size=\"14.00\">gini = 0.123</text>\n<text text-anchor=\"middle\" x=\"963\" y=\"-22.8\" font-family=\"Helvetica,sans-Serif\" font-size=\"14.00\">samples = 91</text>\n<text text-anchor=\"middle\" x=\"963\" y=\"-7.8\" font-family=\"Helvetica,sans-Serif\" font-size=\"14.00\">value = [85, 6]</text>\n</g>\n<!-- 14&#45;&gt;16 -->\n<g id=\"edge16\" class=\"edge\">\n<title>14&#45;&gt;16</title>\n<path fill=\"none\" stroke=\"black\" d=\"M879.77,-88.95C892.78,-79.34 906.96,-68.87 919.87,-59.34\"/>\n<polygon fill=\"black\" stroke=\"black\" points=\"922.17,-61.99 928.14,-53.24 918.02,-56.36 922.17,-61.99\"/>\n</g>\n<!-- 18 -->\n<g id=\"node19\" class=\"node\">\n<title>18</title>\n<path fill=\"#66b3eb\" stroke=\"black\" d=\"M1475.5,-261C1475.5,-261 1374.5,-261 1374.5,-261 1368.5,-261 1362.5,-255 1362.5,-249 1362.5,-249 1362.5,-205 1362.5,-205 1362.5,-199 1368.5,-193 1374.5,-193 1374.5,-193 1475.5,-193 1475.5,-193 1481.5,-193 1487.5,-199 1487.5,-205 1487.5,-205 1487.5,-249 1487.5,-249 1487.5,-255 1481.5,-261 1475.5,-261\"/>\n<text text-anchor=\"middle\" x=\"1425\" y=\"-245.8\" font-family=\"Helvetica,sans-Serif\" font-size=\"14.00\">campaign &lt;= 6.5</text>\n<text text-anchor=\"middle\" x=\"1425\" y=\"-230.8\" font-family=\"Helvetica,sans-Serif\" font-size=\"14.00\">gini = 0.304</text>\n<text text-anchor=\"middle\" x=\"1425\" y=\"-215.8\" font-family=\"Helvetica,sans-Serif\" font-size=\"14.00\">samples = 745</text>\n<text text-anchor=\"middle\" x=\"1425\" y=\"-200.8\" font-family=\"Helvetica,sans-Serif\" font-size=\"14.00\">value = [139, 606]</text>\n</g>\n<!-- 17&#45;&gt;18 -->\n<g id=\"edge18\" class=\"edge\">\n<title>17&#45;&gt;18</title>\n<path fill=\"none\" stroke=\"black\" d=\"M1506.04,-296.88C1495.14,-287.62 1483.18,-277.45 1471.88,-267.85\"/>\n<polygon fill=\"black\" stroke=\"black\" points=\"1474.06,-265.11 1464.18,-261.3 1469.53,-270.44 1474.06,-265.11\"/>\n</g>\n<!-- 25 -->\n<g id=\"node26\" class=\"node\">\n<title>25</title>\n<path fill=\"#eef7fd\" stroke=\"black\" d=\"M1722.5,-261C1722.5,-261 1621.5,-261 1621.5,-261 1615.5,-261 1609.5,-255 1609.5,-249 1609.5,-249 1609.5,-205 1609.5,-205 1609.5,-199 1615.5,-193 1621.5,-193 1621.5,-193 1722.5,-193 1722.5,-193 1728.5,-193 1734.5,-199 1734.5,-205 1734.5,-205 1734.5,-249 1734.5,-249 1734.5,-255 1728.5,-261 1722.5,-261\"/>\n<text text-anchor=\"middle\" x=\"1672\" y=\"-245.8\" font-family=\"Helvetica,sans-Serif\" font-size=\"14.00\">duration &lt;= 264.5</text>\n<text text-anchor=\"middle\" x=\"1672\" y=\"-230.8\" font-family=\"Helvetica,sans-Serif\" font-size=\"14.00\">gini = 0.499</text>\n<text text-anchor=\"middle\" x=\"1672\" y=\"-215.8\" font-family=\"Helvetica,sans-Serif\" font-size=\"14.00\">samples = 1791</text>\n<text text-anchor=\"middle\" x=\"1672\" y=\"-200.8\" font-family=\"Helvetica,sans-Serif\" font-size=\"14.00\">value = [856, 935]</text>\n</g>\n<!-- 17&#45;&gt;25 -->\n<g id=\"edge25\" class=\"edge\">\n<title>17&#45;&gt;25</title>\n<path fill=\"none\" stroke=\"black\" d=\"M1586.23,-296.88C1597.88,-287.53 1610.67,-277.26 1622.73,-267.57\"/>\n<polygon fill=\"black\" stroke=\"black\" points=\"1624.93,-270.29 1630.54,-261.3 1620.55,-264.83 1624.93,-270.29\"/>\n</g>\n<!-- 19 -->\n<g id=\"node20\" class=\"node\">\n<title>19</title>\n<path fill=\"#65b3eb\" stroke=\"black\" d=\"M1287,-157C1287,-157 1175,-157 1175,-157 1169,-157 1163,-151 1163,-145 1163,-145 1163,-101 1163,-101 1163,-95 1169,-89 1175,-89 1175,-89 1287,-89 1287,-89 1293,-89 1299,-95 1299,-101 1299,-101 1299,-145 1299,-145 1299,-151 1293,-157 1287,-157\"/>\n<text text-anchor=\"middle\" x=\"1231\" y=\"-141.8\" font-family=\"Helvetica,sans-Serif\" font-size=\"14.00\">euribor3m &lt;= 0.968</text>\n<text text-anchor=\"middle\" x=\"1231\" y=\"-126.8\" font-family=\"Helvetica,sans-Serif\" font-size=\"14.00\">gini = 0.298</text>\n<text text-anchor=\"middle\" x=\"1231\" y=\"-111.8\" font-family=\"Helvetica,sans-Serif\" font-size=\"14.00\">samples = 740</text>\n<text text-anchor=\"middle\" x=\"1231\" y=\"-96.8\" font-family=\"Helvetica,sans-Serif\" font-size=\"14.00\">value = [135, 605]</text>\n</g>\n<!-- 18&#45;&gt;19 -->\n<g id=\"edge19\" class=\"edge\">\n<title>18&#45;&gt;19</title>\n<path fill=\"none\" stroke=\"black\" d=\"M1362.28,-193.02C1343.27,-183.03 1322.25,-171.98 1302.7,-161.7\"/>\n<polygon fill=\"black\" stroke=\"black\" points=\"1304.31,-158.59 1293.83,-157.04 1301.06,-164.79 1304.31,-158.59\"/>\n</g>\n<!-- 22 -->\n<g id=\"node23\" class=\"node\">\n<title>22</title>\n<path fill=\"#eca06a\" stroke=\"black\" d=\"M1481,-157C1481,-157 1369,-157 1369,-157 1363,-157 1357,-151 1357,-145 1357,-145 1357,-101 1357,-101 1357,-95 1363,-89 1369,-89 1369,-89 1481,-89 1481,-89 1487,-89 1493,-95 1493,-101 1493,-101 1493,-145 1493,-145 1493,-151 1487,-157 1481,-157\"/>\n<text text-anchor=\"middle\" x=\"1425\" y=\"-141.8\" font-family=\"Helvetica,sans-Serif\" font-size=\"14.00\">euribor3m &lt;= 0.762</text>\n<text text-anchor=\"middle\" x=\"1425\" y=\"-126.8\" font-family=\"Helvetica,sans-Serif\" font-size=\"14.00\">gini = 0.32</text>\n<text text-anchor=\"middle\" x=\"1425\" y=\"-111.8\" font-family=\"Helvetica,sans-Serif\" font-size=\"14.00\">samples = 5</text>\n<text text-anchor=\"middle\" x=\"1425\" y=\"-96.8\" font-family=\"Helvetica,sans-Serif\" font-size=\"14.00\">value = [4, 1]</text>\n</g>\n<!-- 18&#45;&gt;22 -->\n<g id=\"edge22\" class=\"edge\">\n<title>18&#45;&gt;22</title>\n<path fill=\"none\" stroke=\"black\" d=\"M1425,-192.88C1425,-184.78 1425,-175.98 1425,-167.47\"/>\n<polygon fill=\"black\" stroke=\"black\" points=\"1428.5,-167.3 1425,-157.3 1421.5,-167.3 1428.5,-167.3\"/>\n</g>\n<!-- 20 -->\n<g id=\"node21\" class=\"node\">\n<title>20</title>\n<path fill=\"#60b0ea\" stroke=\"black\" d=\"M1145.5,-53C1145.5,-53 1044.5,-53 1044.5,-53 1038.5,-53 1032.5,-47 1032.5,-41 1032.5,-41 1032.5,-12 1032.5,-12 1032.5,-6 1038.5,0 1044.5,0 1044.5,0 1145.5,0 1145.5,0 1151.5,0 1157.5,-6 1157.5,-12 1157.5,-12 1157.5,-41 1157.5,-41 1157.5,-47 1151.5,-53 1145.5,-53\"/>\n<text text-anchor=\"middle\" x=\"1095\" y=\"-37.8\" font-family=\"Helvetica,sans-Serif\" font-size=\"14.00\">gini = 0.276</text>\n<text text-anchor=\"middle\" x=\"1095\" y=\"-22.8\" font-family=\"Helvetica,sans-Serif\" font-size=\"14.00\">samples = 616</text>\n<text text-anchor=\"middle\" x=\"1095\" y=\"-7.8\" font-family=\"Helvetica,sans-Serif\" font-size=\"14.00\">value = [102, 514]</text>\n</g>\n<!-- 19&#45;&gt;20 -->\n<g id=\"edge20\" class=\"edge\">\n<title>19&#45;&gt;20</title>\n<path fill=\"none\" stroke=\"black\" d=\"M1183.43,-88.95C1169.48,-79.25 1154.26,-68.68 1140.44,-59.07\"/>\n<polygon fill=\"black\" stroke=\"black\" points=\"1142.25,-56.07 1132.04,-53.24 1138.25,-61.82 1142.25,-56.07\"/>\n</g>\n<!-- 21 -->\n<g id=\"node22\" class=\"node\">\n<title>21</title>\n<path fill=\"#81c1ee\" stroke=\"black\" d=\"M1274,-53C1274,-53 1188,-53 1188,-53 1182,-53 1176,-47 1176,-41 1176,-41 1176,-12 1176,-12 1176,-6 1182,0 1188,0 1188,0 1274,0 1274,0 1280,0 1286,-6 1286,-12 1286,-12 1286,-41 1286,-41 1286,-47 1280,-53 1274,-53\"/>\n<text text-anchor=\"middle\" x=\"1231\" y=\"-37.8\" font-family=\"Helvetica,sans-Serif\" font-size=\"14.00\">gini = 0.391</text>\n<text text-anchor=\"middle\" x=\"1231\" y=\"-22.8\" font-family=\"Helvetica,sans-Serif\" font-size=\"14.00\">samples = 124</text>\n<text text-anchor=\"middle\" x=\"1231\" y=\"-7.8\" font-family=\"Helvetica,sans-Serif\" font-size=\"14.00\">value = [33, 91]</text>\n</g>\n<!-- 19&#45;&gt;21 -->\n<g id=\"edge21\" class=\"edge\">\n<title>19&#45;&gt;21</title>\n<path fill=\"none\" stroke=\"black\" d=\"M1231,-88.95C1231,-80.72 1231,-71.85 1231,-63.48\"/>\n<polygon fill=\"black\" stroke=\"black\" points=\"1234.5,-63.24 1231,-53.24 1227.5,-63.24 1234.5,-63.24\"/>\n</g>\n<!-- 23 -->\n<g id=\"node24\" class=\"node\">\n<title>23</title>\n<path fill=\"#399de5\" stroke=\"black\" d=\"M1387.5,-53C1387.5,-53 1316.5,-53 1316.5,-53 1310.5,-53 1304.5,-47 1304.5,-41 1304.5,-41 1304.5,-12 1304.5,-12 1304.5,-6 1310.5,0 1316.5,0 1316.5,0 1387.5,0 1387.5,0 1393.5,0 1399.5,-6 1399.5,-12 1399.5,-12 1399.5,-41 1399.5,-41 1399.5,-47 1393.5,-53 1387.5,-53\"/>\n<text text-anchor=\"middle\" x=\"1352\" y=\"-37.8\" font-family=\"Helvetica,sans-Serif\" font-size=\"14.00\">gini = 0.0</text>\n<text text-anchor=\"middle\" x=\"1352\" y=\"-22.8\" font-family=\"Helvetica,sans-Serif\" font-size=\"14.00\">samples = 1</text>\n<text text-anchor=\"middle\" x=\"1352\" y=\"-7.8\" font-family=\"Helvetica,sans-Serif\" font-size=\"14.00\">value = [0, 1]</text>\n</g>\n<!-- 22&#45;&gt;23 -->\n<g id=\"edge23\" class=\"edge\">\n<title>22&#45;&gt;23</title>\n<path fill=\"none\" stroke=\"black\" d=\"M1399.47,-88.95C1392.54,-79.98 1385.04,-70.27 1378.08,-61.26\"/>\n<polygon fill=\"black\" stroke=\"black\" points=\"1380.76,-59.01 1371.88,-53.24 1375.22,-63.29 1380.76,-59.01\"/>\n</g>\n<!-- 24 -->\n<g id=\"node25\" class=\"node\">\n<title>24</title>\n<path fill=\"#e58139\" stroke=\"black\" d=\"M1500.5,-53C1500.5,-53 1429.5,-53 1429.5,-53 1423.5,-53 1417.5,-47 1417.5,-41 1417.5,-41 1417.5,-12 1417.5,-12 1417.5,-6 1423.5,0 1429.5,0 1429.5,0 1500.5,0 1500.5,0 1506.5,0 1512.5,-6 1512.5,-12 1512.5,-12 1512.5,-41 1512.5,-41 1512.5,-47 1506.5,-53 1500.5,-53\"/>\n<text text-anchor=\"middle\" x=\"1465\" y=\"-37.8\" font-family=\"Helvetica,sans-Serif\" font-size=\"14.00\">gini = 0.0</text>\n<text text-anchor=\"middle\" x=\"1465\" y=\"-22.8\" font-family=\"Helvetica,sans-Serif\" font-size=\"14.00\">samples = 4</text>\n<text text-anchor=\"middle\" x=\"1465\" y=\"-7.8\" font-family=\"Helvetica,sans-Serif\" font-size=\"14.00\">value = [4, 0]</text>\n</g>\n<!-- 22&#45;&gt;24 -->\n<g id=\"edge24\" class=\"edge\">\n<title>22&#45;&gt;24</title>\n<path fill=\"none\" stroke=\"black\" d=\"M1438.99,-88.95C1442.59,-80.44 1446.48,-71.26 1450.12,-62.65\"/>\n<polygon fill=\"black\" stroke=\"black\" points=\"1453.43,-63.81 1454.11,-53.24 1446.98,-61.08 1453.43,-63.81\"/>\n</g>\n<!-- 26 -->\n<g id=\"node27\" class=\"node\">\n<title>26</title>\n<path fill=\"#f6d1b7\" stroke=\"black\" d=\"M1733.5,-157C1733.5,-157 1610.5,-157 1610.5,-157 1604.5,-157 1598.5,-151 1598.5,-145 1598.5,-145 1598.5,-101 1598.5,-101 1598.5,-95 1604.5,-89 1610.5,-89 1610.5,-89 1733.5,-89 1733.5,-89 1739.5,-89 1745.5,-95 1745.5,-101 1745.5,-101 1745.5,-145 1745.5,-145 1745.5,-151 1739.5,-157 1733.5,-157\"/>\n<text text-anchor=\"middle\" x=\"1672\" y=\"-141.8\" font-family=\"Helvetica,sans-Serif\" font-size=\"14.00\">duration &lt;= 198.5</text>\n<text text-anchor=\"middle\" x=\"1672\" y=\"-126.8\" font-family=\"Helvetica,sans-Serif\" font-size=\"14.00\">gini = 0.475</text>\n<text text-anchor=\"middle\" x=\"1672\" y=\"-111.8\" font-family=\"Helvetica,sans-Serif\" font-size=\"14.00\">samples = 702</text>\n<text text-anchor=\"middle\" x=\"1672\" y=\"-96.8\" font-family=\"Helvetica,sans-Serif\" font-size=\"14.00\">value = [429.0, 273.0]</text>\n</g>\n<!-- 25&#45;&gt;26 -->\n<g id=\"edge26\" class=\"edge\">\n<title>25&#45;&gt;26</title>\n<path fill=\"none\" stroke=\"black\" d=\"M1672,-192.88C1672,-184.78 1672,-175.98 1672,-167.47\"/>\n<polygon fill=\"black\" stroke=\"black\" points=\"1675.5,-167.3 1672,-157.3 1668.5,-167.3 1675.5,-167.3\"/>\n</g>\n<!-- 29 -->\n<g id=\"node30\" class=\"node\">\n<title>29</title>\n<path fill=\"#b9dcf6\" stroke=\"black\" d=\"M1963,-157C1963,-157 1823,-157 1823,-157 1817,-157 1811,-151 1811,-145 1811,-145 1811,-101 1811,-101 1811,-95 1817,-89 1823,-89 1823,-89 1963,-89 1963,-89 1969,-89 1975,-95 1975,-101 1975,-101 1975,-145 1975,-145 1975,-151 1969,-157 1963,-157\"/>\n<text text-anchor=\"middle\" x=\"1893\" y=\"-141.8\" font-family=\"Helvetica,sans-Serif\" font-size=\"14.00\">cons.price.idx &lt;= 92.681</text>\n<text text-anchor=\"middle\" x=\"1893\" y=\"-126.8\" font-family=\"Helvetica,sans-Serif\" font-size=\"14.00\">gini = 0.477</text>\n<text text-anchor=\"middle\" x=\"1893\" y=\"-111.8\" font-family=\"Helvetica,sans-Serif\" font-size=\"14.00\">samples = 1089</text>\n<text text-anchor=\"middle\" x=\"1893\" y=\"-96.8\" font-family=\"Helvetica,sans-Serif\" font-size=\"14.00\">value = [427, 662]</text>\n</g>\n<!-- 25&#45;&gt;29 -->\n<g id=\"edge29\" class=\"edge\">\n<title>25&#45;&gt;29</title>\n<path fill=\"none\" stroke=\"black\" d=\"M1734.74,-197.04C1758.72,-185.98 1786.42,-173.19 1811.87,-161.44\"/>\n<polygon fill=\"black\" stroke=\"black\" points=\"1813.52,-164.54 1821.14,-157.17 1810.59,-158.18 1813.52,-164.54\"/>\n</g>\n<!-- 27 -->\n<g id=\"node28\" class=\"node\">\n<title>27</title>\n<path fill=\"#f0b58b\" stroke=\"black\" d=\"M1635.5,-53C1635.5,-53 1542.5,-53 1542.5,-53 1536.5,-53 1530.5,-47 1530.5,-41 1530.5,-41 1530.5,-12 1530.5,-12 1530.5,-6 1536.5,0 1542.5,0 1542.5,0 1635.5,0 1635.5,0 1641.5,0 1647.5,-6 1647.5,-12 1647.5,-12 1647.5,-41 1647.5,-41 1647.5,-47 1641.5,-53 1635.5,-53\"/>\n<text text-anchor=\"middle\" x=\"1589\" y=\"-37.8\" font-family=\"Helvetica,sans-Serif\" font-size=\"14.00\">gini = 0.414</text>\n<text text-anchor=\"middle\" x=\"1589\" y=\"-22.8\" font-family=\"Helvetica,sans-Serif\" font-size=\"14.00\">samples = 249</text>\n<text text-anchor=\"middle\" x=\"1589\" y=\"-7.8\" font-family=\"Helvetica,sans-Serif\" font-size=\"14.00\">value = [176, 73]</text>\n</g>\n<!-- 26&#45;&gt;27 -->\n<g id=\"edge27\" class=\"edge\">\n<title>26&#45;&gt;27</title>\n<path fill=\"none\" stroke=\"black\" d=\"M1642.97,-88.95C1635.02,-79.89 1626.39,-70.07 1618.41,-60.99\"/>\n<polygon fill=\"black\" stroke=\"black\" points=\"1620.83,-58.44 1611.6,-53.24 1615.57,-63.06 1620.83,-58.44\"/>\n</g>\n<!-- 28 -->\n<g id=\"node29\" class=\"node\">\n<title>28</title>\n<path fill=\"#fae5d6\" stroke=\"black\" d=\"M1800.5,-53C1800.5,-53 1677.5,-53 1677.5,-53 1671.5,-53 1665.5,-47 1665.5,-41 1665.5,-41 1665.5,-12 1665.5,-12 1665.5,-6 1671.5,0 1677.5,0 1677.5,0 1800.5,0 1800.5,0 1806.5,0 1812.5,-6 1812.5,-12 1812.5,-12 1812.5,-41 1812.5,-41 1812.5,-47 1806.5,-53 1800.5,-53\"/>\n<text text-anchor=\"middle\" x=\"1739\" y=\"-37.8\" font-family=\"Helvetica,sans-Serif\" font-size=\"14.00\">gini = 0.493</text>\n<text text-anchor=\"middle\" x=\"1739\" y=\"-22.8\" font-family=\"Helvetica,sans-Serif\" font-size=\"14.00\">samples = 453</text>\n<text text-anchor=\"middle\" x=\"1739\" y=\"-7.8\" font-family=\"Helvetica,sans-Serif\" font-size=\"14.00\">value = [253.0, 200.0]</text>\n</g>\n<!-- 26&#45;&gt;28 -->\n<g id=\"edge28\" class=\"edge\">\n<title>26&#45;&gt;28</title>\n<path fill=\"none\" stroke=\"black\" d=\"M1695.43,-88.95C1701.72,-80.07 1708.54,-70.46 1714.87,-61.54\"/>\n<polygon fill=\"black\" stroke=\"black\" points=\"1717.82,-63.42 1720.75,-53.24 1712.11,-59.37 1717.82,-63.42\"/>\n</g>\n<!-- 30 -->\n<g id=\"node31\" class=\"node\">\n<title>30</title>\n<path fill=\"#f4fafe\" stroke=\"black\" d=\"M1943.5,-53C1943.5,-53 1842.5,-53 1842.5,-53 1836.5,-53 1830.5,-47 1830.5,-41 1830.5,-41 1830.5,-12 1830.5,-12 1830.5,-6 1836.5,0 1842.5,0 1842.5,0 1943.5,0 1943.5,0 1949.5,0 1955.5,-6 1955.5,-12 1955.5,-12 1955.5,-41 1955.5,-41 1955.5,-47 1949.5,-53 1943.5,-53\"/>\n<text text-anchor=\"middle\" x=\"1893\" y=\"-37.8\" font-family=\"Helvetica,sans-Serif\" font-size=\"14.00\">gini = 0.5</text>\n<text text-anchor=\"middle\" x=\"1893\" y=\"-22.8\" font-family=\"Helvetica,sans-Serif\" font-size=\"14.00\">samples = 436</text>\n<text text-anchor=\"middle\" x=\"1893\" y=\"-7.8\" font-family=\"Helvetica,sans-Serif\" font-size=\"14.00\">value = [212, 224]</text>\n</g>\n<!-- 29&#45;&gt;30 -->\n<g id=\"edge30\" class=\"edge\">\n<title>29&#45;&gt;30</title>\n<path fill=\"none\" stroke=\"black\" d=\"M1893,-88.95C1893,-80.72 1893,-71.85 1893,-63.48\"/>\n<polygon fill=\"black\" stroke=\"black\" points=\"1896.5,-63.24 1893,-53.24 1889.5,-63.24 1896.5,-63.24\"/>\n</g>\n<!-- 31 -->\n<g id=\"node32\" class=\"node\">\n<title>31</title>\n<path fill=\"#9acdf2\" stroke=\"black\" d=\"M2086.5,-53C2086.5,-53 1985.5,-53 1985.5,-53 1979.5,-53 1973.5,-47 1973.5,-41 1973.5,-41 1973.5,-12 1973.5,-12 1973.5,-6 1979.5,0 1985.5,0 1985.5,0 2086.5,0 2086.5,0 2092.5,0 2098.5,-6 2098.5,-12 2098.5,-12 2098.5,-41 2098.5,-41 2098.5,-47 2092.5,-53 2086.5,-53\"/>\n<text text-anchor=\"middle\" x=\"2036\" y=\"-37.8\" font-family=\"Helvetica,sans-Serif\" font-size=\"14.00\">gini = 0.442</text>\n<text text-anchor=\"middle\" x=\"2036\" y=\"-22.8\" font-family=\"Helvetica,sans-Serif\" font-size=\"14.00\">samples = 653</text>\n<text text-anchor=\"middle\" x=\"2036\" y=\"-7.8\" font-family=\"Helvetica,sans-Serif\" font-size=\"14.00\">value = [215, 438]</text>\n</g>\n<!-- 29&#45;&gt;31 -->\n<g id=\"edge31\" class=\"edge\">\n<title>29&#45;&gt;31</title>\n<path fill=\"none\" stroke=\"black\" d=\"M1943.01,-88.95C1957.83,-79.16 1973.99,-68.48 1988.63,-58.8\"/>\n<polygon fill=\"black\" stroke=\"black\" points=\"1990.64,-61.67 1997.05,-53.24 1986.78,-55.83 1990.64,-61.67\"/>\n</g>\n<!-- 33 -->\n<g id=\"node34\" class=\"node\">\n<title>33</title>\n<path fill=\"#e6843e\" stroke=\"black\" d=\"M2673,-365C2673,-365 2539,-365 2539,-365 2533,-365 2527,-359 2527,-353 2527,-353 2527,-309 2527,-309 2527,-303 2533,-297 2539,-297 2539,-297 2673,-297 2673,-297 2679,-297 2685,-303 2685,-309 2685,-309 2685,-353 2685,-353 2685,-359 2679,-365 2673,-365\"/>\n<text text-anchor=\"middle\" x=\"2606\" y=\"-349.8\" font-family=\"Helvetica,sans-Serif\" font-size=\"14.00\">cons.conf.idx &lt;= &#45;46.65</text>\n<text text-anchor=\"middle\" x=\"2606\" y=\"-334.8\" font-family=\"Helvetica,sans-Serif\" font-size=\"14.00\">gini = 0.05</text>\n<text text-anchor=\"middle\" x=\"2606\" y=\"-319.8\" font-family=\"Helvetica,sans-Serif\" font-size=\"14.00\">samples = 25858</text>\n<text text-anchor=\"middle\" x=\"2606\" y=\"-304.8\" font-family=\"Helvetica,sans-Serif\" font-size=\"14.00\">value = [25194, 664]</text>\n</g>\n<!-- 32&#45;&gt;33 -->\n<g id=\"edge33\" class=\"edge\">\n<title>32&#45;&gt;33</title>\n<path fill=\"none\" stroke=\"black\" d=\"M2606,-400.88C2606,-392.78 2606,-383.98 2606,-375.47\"/>\n<polygon fill=\"black\" stroke=\"black\" points=\"2609.5,-375.3 2606,-365.3 2602.5,-375.3 2609.5,-375.3\"/>\n</g>\n<!-- 48 -->\n<g id=\"node49\" class=\"node\">\n<title>48</title>\n<path fill=\"#f7d7c0\" stroke=\"black\" d=\"M3596,-365C3596,-365 3458,-365 3458,-365 3452,-365 3446,-359 3446,-353 3446,-353 3446,-309 3446,-309 3446,-303 3452,-297 3458,-297 3458,-297 3596,-297 3596,-297 3602,-297 3608,-303 3608,-309 3608,-309 3608,-353 3608,-353 3608,-359 3602,-365 3596,-365\"/>\n<text text-anchor=\"middle\" x=\"3527\" y=\"-349.8\" font-family=\"Helvetica,sans-Serif\" font-size=\"14.00\">duration &lt;= 835.5</text>\n<text text-anchor=\"middle\" x=\"3527\" y=\"-334.8\" font-family=\"Helvetica,sans-Serif\" font-size=\"14.00\">gini = 0.482</text>\n<text text-anchor=\"middle\" x=\"3527\" y=\"-319.8\" font-family=\"Helvetica,sans-Serif\" font-size=\"14.00\">samples = 3116</text>\n<text text-anchor=\"middle\" x=\"3527\" y=\"-304.8\" font-family=\"Helvetica,sans-Serif\" font-size=\"14.00\">value = [1852.0, 1264.0]</text>\n</g>\n<!-- 32&#45;&gt;48 -->\n<g id=\"edge48\" class=\"edge\">\n<title>32&#45;&gt;48</title>\n<path fill=\"none\" stroke=\"black\" d=\"M2679.81,-425.83C2846.86,-407.32 3253.5,-362.29 3435.87,-342.09\"/>\n<polygon fill=\"black\" stroke=\"black\" points=\"3436.42,-345.55 3445.97,-340.97 3435.65,-338.6 3436.42,-345.55\"/>\n</g>\n<!-- 34 -->\n<g id=\"node35\" class=\"node\">\n<title>34</title>\n<path fill=\"#eb9c64\" stroke=\"black\" d=\"M2591,-261C2591,-261 2479,-261 2479,-261 2473,-261 2467,-255 2467,-249 2467,-249 2467,-205 2467,-205 2467,-199 2473,-193 2479,-193 2479,-193 2591,-193 2591,-193 2597,-193 2603,-199 2603,-205 2603,-205 2603,-249 2603,-249 2603,-255 2597,-261 2591,-261\"/>\n<text text-anchor=\"middle\" x=\"2535\" y=\"-245.8\" font-family=\"Helvetica,sans-Serif\" font-size=\"14.00\">euribor3m &lt;= 1.525</text>\n<text text-anchor=\"middle\" x=\"2535\" y=\"-230.8\" font-family=\"Helvetica,sans-Serif\" font-size=\"14.00\">gini = 0.292</text>\n<text text-anchor=\"middle\" x=\"2535\" y=\"-215.8\" font-family=\"Helvetica,sans-Serif\" font-size=\"14.00\">samples = 1911</text>\n<text text-anchor=\"middle\" x=\"2535\" y=\"-200.8\" font-family=\"Helvetica,sans-Serif\" font-size=\"14.00\">value = [1572, 339]</text>\n</g>\n<!-- 33&#45;&gt;34 -->\n<g id=\"edge34\" class=\"edge\">\n<title>33&#45;&gt;34</title>\n<path fill=\"none\" stroke=\"black\" d=\"M2582.95,-296.88C2576.87,-288.15 2570.24,-278.62 2563.9,-269.51\"/>\n<polygon fill=\"black\" stroke=\"black\" points=\"2566.76,-267.51 2558.18,-261.3 2561.02,-271.51 2566.76,-267.51\"/>\n</g>\n<!-- 41 -->\n<g id=\"node42\" class=\"node\">\n<title>41</title>\n<path fill=\"#e5833c\" stroke=\"black\" d=\"M2861,-261C2861,-261 2745,-261 2745,-261 2739,-261 2733,-255 2733,-249 2733,-249 2733,-205 2733,-205 2733,-199 2739,-193 2745,-193 2745,-193 2861,-193 2861,-193 2867,-193 2873,-199 2873,-205 2873,-205 2873,-249 2873,-249 2873,-255 2867,-261 2861,-261\"/>\n<text text-anchor=\"middle\" x=\"2803\" y=\"-245.8\" font-family=\"Helvetica,sans-Serif\" font-size=\"14.00\">duration &lt;= 411.5</text>\n<text text-anchor=\"middle\" x=\"2803\" y=\"-230.8\" font-family=\"Helvetica,sans-Serif\" font-size=\"14.00\">gini = 0.027</text>\n<text text-anchor=\"middle\" x=\"2803\" y=\"-215.8\" font-family=\"Helvetica,sans-Serif\" font-size=\"14.00\">samples = 23947</text>\n<text text-anchor=\"middle\" x=\"2803\" y=\"-200.8\" font-family=\"Helvetica,sans-Serif\" font-size=\"14.00\">value = [23622, 325]</text>\n</g>\n<!-- 33&#45;&gt;41 -->\n<g id=\"edge41\" class=\"edge\">\n<title>33&#45;&gt;41</title>\n<path fill=\"none\" stroke=\"black\" d=\"M2669.96,-296.88C2689.15,-286.95 2710.35,-275.97 2730.08,-265.76\"/>\n<polygon fill=\"black\" stroke=\"black\" points=\"2731.75,-268.83 2739.02,-261.12 2728.53,-262.61 2731.75,-268.83\"/>\n</g>\n<!-- 35 -->\n<g id=\"node36\" class=\"node\">\n<title>35</title>\n<path fill=\"#e9965a\" stroke=\"black\" d=\"M2383.5,-157C2383.5,-157 2252.5,-157 2252.5,-157 2246.5,-157 2240.5,-151 2240.5,-145 2240.5,-145 2240.5,-101 2240.5,-101 2240.5,-95 2246.5,-89 2252.5,-89 2252.5,-89 2383.5,-89 2383.5,-89 2389.5,-89 2395.5,-95 2395.5,-101 2395.5,-101 2395.5,-145 2395.5,-145 2395.5,-151 2389.5,-157 2383.5,-157\"/>\n<text text-anchor=\"middle\" x=\"2318\" y=\"-141.8\" font-family=\"Helvetica,sans-Serif\" font-size=\"14.00\">euribor3m &lt;= 1.368</text>\n<text text-anchor=\"middle\" x=\"2318\" y=\"-126.8\" font-family=\"Helvetica,sans-Serif\" font-size=\"14.00\">gini = 0.246</text>\n<text text-anchor=\"middle\" x=\"2318\" y=\"-111.8\" font-family=\"Helvetica,sans-Serif\" font-size=\"14.00\">samples = 1711</text>\n<text text-anchor=\"middle\" x=\"2318\" y=\"-96.8\" font-family=\"Helvetica,sans-Serif\" font-size=\"14.00\">value = [1465.0, 246.0]</text>\n</g>\n<!-- 34&#45;&gt;35 -->\n<g id=\"edge35\" class=\"edge\">\n<title>34&#45;&gt;35</title>\n<path fill=\"none\" stroke=\"black\" d=\"M2466.94,-194.01C2444.98,-183.69 2420.44,-172.15 2397.72,-161.47\"/>\n<polygon fill=\"black\" stroke=\"black\" points=\"2398.98,-158.2 2388.44,-157.11 2396,-164.53 2398.98,-158.2\"/>\n</g>\n<!-- 38 -->\n<g id=\"node39\" class=\"node\">\n<title>38</title>\n<path fill=\"#fcefe5\" stroke=\"black\" d=\"M2584.5,-157C2584.5,-157 2485.5,-157 2485.5,-157 2479.5,-157 2473.5,-151 2473.5,-145 2473.5,-145 2473.5,-101 2473.5,-101 2473.5,-95 2479.5,-89 2485.5,-89 2485.5,-89 2584.5,-89 2584.5,-89 2590.5,-89 2596.5,-95 2596.5,-101 2596.5,-101 2596.5,-145 2596.5,-145 2596.5,-151 2590.5,-157 2584.5,-157\"/>\n<text text-anchor=\"middle\" x=\"2535\" y=\"-141.8\" font-family=\"Helvetica,sans-Serif\" font-size=\"14.00\">duration &lt;= 173.5</text>\n<text text-anchor=\"middle\" x=\"2535\" y=\"-126.8\" font-family=\"Helvetica,sans-Serif\" font-size=\"14.00\">gini = 0.498</text>\n<text text-anchor=\"middle\" x=\"2535\" y=\"-111.8\" font-family=\"Helvetica,sans-Serif\" font-size=\"14.00\">samples = 200</text>\n<text text-anchor=\"middle\" x=\"2535\" y=\"-96.8\" font-family=\"Helvetica,sans-Serif\" font-size=\"14.00\">value = [107, 93]</text>\n</g>\n<!-- 34&#45;&gt;38 -->\n<g id=\"edge38\" class=\"edge\">\n<title>34&#45;&gt;38</title>\n<path fill=\"none\" stroke=\"black\" d=\"M2535,-192.88C2535,-184.78 2535,-175.98 2535,-167.47\"/>\n<polygon fill=\"black\" stroke=\"black\" points=\"2538.5,-167.3 2535,-157.3 2531.5,-167.3 2538.5,-167.3\"/>\n</g>\n<!-- 36 -->\n<g id=\"node37\" class=\"node\">\n<title>36</title>\n<path fill=\"#f4c9aa\" stroke=\"black\" d=\"M2221.5,-53C2221.5,-53 2128.5,-53 2128.5,-53 2122.5,-53 2116.5,-47 2116.5,-41 2116.5,-41 2116.5,-12 2116.5,-12 2116.5,-6 2122.5,0 2128.5,0 2128.5,0 2221.5,0 2221.5,0 2227.5,0 2233.5,-6 2233.5,-12 2233.5,-12 2233.5,-41 2233.5,-41 2233.5,-47 2227.5,-53 2221.5,-53\"/>\n<text text-anchor=\"middle\" x=\"2175\" y=\"-37.8\" font-family=\"Helvetica,sans-Serif\" font-size=\"14.00\">gini = 0.463</text>\n<text text-anchor=\"middle\" x=\"2175\" y=\"-22.8\" font-family=\"Helvetica,sans-Serif\" font-size=\"14.00\">samples = 201</text>\n<text text-anchor=\"middle\" x=\"2175\" y=\"-7.8\" font-family=\"Helvetica,sans-Serif\" font-size=\"14.00\">value = [128, 73]</text>\n</g>\n<!-- 35&#45;&gt;36 -->\n<g id=\"edge36\" class=\"edge\">\n<title>35&#45;&gt;36</title>\n<path fill=\"none\" stroke=\"black\" d=\"M2267.99,-88.95C2253.17,-79.16 2237.01,-68.48 2222.37,-58.8\"/>\n<polygon fill=\"black\" stroke=\"black\" points=\"2224.22,-55.83 2213.95,-53.24 2220.36,-61.67 2224.22,-55.83\"/>\n</g>\n<!-- 37 -->\n<g id=\"node38\" class=\"node\">\n<title>37</title>\n<path fill=\"#e89153\" stroke=\"black\" d=\"M2372,-53C2372,-53 2264,-53 2264,-53 2258,-53 2252,-47 2252,-41 2252,-41 2252,-12 2252,-12 2252,-6 2258,0 2264,0 2264,0 2372,0 2372,0 2378,0 2384,-6 2384,-12 2384,-12 2384,-41 2384,-41 2384,-47 2378,-53 2372,-53\"/>\n<text text-anchor=\"middle\" x=\"2318\" y=\"-37.8\" font-family=\"Helvetica,sans-Serif\" font-size=\"14.00\">gini = 0.203</text>\n<text text-anchor=\"middle\" x=\"2318\" y=\"-22.8\" font-family=\"Helvetica,sans-Serif\" font-size=\"14.00\">samples = 1510</text>\n<text text-anchor=\"middle\" x=\"2318\" y=\"-7.8\" font-family=\"Helvetica,sans-Serif\" font-size=\"14.00\">value = [1337, 173]</text>\n</g>\n<!-- 35&#45;&gt;37 -->\n<g id=\"edge37\" class=\"edge\">\n<title>35&#45;&gt;37</title>\n<path fill=\"none\" stroke=\"black\" d=\"M2318,-88.95C2318,-80.72 2318,-71.85 2318,-63.48\"/>\n<polygon fill=\"black\" stroke=\"black\" points=\"2321.5,-63.24 2318,-53.24 2314.5,-63.24 2321.5,-63.24\"/>\n</g>\n<!-- 39 -->\n<g id=\"node40\" class=\"node\">\n<title>39</title>\n<path fill=\"#efb083\" stroke=\"black\" d=\"M2500,-53C2500,-53 2414,-53 2414,-53 2408,-53 2402,-47 2402,-41 2402,-41 2402,-12 2402,-12 2402,-6 2408,0 2414,0 2414,0 2500,0 2500,0 2506,0 2512,-6 2512,-12 2512,-12 2512,-41 2512,-41 2512,-47 2506,-53 2500,-53\"/>\n<text text-anchor=\"middle\" x=\"2457\" y=\"-37.8\" font-family=\"Helvetica,sans-Serif\" font-size=\"14.00\">gini = 0.397</text>\n<text text-anchor=\"middle\" x=\"2457\" y=\"-22.8\" font-family=\"Helvetica,sans-Serif\" font-size=\"14.00\">samples = 121</text>\n<text text-anchor=\"middle\" x=\"2457\" y=\"-7.8\" font-family=\"Helvetica,sans-Serif\" font-size=\"14.00\">value = [88, 33]</text>\n</g>\n<!-- 38&#45;&gt;39 -->\n<g id=\"edge39\" class=\"edge\">\n<title>38&#45;&gt;39</title>\n<path fill=\"none\" stroke=\"black\" d=\"M2507.72,-88.95C2500.24,-79.89 2492.14,-70.07 2484.64,-60.99\"/>\n<polygon fill=\"black\" stroke=\"black\" points=\"2487.31,-58.72 2478.24,-53.24 2481.91,-63.18 2487.31,-58.72\"/>\n</g>\n<!-- 40 -->\n<g id=\"node41\" class=\"node\">\n<title>40</title>\n<path fill=\"#78bced\" stroke=\"black\" d=\"M2650,-53C2650,-53 2542,-53 2542,-53 2536,-53 2530,-47 2530,-41 2530,-41 2530,-12 2530,-12 2530,-6 2536,0 2542,0 2542,0 2650,0 2650,0 2656,0 2662,-6 2662,-12 2662,-12 2662,-41 2662,-41 2662,-47 2656,-53 2650,-53\"/>\n<text text-anchor=\"middle\" x=\"2596\" y=\"-37.8\" font-family=\"Helvetica,sans-Serif\" font-size=\"14.00\">gini = 0.365</text>\n<text text-anchor=\"middle\" x=\"2596\" y=\"-22.8\" font-family=\"Helvetica,sans-Serif\" font-size=\"14.00\">samples = 79</text>\n<text text-anchor=\"middle\" x=\"2596\" y=\"-7.8\" font-family=\"Helvetica,sans-Serif\" font-size=\"14.00\">value = [19.0, 60.0]</text>\n</g>\n<!-- 38&#45;&gt;40 -->\n<g id=\"edge40\" class=\"edge\">\n<title>38&#45;&gt;40</title>\n<path fill=\"none\" stroke=\"black\" d=\"M2556.33,-88.95C2562,-80.17 2568.14,-70.66 2573.85,-61.82\"/>\n<polygon fill=\"black\" stroke=\"black\" points=\"2576.9,-63.54 2579.39,-53.24 2571.02,-59.74 2576.9,-63.54\"/>\n</g>\n<!-- 42 -->\n<g id=\"node43\" class=\"node\">\n<title>42</title>\n<path fill=\"#e5823b\" stroke=\"black\" d=\"M2861,-157C2861,-157 2745,-157 2745,-157 2739,-157 2733,-151 2733,-145 2733,-145 2733,-101 2733,-101 2733,-95 2739,-89 2745,-89 2745,-89 2861,-89 2861,-89 2867,-89 2873,-95 2873,-101 2873,-101 2873,-145 2873,-145 2873,-151 2867,-157 2861,-157\"/>\n<text text-anchor=\"middle\" x=\"2803\" y=\"-141.8\" font-family=\"Helvetica,sans-Serif\" font-size=\"14.00\">pdays &lt;= 3.5</text>\n<text text-anchor=\"middle\" x=\"2803\" y=\"-126.8\" font-family=\"Helvetica,sans-Serif\" font-size=\"14.00\">gini = 0.015</text>\n<text text-anchor=\"middle\" x=\"2803\" y=\"-111.8\" font-family=\"Helvetica,sans-Serif\" font-size=\"14.00\">samples = 22494</text>\n<text text-anchor=\"middle\" x=\"2803\" y=\"-96.8\" font-family=\"Helvetica,sans-Serif\" font-size=\"14.00\">value = [22323, 171]</text>\n</g>\n<!-- 41&#45;&gt;42 -->\n<g id=\"edge42\" class=\"edge\">\n<title>41&#45;&gt;42</title>\n<path fill=\"none\" stroke=\"black\" d=\"M2803,-192.88C2803,-184.78 2803,-175.98 2803,-167.47\"/>\n<polygon fill=\"black\" stroke=\"black\" points=\"2806.5,-167.3 2803,-157.3 2799.5,-167.3 2806.5,-167.3\"/>\n</g>\n<!-- 45 -->\n<g id=\"node46\" class=\"node\">\n<title>45</title>\n<path fill=\"#e89050\" stroke=\"black\" d=\"M3110,-157C3110,-157 2970,-157 2970,-157 2964,-157 2958,-151 2958,-145 2958,-145 2958,-101 2958,-101 2958,-95 2964,-89 2970,-89 2970,-89 3110,-89 3110,-89 3116,-89 3122,-95 3122,-101 3122,-101 3122,-145 3122,-145 3122,-151 3116,-157 3110,-157\"/>\n<text text-anchor=\"middle\" x=\"3040\" y=\"-141.8\" font-family=\"Helvetica,sans-Serif\" font-size=\"14.00\">cons.price.idx &lt;= 93.858</text>\n<text text-anchor=\"middle\" x=\"3040\" y=\"-126.8\" font-family=\"Helvetica,sans-Serif\" font-size=\"14.00\">gini = 0.19</text>\n<text text-anchor=\"middle\" x=\"3040\" y=\"-111.8\" font-family=\"Helvetica,sans-Serif\" font-size=\"14.00\">samples = 1453</text>\n<text text-anchor=\"middle\" x=\"3040\" y=\"-96.8\" font-family=\"Helvetica,sans-Serif\" font-size=\"14.00\">value = [1299, 154]</text>\n</g>\n<!-- 41&#45;&gt;45 -->\n<g id=\"edge45\" class=\"edge\">\n<title>41&#45;&gt;45</title>\n<path fill=\"none\" stroke=\"black\" d=\"M2873.15,-195.81C2898.42,-184.93 2927.24,-172.53 2953.73,-161.13\"/>\n<polygon fill=\"black\" stroke=\"black\" points=\"2955.19,-164.31 2962.99,-157.14 2952.42,-157.88 2955.19,-164.31\"/>\n</g>\n<!-- 43 -->\n<g id=\"node44\" class=\"node\">\n<title>43</title>\n<path fill=\"#eca470\" stroke=\"black\" d=\"M2778,-53C2778,-53 2692,-53 2692,-53 2686,-53 2680,-47 2680,-41 2680,-41 2680,-12 2680,-12 2680,-6 2686,0 2692,0 2692,0 2778,0 2778,0 2784,0 2790,-6 2790,-12 2790,-12 2790,-41 2790,-41 2790,-47 2784,-53 2778,-53\"/>\n<text text-anchor=\"middle\" x=\"2735\" y=\"-37.8\" font-family=\"Helvetica,sans-Serif\" font-size=\"14.00\">gini = 0.34</text>\n<text text-anchor=\"middle\" x=\"2735\" y=\"-22.8\" font-family=\"Helvetica,sans-Serif\" font-size=\"14.00\">samples = 46</text>\n<text text-anchor=\"middle\" x=\"2735\" y=\"-7.8\" font-family=\"Helvetica,sans-Serif\" font-size=\"14.00\">value = [36, 10]</text>\n</g>\n<!-- 42&#45;&gt;43 -->\n<g id=\"edge43\" class=\"edge\">\n<title>42&#45;&gt;43</title>\n<path fill=\"none\" stroke=\"black\" d=\"M2779.22,-88.95C2772.83,-80.07 2765.92,-70.46 2759.49,-61.54\"/>\n<polygon fill=\"black\" stroke=\"black\" points=\"2762.2,-59.31 2753.52,-53.24 2756.52,-63.4 2762.2,-59.31\"/>\n</g>\n<!-- 44 -->\n<g id=\"node45\" class=\"node\">\n<title>44</title>\n<path fill=\"#e5823a\" stroke=\"black\" d=\"M2936,-53C2936,-53 2820,-53 2820,-53 2814,-53 2808,-47 2808,-41 2808,-41 2808,-12 2808,-12 2808,-6 2814,0 2820,0 2820,0 2936,0 2936,0 2942,0 2948,-6 2948,-12 2948,-12 2948,-41 2948,-41 2948,-47 2942,-53 2936,-53\"/>\n<text text-anchor=\"middle\" x=\"2878\" y=\"-37.8\" font-family=\"Helvetica,sans-Serif\" font-size=\"14.00\">gini = 0.014</text>\n<text text-anchor=\"middle\" x=\"2878\" y=\"-22.8\" font-family=\"Helvetica,sans-Serif\" font-size=\"14.00\">samples = 22448</text>\n<text text-anchor=\"middle\" x=\"2878\" y=\"-7.8\" font-family=\"Helvetica,sans-Serif\" font-size=\"14.00\">value = [22287, 161]</text>\n</g>\n<!-- 42&#45;&gt;44 -->\n<g id=\"edge44\" class=\"edge\">\n<title>42&#45;&gt;44</title>\n<path fill=\"none\" stroke=\"black\" d=\"M2829.23,-88.95C2836.35,-79.98 2844.06,-70.27 2851.2,-61.26\"/>\n<polygon fill=\"black\" stroke=\"black\" points=\"2854.1,-63.25 2857.57,-53.24 2848.62,-58.89 2854.1,-63.25\"/>\n</g>\n<!-- 46 -->\n<g id=\"node47\" class=\"node\">\n<title>46</title>\n<path fill=\"#eb9d64\" stroke=\"black\" d=\"M3101.5,-53C3101.5,-53 2978.5,-53 2978.5,-53 2972.5,-53 2966.5,-47 2966.5,-41 2966.5,-41 2966.5,-12 2966.5,-12 2966.5,-6 2972.5,0 2978.5,0 2978.5,0 3101.5,0 3101.5,0 3107.5,0 3113.5,-6 3113.5,-12 3113.5,-12 3113.5,-41 3113.5,-41 3113.5,-47 3107.5,-53 3101.5,-53\"/>\n<text text-anchor=\"middle\" x=\"3040\" y=\"-37.8\" font-family=\"Helvetica,sans-Serif\" font-size=\"14.00\">gini = 0.294</text>\n<text text-anchor=\"middle\" x=\"3040\" y=\"-22.8\" font-family=\"Helvetica,sans-Serif\" font-size=\"14.00\">samples = 591</text>\n<text text-anchor=\"middle\" x=\"3040\" y=\"-7.8\" font-family=\"Helvetica,sans-Serif\" font-size=\"14.00\">value = [485.0, 106.0]</text>\n</g>\n<!-- 45&#45;&gt;46 -->\n<g id=\"edge46\" class=\"edge\">\n<title>45&#45;&gt;46</title>\n<path fill=\"none\" stroke=\"black\" d=\"M3040,-88.95C3040,-80.72 3040,-71.85 3040,-63.48\"/>\n<polygon fill=\"black\" stroke=\"black\" points=\"3043.5,-63.24 3040,-53.24 3036.5,-63.24 3043.5,-63.24\"/>\n</g>\n<!-- 47 -->\n<g id=\"node48\" class=\"node\">\n<title>47</title>\n<path fill=\"#e78845\" stroke=\"black\" d=\"M3236.5,-53C3236.5,-53 3143.5,-53 3143.5,-53 3137.5,-53 3131.5,-47 3131.5,-41 3131.5,-41 3131.5,-12 3131.5,-12 3131.5,-6 3137.5,0 3143.5,0 3143.5,0 3236.5,0 3236.5,0 3242.5,0 3248.5,-6 3248.5,-12 3248.5,-12 3248.5,-41 3248.5,-41 3248.5,-47 3242.5,-53 3236.5,-53\"/>\n<text text-anchor=\"middle\" x=\"3190\" y=\"-37.8\" font-family=\"Helvetica,sans-Serif\" font-size=\"14.00\">gini = 0.105</text>\n<text text-anchor=\"middle\" x=\"3190\" y=\"-22.8\" font-family=\"Helvetica,sans-Serif\" font-size=\"14.00\">samples = 862</text>\n<text text-anchor=\"middle\" x=\"3190\" y=\"-7.8\" font-family=\"Helvetica,sans-Serif\" font-size=\"14.00\">value = [814, 48]</text>\n</g>\n<!-- 45&#45;&gt;47 -->\n<g id=\"edge47\" class=\"edge\">\n<title>45&#45;&gt;47</title>\n<path fill=\"none\" stroke=\"black\" d=\"M3092.46,-88.95C3108,-79.16 3124.96,-68.48 3140.32,-58.8\"/>\n<polygon fill=\"black\" stroke=\"black\" points=\"3142.55,-61.53 3149.15,-53.24 3138.82,-55.61 3142.55,-61.53\"/>\n</g>\n<!-- 49 -->\n<g id=\"node50\" class=\"node\">\n<title>49</title>\n<path fill=\"#f1bb95\" stroke=\"black\" d=\"M3583,-261C3583,-261 3471,-261 3471,-261 3465,-261 3459,-255 3459,-249 3459,-249 3459,-205 3459,-205 3459,-199 3465,-193 3471,-193 3471,-193 3583,-193 3583,-193 3589,-193 3595,-199 3595,-205 3595,-205 3595,-249 3595,-249 3595,-255 3589,-261 3583,-261\"/>\n<text text-anchor=\"middle\" x=\"3527\" y=\"-245.8\" font-family=\"Helvetica,sans-Serif\" font-size=\"14.00\">euribor3m &lt;= 1.388</text>\n<text text-anchor=\"middle\" x=\"3527\" y=\"-230.8\" font-family=\"Helvetica,sans-Serif\" font-size=\"14.00\">gini = 0.433</text>\n<text text-anchor=\"middle\" x=\"3527\" y=\"-215.8\" font-family=\"Helvetica,sans-Serif\" font-size=\"14.00\">samples = 2010</text>\n<text text-anchor=\"middle\" x=\"3527\" y=\"-200.8\" font-family=\"Helvetica,sans-Serif\" font-size=\"14.00\">value = [1373, 637]</text>\n</g>\n<!-- 48&#45;&gt;49 -->\n<g id=\"edge49\" class=\"edge\">\n<title>48&#45;&gt;49</title>\n<path fill=\"none\" stroke=\"black\" d=\"M3527,-296.88C3527,-288.78 3527,-279.98 3527,-271.47\"/>\n<polygon fill=\"black\" stroke=\"black\" points=\"3530.5,-271.3 3527,-261.3 3523.5,-271.3 3530.5,-271.3\"/>\n</g>\n<!-- 56 -->\n<g id=\"node57\" class=\"node\">\n<title>56</title>\n<path fill=\"#d0e8f9\" stroke=\"black\" d=\"M3988,-261C3988,-261 3850,-261 3850,-261 3844,-261 3838,-255 3838,-249 3838,-249 3838,-205 3838,-205 3838,-199 3844,-193 3850,-193 3850,-193 3988,-193 3988,-193 3994,-193 4000,-199 4000,-205 4000,-205 4000,-249 4000,-249 4000,-255 3994,-261 3988,-261\"/>\n<text text-anchor=\"middle\" x=\"3919\" y=\"-245.8\" font-family=\"Helvetica,sans-Serif\" font-size=\"14.00\">contact_encoded &lt;= 0.5</text>\n<text text-anchor=\"middle\" x=\"3919\" y=\"-230.8\" font-family=\"Helvetica,sans-Serif\" font-size=\"14.00\">gini = 0.491</text>\n<text text-anchor=\"middle\" x=\"3919\" y=\"-215.8\" font-family=\"Helvetica,sans-Serif\" font-size=\"14.00\">samples = 1106</text>\n<text text-anchor=\"middle\" x=\"3919\" y=\"-200.8\" font-family=\"Helvetica,sans-Serif\" font-size=\"14.00\">value = [479, 627]</text>\n</g>\n<!-- 48&#45;&gt;56 -->\n<g id=\"edge56\" class=\"edge\">\n<title>48&#45;&gt;56</title>\n<path fill=\"none\" stroke=\"black\" d=\"M3608.22,-308.87C3672.21,-292.21 3761.41,-269.01 3827.84,-251.72\"/>\n<polygon fill=\"black\" stroke=\"black\" points=\"3829.09,-255.01 3837.88,-249.11 3827.32,-248.24 3829.09,-255.01\"/>\n</g>\n<!-- 50 -->\n<g id=\"node51\" class=\"node\">\n<title>50</title>\n<path fill=\"#fcfdff\" stroke=\"black\" d=\"M3501,-157C3501,-157 3389,-157 3389,-157 3383,-157 3377,-151 3377,-145 3377,-145 3377,-101 3377,-101 3377,-95 3383,-89 3389,-89 3389,-89 3501,-89 3501,-89 3507,-89 3513,-95 3513,-101 3513,-101 3513,-145 3513,-145 3513,-151 3507,-157 3501,-157\"/>\n<text text-anchor=\"middle\" x=\"3445\" y=\"-141.8\" font-family=\"Helvetica,sans-Serif\" font-size=\"14.00\">euribor3m &lt;= 1.349</text>\n<text text-anchor=\"middle\" x=\"3445\" y=\"-126.8\" font-family=\"Helvetica,sans-Serif\" font-size=\"14.00\">gini = 0.5</text>\n<text text-anchor=\"middle\" x=\"3445\" y=\"-111.8\" font-family=\"Helvetica,sans-Serif\" font-size=\"14.00\">samples = 367</text>\n<text text-anchor=\"middle\" x=\"3445\" y=\"-96.8\" font-family=\"Helvetica,sans-Serif\" font-size=\"14.00\">value = [182, 185]</text>\n</g>\n<!-- 49&#45;&gt;50 -->\n<g id=\"edge50\" class=\"edge\">\n<title>49&#45;&gt;50</title>\n<path fill=\"none\" stroke=\"black\" d=\"M3500.38,-192.88C3493.29,-184.07 3485.54,-174.43 3478.15,-165.24\"/>\n<polygon fill=\"black\" stroke=\"black\" points=\"3480.76,-162.9 3471.77,-157.3 3475.31,-167.29 3480.76,-162.9\"/>\n</g>\n<!-- 53 -->\n<g id=\"node54\" class=\"node\">\n<title>53</title>\n<path fill=\"#efb184\" stroke=\"black\" d=\"M3674.5,-157C3674.5,-157 3543.5,-157 3543.5,-157 3537.5,-157 3531.5,-151 3531.5,-145 3531.5,-145 3531.5,-101 3531.5,-101 3531.5,-95 3537.5,-89 3543.5,-89 3543.5,-89 3674.5,-89 3674.5,-89 3680.5,-89 3686.5,-95 3686.5,-101 3686.5,-101 3686.5,-145 3686.5,-145 3686.5,-151 3680.5,-157 3674.5,-157\"/>\n<text text-anchor=\"middle\" x=\"3609\" y=\"-141.8\" font-family=\"Helvetica,sans-Serif\" font-size=\"14.00\">euribor3m &lt;= 4.864</text>\n<text text-anchor=\"middle\" x=\"3609\" y=\"-126.8\" font-family=\"Helvetica,sans-Serif\" font-size=\"14.00\">gini = 0.399</text>\n<text text-anchor=\"middle\" x=\"3609\" y=\"-111.8\" font-family=\"Helvetica,sans-Serif\" font-size=\"14.00\">samples = 1643</text>\n<text text-anchor=\"middle\" x=\"3609\" y=\"-96.8\" font-family=\"Helvetica,sans-Serif\" font-size=\"14.00\">value = [1191.0, 452.0]</text>\n</g>\n<!-- 49&#45;&gt;53 -->\n<g id=\"edge53\" class=\"edge\">\n<title>49&#45;&gt;53</title>\n<path fill=\"none\" stroke=\"black\" d=\"M3553.62,-192.88C3560.71,-184.07 3568.46,-174.43 3575.85,-165.24\"/>\n<polygon fill=\"black\" stroke=\"black\" points=\"3578.69,-167.29 3582.23,-157.3 3573.24,-162.9 3578.69,-167.29\"/>\n</g>\n<!-- 51 -->\n<g id=\"node52\" class=\"node\">\n<title>51</title>\n<path fill=\"#fbebe0\" stroke=\"black\" d=\"M3379.5,-53C3379.5,-53 3278.5,-53 3278.5,-53 3272.5,-53 3266.5,-47 3266.5,-41 3266.5,-41 3266.5,-12 3266.5,-12 3266.5,-6 3272.5,0 3278.5,0 3278.5,0 3379.5,0 3379.5,0 3385.5,0 3391.5,-6 3391.5,-12 3391.5,-12 3391.5,-41 3391.5,-41 3391.5,-47 3385.5,-53 3379.5,-53\"/>\n<text text-anchor=\"middle\" x=\"3329\" y=\"-37.8\" font-family=\"Helvetica,sans-Serif\" font-size=\"14.00\">gini = 0.496</text>\n<text text-anchor=\"middle\" x=\"3329\" y=\"-22.8\" font-family=\"Helvetica,sans-Serif\" font-size=\"14.00\">samples = 326</text>\n<text text-anchor=\"middle\" x=\"3329\" y=\"-7.8\" font-family=\"Helvetica,sans-Serif\" font-size=\"14.00\">value = [177, 149]</text>\n</g>\n<!-- 50&#45;&gt;51 -->\n<g id=\"edge51\" class=\"edge\">\n<title>50&#45;&gt;51</title>\n<path fill=\"none\" stroke=\"black\" d=\"M3404.43,-88.95C3392.75,-79.43 3380.03,-69.07 3368.42,-59.62\"/>\n<polygon fill=\"black\" stroke=\"black\" points=\"3370.56,-56.84 3360.59,-53.24 3366.13,-62.27 3370.56,-56.84\"/>\n</g>\n<!-- 52 -->\n<g id=\"node53\" class=\"node\">\n<title>52</title>\n<path fill=\"#54abe9\" stroke=\"black\" d=\"M3500,-53C3500,-53 3422,-53 3422,-53 3416,-53 3410,-47 3410,-41 3410,-41 3410,-12 3410,-12 3410,-6 3416,0 3422,0 3422,0 3500,0 3500,0 3506,0 3512,-6 3512,-12 3512,-12 3512,-41 3512,-41 3512,-47 3506,-53 3500,-53\"/>\n<text text-anchor=\"middle\" x=\"3461\" y=\"-37.8\" font-family=\"Helvetica,sans-Serif\" font-size=\"14.00\">gini = 0.214</text>\n<text text-anchor=\"middle\" x=\"3461\" y=\"-22.8\" font-family=\"Helvetica,sans-Serif\" font-size=\"14.00\">samples = 41</text>\n<text text-anchor=\"middle\" x=\"3461\" y=\"-7.8\" font-family=\"Helvetica,sans-Serif\" font-size=\"14.00\">value = [5, 36]</text>\n</g>\n<!-- 50&#45;&gt;52 -->\n<g id=\"edge52\" class=\"edge\">\n<title>50&#45;&gt;52</title>\n<path fill=\"none\" stroke=\"black\" d=\"M3450.6,-88.95C3452.01,-80.62 3453.52,-71.65 3454.96,-63.2\"/>\n<polygon fill=\"black\" stroke=\"black\" points=\"3458.42,-63.68 3456.64,-53.24 3451.52,-62.51 3458.42,-63.68\"/>\n</g>\n<!-- 54 -->\n<g id=\"node55\" class=\"node\">\n<title>54</title>\n<path fill=\"#eca26c\" stroke=\"black\" d=\"M3643.5,-53C3643.5,-53 3542.5,-53 3542.5,-53 3536.5,-53 3530.5,-47 3530.5,-41 3530.5,-41 3530.5,-12 3530.5,-12 3530.5,-6 3536.5,0 3542.5,0 3542.5,0 3643.5,0 3643.5,0 3649.5,0 3655.5,-6 3655.5,-12 3655.5,-12 3655.5,-41 3655.5,-41 3655.5,-47 3649.5,-53 3643.5,-53\"/>\n<text text-anchor=\"middle\" x=\"3593\" y=\"-37.8\" font-family=\"Helvetica,sans-Serif\" font-size=\"14.00\">gini = 0.327</text>\n<text text-anchor=\"middle\" x=\"3593\" y=\"-22.8\" font-family=\"Helvetica,sans-Serif\" font-size=\"14.00\">samples = 796</text>\n<text text-anchor=\"middle\" x=\"3593\" y=\"-7.8\" font-family=\"Helvetica,sans-Serif\" font-size=\"14.00\">value = [632, 164]</text>\n</g>\n<!-- 53&#45;&gt;54 -->\n<g id=\"edge54\" class=\"edge\">\n<title>53&#45;&gt;54</title>\n<path fill=\"none\" stroke=\"black\" d=\"M3603.4,-88.95C3601.99,-80.62 3600.48,-71.65 3599.04,-63.2\"/>\n<polygon fill=\"black\" stroke=\"black\" points=\"3602.48,-62.51 3597.36,-53.24 3595.58,-63.68 3602.48,-62.51\"/>\n</g>\n<!-- 55 -->\n<g id=\"node56\" class=\"node\">\n<title>55</title>\n<path fill=\"#f2c29f\" stroke=\"black\" d=\"M3786.5,-53C3786.5,-53 3685.5,-53 3685.5,-53 3679.5,-53 3673.5,-47 3673.5,-41 3673.5,-41 3673.5,-12 3673.5,-12 3673.5,-6 3679.5,0 3685.5,0 3685.5,0 3786.5,0 3786.5,0 3792.5,0 3798.5,-6 3798.5,-12 3798.5,-12 3798.5,-41 3798.5,-41 3798.5,-47 3792.5,-53 3786.5,-53\"/>\n<text text-anchor=\"middle\" x=\"3736\" y=\"-37.8\" font-family=\"Helvetica,sans-Serif\" font-size=\"14.00\">gini = 0.449</text>\n<text text-anchor=\"middle\" x=\"3736\" y=\"-22.8\" font-family=\"Helvetica,sans-Serif\" font-size=\"14.00\">samples = 847</text>\n<text text-anchor=\"middle\" x=\"3736\" y=\"-7.8\" font-family=\"Helvetica,sans-Serif\" font-size=\"14.00\">value = [559, 288]</text>\n</g>\n<!-- 53&#45;&gt;55 -->\n<g id=\"edge55\" class=\"edge\">\n<title>53&#45;&gt;55</title>\n<path fill=\"none\" stroke=\"black\" d=\"M3653.42,-88.95C3666.33,-79.34 3680.4,-68.87 3693.2,-59.34\"/>\n<polygon fill=\"black\" stroke=\"black\" points=\"3695.48,-62.01 3701.41,-53.24 3691.3,-56.4 3695.48,-62.01\"/>\n</g>\n<!-- 57 -->\n<g id=\"node58\" class=\"node\">\n<title>57</title>\n<path fill=\"#baddf6\" stroke=\"black\" d=\"M4006,-157C4006,-157 3832,-157 3832,-157 3826,-157 3820,-151 3820,-145 3820,-145 3820,-101 3820,-101 3820,-95 3826,-89 3832,-89 3832,-89 4006,-89 4006,-89 4012,-89 4018,-95 4018,-101 4018,-101 4018,-145 4018,-145 4018,-151 4012,-157 4006,-157\"/>\n<text text-anchor=\"middle\" x=\"3919\" y=\"-141.8\" font-family=\"Helvetica,sans-Serif\" font-size=\"14.00\">day_of_week_encoded &lt;= 4.5</text>\n<text text-anchor=\"middle\" x=\"3919\" y=\"-126.8\" font-family=\"Helvetica,sans-Serif\" font-size=\"14.00\">gini = 0.478</text>\n<text text-anchor=\"middle\" x=\"3919\" y=\"-111.8\" font-family=\"Helvetica,sans-Serif\" font-size=\"14.00\">samples = 719</text>\n<text text-anchor=\"middle\" x=\"3919\" y=\"-96.8\" font-family=\"Helvetica,sans-Serif\" font-size=\"14.00\">value = [284, 435]</text>\n</g>\n<!-- 56&#45;&gt;57 -->\n<g id=\"edge57\" class=\"edge\">\n<title>56&#45;&gt;57</title>\n<path fill=\"none\" stroke=\"black\" d=\"M3919,-192.88C3919,-184.78 3919,-175.98 3919,-167.47\"/>\n<polygon fill=\"black\" stroke=\"black\" points=\"3922.5,-167.3 3919,-157.3 3915.5,-167.3 3922.5,-167.3\"/>\n</g>\n<!-- 60 -->\n<g id=\"node61\" class=\"node\">\n<title>60</title>\n<path fill=\"#fffdfc\" stroke=\"black\" d=\"M4189.5,-157C4189.5,-157 4088.5,-157 4088.5,-157 4082.5,-157 4076.5,-151 4076.5,-145 4076.5,-145 4076.5,-101 4076.5,-101 4076.5,-95 4082.5,-89 4088.5,-89 4088.5,-89 4189.5,-89 4189.5,-89 4195.5,-89 4201.5,-95 4201.5,-101 4201.5,-101 4201.5,-145 4201.5,-145 4201.5,-151 4195.5,-157 4189.5,-157\"/>\n<text text-anchor=\"middle\" x=\"4139\" y=\"-141.8\" font-family=\"Helvetica,sans-Serif\" font-size=\"14.00\">duration &lt;= 855.5</text>\n<text text-anchor=\"middle\" x=\"4139\" y=\"-126.8\" font-family=\"Helvetica,sans-Serif\" font-size=\"14.00\">gini = 0.5</text>\n<text text-anchor=\"middle\" x=\"4139\" y=\"-111.8\" font-family=\"Helvetica,sans-Serif\" font-size=\"14.00\">samples = 387</text>\n<text text-anchor=\"middle\" x=\"4139\" y=\"-96.8\" font-family=\"Helvetica,sans-Serif\" font-size=\"14.00\">value = [195, 192]</text>\n</g>\n<!-- 56&#45;&gt;60 -->\n<g id=\"edge60\" class=\"edge\">\n<title>56&#45;&gt;60</title>\n<path fill=\"none\" stroke=\"black\" d=\"M3990.43,-192.88C4015.01,-181.48 4042.55,-168.72 4067.16,-157.31\"/>\n<polygon fill=\"black\" stroke=\"black\" points=\"4068.85,-160.38 4076.45,-153 4065.9,-154.03 4068.85,-160.38\"/>\n</g>\n<!-- 58 -->\n<g id=\"node59\" class=\"node\">\n<title>58</title>\n<path fill=\"#aed7f4\" stroke=\"black\" d=\"M3929.5,-53C3929.5,-53 3828.5,-53 3828.5,-53 3822.5,-53 3816.5,-47 3816.5,-41 3816.5,-41 3816.5,-12 3816.5,-12 3816.5,-6 3822.5,0 3828.5,0 3828.5,0 3929.5,0 3929.5,0 3935.5,0 3941.5,-6 3941.5,-12 3941.5,-12 3941.5,-41 3941.5,-41 3941.5,-47 3935.5,-53 3929.5,-53\"/>\n<text text-anchor=\"middle\" x=\"3879\" y=\"-37.8\" font-family=\"Helvetica,sans-Serif\" font-size=\"14.00\">gini = 0.467</text>\n<text text-anchor=\"middle\" x=\"3879\" y=\"-22.8\" font-family=\"Helvetica,sans-Serif\" font-size=\"14.00\">samples = 582</text>\n<text text-anchor=\"middle\" x=\"3879\" y=\"-7.8\" font-family=\"Helvetica,sans-Serif\" font-size=\"14.00\">value = [216, 366]</text>\n</g>\n<!-- 57&#45;&gt;58 -->\n<g id=\"edge58\" class=\"edge\">\n<title>57&#45;&gt;58</title>\n<path fill=\"none\" stroke=\"black\" d=\"M3905.01,-88.95C3901.41,-80.44 3897.52,-71.26 3893.88,-62.65\"/>\n<polygon fill=\"black\" stroke=\"black\" points=\"3897.02,-61.08 3889.89,-53.24 3890.57,-63.81 3897.02,-61.08\"/>\n</g>\n<!-- 59 -->\n<g id=\"node60\" class=\"node\">\n<title>59</title>\n<path fill=\"#fcfeff\" stroke=\"black\" d=\"M4058,-53C4058,-53 3972,-53 3972,-53 3966,-53 3960,-47 3960,-41 3960,-41 3960,-12 3960,-12 3960,-6 3966,0 3972,0 3972,0 4058,0 4058,0 4064,0 4070,-6 4070,-12 4070,-12 4070,-41 4070,-41 4070,-47 4064,-53 4058,-53\"/>\n<text text-anchor=\"middle\" x=\"4015\" y=\"-37.8\" font-family=\"Helvetica,sans-Serif\" font-size=\"14.00\">gini = 0.5</text>\n<text text-anchor=\"middle\" x=\"4015\" y=\"-22.8\" font-family=\"Helvetica,sans-Serif\" font-size=\"14.00\">samples = 137</text>\n<text text-anchor=\"middle\" x=\"4015\" y=\"-7.8\" font-family=\"Helvetica,sans-Serif\" font-size=\"14.00\">value = [68, 69]</text>\n</g>\n<!-- 57&#45;&gt;59 -->\n<g id=\"edge59\" class=\"edge\">\n<title>57&#45;&gt;59</title>\n<path fill=\"none\" stroke=\"black\" d=\"M3952.58,-88.95C3961.96,-79.71 3972.16,-69.67 3981.54,-60.44\"/>\n<polygon fill=\"black\" stroke=\"black\" points=\"3984.18,-62.75 3988.85,-53.24 3979.27,-57.76 3984.18,-62.75\"/>\n</g>\n<!-- 61 -->\n<g id=\"node62\" class=\"node\">\n<title>61</title>\n<path fill=\"#eca06a\" stroke=\"black\" d=\"M4178,-53C4178,-53 4100,-53 4100,-53 4094,-53 4088,-47 4088,-41 4088,-41 4088,-12 4088,-12 4088,-6 4094,0 4100,0 4100,0 4178,0 4178,0 4184,0 4190,-6 4190,-12 4190,-12 4190,-41 4190,-41 4190,-47 4184,-53 4178,-53\"/>\n<text text-anchor=\"middle\" x=\"4139\" y=\"-37.8\" font-family=\"Helvetica,sans-Serif\" font-size=\"14.00\">gini = 0.32</text>\n<text text-anchor=\"middle\" x=\"4139\" y=\"-22.8\" font-family=\"Helvetica,sans-Serif\" font-size=\"14.00\">samples = 20</text>\n<text text-anchor=\"middle\" x=\"4139\" y=\"-7.8\" font-family=\"Helvetica,sans-Serif\" font-size=\"14.00\">value = [16, 4]</text>\n</g>\n<!-- 60&#45;&gt;61 -->\n<g id=\"edge61\" class=\"edge\">\n<title>60&#45;&gt;61</title>\n<path fill=\"none\" stroke=\"black\" d=\"M4139,-88.95C4139,-80.72 4139,-71.85 4139,-63.48\"/>\n<polygon fill=\"black\" stroke=\"black\" points=\"4142.5,-63.24 4139,-53.24 4135.5,-63.24 4142.5,-63.24\"/>\n</g>\n<!-- 62 -->\n<g id=\"node63\" class=\"node\">\n<title>62</title>\n<path fill=\"#f6fafe\" stroke=\"black\" d=\"M4321.5,-53C4321.5,-53 4220.5,-53 4220.5,-53 4214.5,-53 4208.5,-47 4208.5,-41 4208.5,-41 4208.5,-12 4208.5,-12 4208.5,-6 4214.5,0 4220.5,0 4220.5,0 4321.5,0 4321.5,0 4327.5,0 4333.5,-6 4333.5,-12 4333.5,-12 4333.5,-41 4333.5,-41 4333.5,-47 4327.5,-53 4321.5,-53\"/>\n<text text-anchor=\"middle\" x=\"4271\" y=\"-37.8\" font-family=\"Helvetica,sans-Serif\" font-size=\"14.00\">gini = 0.5</text>\n<text text-anchor=\"middle\" x=\"4271\" y=\"-22.8\" font-family=\"Helvetica,sans-Serif\" font-size=\"14.00\">samples = 367</text>\n<text text-anchor=\"middle\" x=\"4271\" y=\"-7.8\" font-family=\"Helvetica,sans-Serif\" font-size=\"14.00\">value = [179, 188]</text>\n</g>\n<!-- 60&#45;&gt;62 -->\n<g id=\"edge62\" class=\"edge\">\n<title>60&#45;&gt;62</title>\n<path fill=\"none\" stroke=\"black\" d=\"M4185.17,-88.95C4198.71,-79.25 4213.49,-68.68 4226.9,-59.07\"/>\n<polygon fill=\"black\" stroke=\"black\" points=\"4228.96,-61.9 4235.05,-53.24 4224.88,-56.21 4228.96,-61.9\"/>\n</g>\n</g>\n</svg>\n",
            "text/plain": [
              "<graphviz.sources.Source at 0x7afe02857ad0>"
            ]
          },
          "metadata": {},
          "execution_count": 637
        }
      ]
    },
    {
      "cell_type": "markdown",
      "source": [
        "## 7. **Decision Tree Model (Entropy Criterion)**"
      ],
      "metadata": {
        "id": "LGadxTDkBYTN"
      }
    },
    {
      "cell_type": "markdown",
      "source": [
        "#### -Train the model"
      ],
      "metadata": {
        "id": "vX-ze8B_Pa_l"
      }
    },
    {
      "cell_type": "markdown",
      "source": [
        "- Trains Decision Tree using entropy (Shanon).\n",
        "\n",
        "- Measures execution time and memory usage."
      ],
      "metadata": {
        "id": "jPAY-DFIBbgV"
      }
    },
    {
      "cell_type": "code",
      "source": [
        "param_grid = {'max_depth': range(1, 20)}\n",
        "grid_search_entropy = GridSearchCV(DecisionTreeClassifier(criterion=\"entropy\", random_state=42), param_grid, cv=5, scoring='accuracy')\n",
        "grid_search_entropy.fit(X_train, y_train)\n",
        "best_max_depth_entropy = grid_search_entropy.best_params_['max_depth']\n",
        "print(f\"Optimal Max Depth for Decision Tree (entropy): {best_max_depth_entropy}\")"
      ],
      "metadata": {
        "colab": {
          "base_uri": "https://localhost:8080/"
        },
        "id": "EYVXYSQs4MyO",
        "outputId": "36bf5396-a494-42a4-9ae0-c1f714cba023"
      },
      "execution_count": 638,
      "outputs": [
        {
          "output_type": "stream",
          "name": "stdout",
          "text": [
            "Optimal Max Depth for Decision Tree (entropy): 5\n"
          ]
        }
      ]
    },
    {
      "cell_type": "code",
      "source": [
        "time_start = time.time()\n",
        "tracemalloc.start()\n",
        "tree_clf_entropy = DecisionTreeClassifier(criterion=\"entropy\",  max_depth=best_max_depth_entropy, random_state=42)\n",
        "tree_clf_entropy.fit(X_train, y_train)\n",
        "entropy_memory, _ = tracemalloc.get_traced_memory()\n",
        "entropy_time = time.time() - time_start\n",
        "tracemalloc.stop()"
      ],
      "metadata": {
        "id": "RF-fQhQ4Ta1m"
      },
      "execution_count": 639,
      "outputs": []
    },
    {
      "cell_type": "markdown",
      "source": [
        "#### -Predict"
      ],
      "metadata": {
        "id": "edCheGwVPYvc"
      }
    },
    {
      "cell_type": "code",
      "source": [
        "y_pred_entropy = tree_clf_entropy.predict(X_test)\n",
        "y_pred_entropy"
      ],
      "metadata": {
        "colab": {
          "base_uri": "https://localhost:8080/"
        },
        "id": "OHuzUahxfr8K",
        "outputId": "b8c67d5c-bc99-4b0f-a96e-25bdd57d243a"
      },
      "execution_count": 640,
      "outputs": [
        {
          "output_type": "execute_result",
          "data": {
            "text/plain": [
              "array([0, 0, 0, ..., 0, 1, 0])"
            ]
          },
          "metadata": {},
          "execution_count": 640
        }
      ]
    },
    {
      "cell_type": "markdown",
      "source": [
        "#### - Evaluate Accuracy on Test Dataset"
      ],
      "metadata": {
        "id": "8s5vtiAdPQnS"
      }
    },
    {
      "cell_type": "code",
      "source": [
        "dt_entropy_accuracy = tree_clf_entropy.score(X_test, y_test)"
      ],
      "metadata": {
        "id": "HqvfShXFB9yk"
      },
      "execution_count": 641,
      "outputs": []
    },
    {
      "cell_type": "code",
      "source": [
        "print(f\"Decision Tree (Entropy) Accuracy: {dt_entropy_accuracy:.4f}\")\n",
        "print(f\"Decision Tree (Entropy) Time Taken: {entropy_time:.4f} seconds\")\n",
        "print(f\"Decision Tree (Entropy) Memory Used: {entropy_memory / 1e6:.2f} MB\")"
      ],
      "metadata": {
        "colab": {
          "base_uri": "https://localhost:8080/"
        },
        "id": "ON8fWEZlVbBk",
        "outputId": "344aa50d-7a8e-48b1-f8b8-aadabda72a9f"
      },
      "execution_count": 642,
      "outputs": [
        {
          "output_type": "stream",
          "name": "stdout",
          "text": [
            "Decision Tree (Entropy) Accuracy: 0.9143\n",
            "Decision Tree (Entropy) Time Taken: 0.0713 seconds\n",
            "Decision Tree (Entropy) Memory Used: 0.00 MB\n"
          ]
        }
      ]
    },
    {
      "cell_type": "markdown",
      "source": [
        "#### - Visualize the Decision Tree"
      ],
      "metadata": {
        "id": "oMkCUkhWOO74"
      }
    },
    {
      "cell_type": "code",
      "source": [
        "export_graphviz(\n",
        "    tree_clf_entropy,\n",
        "    out_file=str(IMAGES_PATH / \"decision_tree_entropy.dot\"),\n",
        "    feature_names=X.columns,\n",
        "    rounded=True,\n",
        "    filled=True\n",
        ")\n",
        "Source.from_file(IMAGES_PATH / \"decision_tree_entropy.dot\")\n"
      ],
      "metadata": {
        "colab": {
          "base_uri": "https://localhost:8080/",
          "height": 816
        },
        "id": "LyfzbfvKTs8w",
        "outputId": "c41bbf58-a920-4b55-b18e-aa501cea59c2"
      },
      "execution_count": 643,
      "outputs": [
        {
          "output_type": "execute_result",
          "data": {
            "image/svg+xml": "<?xml version=\"1.0\" encoding=\"UTF-8\" standalone=\"no\"?>\n<!DOCTYPE svg PUBLIC \"-//W3C//DTD SVG 1.1//EN\"\n \"http://www.w3.org/Graphics/SVG/1.1/DTD/svg11.dtd\">\n<!-- Generated by graphviz version 2.43.0 (0)\n -->\n<!-- Title: Tree Pages: 1 -->\n<svg width=\"3853pt\" height=\"581pt\"\n viewBox=\"0.00 0.00 3853.00 581.00\" xmlns=\"http://www.w3.org/2000/svg\" xmlns:xlink=\"http://www.w3.org/1999/xlink\">\n<g id=\"graph0\" class=\"graph\" transform=\"scale(1 1) rotate(0) translate(4 577)\">\n<title>Tree</title>\n<polygon fill=\"white\" stroke=\"transparent\" points=\"-4,4 -4,-577 3849,-577 3849,4 -4,4\"/>\n<!-- 0 -->\n<g id=\"node1\" class=\"node\">\n<title>0</title>\n<path fill=\"#e89152\" stroke=\"black\" d=\"M1580.5,-573C1580.5,-573 1440.5,-573 1440.5,-573 1434.5,-573 1428.5,-567 1428.5,-561 1428.5,-561 1428.5,-517 1428.5,-517 1428.5,-511 1434.5,-505 1440.5,-505 1440.5,-505 1580.5,-505 1580.5,-505 1586.5,-505 1592.5,-511 1592.5,-517 1592.5,-517 1592.5,-561 1592.5,-561 1592.5,-567 1586.5,-573 1580.5,-573\"/>\n<text text-anchor=\"middle\" x=\"1510.5\" y=\"-557.8\" font-family=\"Helvetica,sans-Serif\" font-size=\"14.00\">nr.employed &lt;= 5087.65</text>\n<text text-anchor=\"middle\" x=\"1510.5\" y=\"-542.8\" font-family=\"Helvetica,sans-Serif\" font-size=\"14.00\">entropy = 0.507</text>\n<text text-anchor=\"middle\" x=\"1510.5\" y=\"-527.8\" font-family=\"Helvetica,sans-Serif\" font-size=\"14.00\">samples = 32950</text>\n<text text-anchor=\"middle\" x=\"1510.5\" y=\"-512.8\" font-family=\"Helvetica,sans-Serif\" font-size=\"14.00\">value = [29245, 3705]</text>\n</g>\n<!-- 1 -->\n<g id=\"node2\" class=\"node\">\n<title>1</title>\n<path fill=\"#fae7d9\" stroke=\"black\" d=\"M1070.5,-469C1070.5,-469 954.5,-469 954.5,-469 948.5,-469 942.5,-463 942.5,-457 942.5,-457 942.5,-413 942.5,-413 942.5,-407 948.5,-401 954.5,-401 954.5,-401 1070.5,-401 1070.5,-401 1076.5,-401 1082.5,-407 1082.5,-413 1082.5,-413 1082.5,-457 1082.5,-457 1082.5,-463 1076.5,-469 1070.5,-469\"/>\n<text text-anchor=\"middle\" x=\"1012.5\" y=\"-453.8\" font-family=\"Helvetica,sans-Serif\" font-size=\"14.00\">duration &lt;= 158.5</text>\n<text text-anchor=\"middle\" x=\"1012.5\" y=\"-438.8\" font-family=\"Helvetica,sans-Serif\" font-size=\"14.00\">entropy = 0.992</text>\n<text text-anchor=\"middle\" x=\"1012.5\" y=\"-423.8\" font-family=\"Helvetica,sans-Serif\" font-size=\"14.00\">samples = 3976</text>\n<text text-anchor=\"middle\" x=\"1012.5\" y=\"-408.8\" font-family=\"Helvetica,sans-Serif\" font-size=\"14.00\">value = [2199, 1777]</text>\n</g>\n<!-- 0&#45;&gt;1 -->\n<g id=\"edge1\" class=\"edge\">\n<title>0&#45;&gt;1</title>\n<path fill=\"none\" stroke=\"black\" d=\"M1428.27,-521.16C1335.24,-502.1 1184.74,-471.28 1092.6,-452.41\"/>\n<polygon fill=\"black\" stroke=\"black\" points=\"1093.27,-448.97 1082.77,-450.39 1091.86,-455.83 1093.27,-448.97\"/>\n<text text-anchor=\"middle\" x=\"1096.54\" y=\"-467.56\" font-family=\"Helvetica,sans-Serif\" font-size=\"14.00\">True</text>\n</g>\n<!-- 26 -->\n<g id=\"node27\" class=\"node\">\n<title>26</title>\n<path fill=\"#e78a47\" stroke=\"black\" d=\"M2202,-469C2202,-469 2079,-469 2079,-469 2073,-469 2067,-463 2067,-457 2067,-457 2067,-413 2067,-413 2067,-407 2073,-401 2079,-401 2079,-401 2202,-401 2202,-401 2208,-401 2214,-407 2214,-413 2214,-413 2214,-457 2214,-457 2214,-463 2208,-469 2202,-469\"/>\n<text text-anchor=\"middle\" x=\"2140.5\" y=\"-453.8\" font-family=\"Helvetica,sans-Serif\" font-size=\"14.00\">duration &lt;= 472.5</text>\n<text text-anchor=\"middle\" x=\"2140.5\" y=\"-438.8\" font-family=\"Helvetica,sans-Serif\" font-size=\"14.00\">entropy = 0.353</text>\n<text text-anchor=\"middle\" x=\"2140.5\" y=\"-423.8\" font-family=\"Helvetica,sans-Serif\" font-size=\"14.00\">samples = 28974</text>\n<text text-anchor=\"middle\" x=\"2140.5\" y=\"-408.8\" font-family=\"Helvetica,sans-Serif\" font-size=\"14.00\">value = [27046, 1928]</text>\n</g>\n<!-- 0&#45;&gt;26 -->\n<g id=\"edge26\" class=\"edge\">\n<title>0&#45;&gt;26</title>\n<path fill=\"none\" stroke=\"black\" d=\"M1592.54,-524.72C1712.79,-505.25 1935.73,-469.15 2056.87,-449.54\"/>\n<polygon fill=\"black\" stroke=\"black\" points=\"2057.53,-452.98 2066.85,-447.93 2056.41,-446.07 2057.53,-452.98\"/>\n<text text-anchor=\"middle\" x=\"2052.22\" y=\"-464.5\" font-family=\"Helvetica,sans-Serif\" font-size=\"14.00\">False</text>\n</g>\n<!-- 2 -->\n<g id=\"node3\" class=\"node\">\n<title>2</title>\n<path fill=\"#ea985d\" stroke=\"black\" d=\"M453.5,-365C453.5,-365 345.5,-365 345.5,-365 339.5,-365 333.5,-359 333.5,-353 333.5,-353 333.5,-309 333.5,-309 333.5,-303 339.5,-297 345.5,-297 345.5,-297 453.5,-297 453.5,-297 459.5,-297 465.5,-303 465.5,-309 465.5,-309 465.5,-353 465.5,-353 465.5,-359 459.5,-365 453.5,-365\"/>\n<text text-anchor=\"middle\" x=\"399.5\" y=\"-349.8\" font-family=\"Helvetica,sans-Serif\" font-size=\"14.00\">duration &lt;= 62.5</text>\n<text text-anchor=\"middle\" x=\"399.5\" y=\"-334.8\" font-family=\"Helvetica,sans-Serif\" font-size=\"14.00\">entropy = 0.615</text>\n<text text-anchor=\"middle\" x=\"399.5\" y=\"-319.8\" font-family=\"Helvetica,sans-Serif\" font-size=\"14.00\">samples = 1361</text>\n<text text-anchor=\"middle\" x=\"399.5\" y=\"-304.8\" font-family=\"Helvetica,sans-Serif\" font-size=\"14.00\">value = [1154, 207]</text>\n</g>\n<!-- 1&#45;&gt;2 -->\n<g id=\"edge2\" class=\"edge\">\n<title>1&#45;&gt;2</title>\n<path fill=\"none\" stroke=\"black\" d=\"M942.48,-422.35C826.64,-403.07 596.01,-364.7 476.02,-344.73\"/>\n<polygon fill=\"black\" stroke=\"black\" points=\"476.26,-341.22 465.82,-343.04 475.11,-348.13 476.26,-341.22\"/>\n</g>\n<!-- 11 -->\n<g id=\"node12\" class=\"node\">\n<title>11</title>\n<path fill=\"#bddef6\" stroke=\"black\" d=\"M1070.5,-365C1070.5,-365 954.5,-365 954.5,-365 948.5,-365 942.5,-359 942.5,-353 942.5,-353 942.5,-309 942.5,-309 942.5,-303 948.5,-297 954.5,-297 954.5,-297 1070.5,-297 1070.5,-297 1076.5,-297 1082.5,-303 1082.5,-309 1082.5,-309 1082.5,-353 1082.5,-353 1082.5,-359 1076.5,-365 1070.5,-365\"/>\n<text text-anchor=\"middle\" x=\"1012.5\" y=\"-349.8\" font-family=\"Helvetica,sans-Serif\" font-size=\"14.00\">pdays &lt;= 16.5</text>\n<text text-anchor=\"middle\" x=\"1012.5\" y=\"-334.8\" font-family=\"Helvetica,sans-Serif\" font-size=\"14.00\">entropy = 0.971</text>\n<text text-anchor=\"middle\" x=\"1012.5\" y=\"-319.8\" font-family=\"Helvetica,sans-Serif\" font-size=\"14.00\">samples = 2615</text>\n<text text-anchor=\"middle\" x=\"1012.5\" y=\"-304.8\" font-family=\"Helvetica,sans-Serif\" font-size=\"14.00\">value = [1045, 1570]</text>\n</g>\n<!-- 1&#45;&gt;11 -->\n<g id=\"edge11\" class=\"edge\">\n<title>1&#45;&gt;11</title>\n<path fill=\"none\" stroke=\"black\" d=\"M1012.5,-400.88C1012.5,-392.78 1012.5,-383.98 1012.5,-375.47\"/>\n<polygon fill=\"black\" stroke=\"black\" points=\"1016,-375.3 1012.5,-365.3 1009,-375.3 1016,-375.3\"/>\n</g>\n<!-- 3 -->\n<g id=\"node4\" class=\"node\">\n<title>3</title>\n<path fill=\"#e58139\" stroke=\"black\" d=\"M306.5,-253.5C306.5,-253.5 220.5,-253.5 220.5,-253.5 214.5,-253.5 208.5,-247.5 208.5,-241.5 208.5,-241.5 208.5,-212.5 208.5,-212.5 208.5,-206.5 214.5,-200.5 220.5,-200.5 220.5,-200.5 306.5,-200.5 306.5,-200.5 312.5,-200.5 318.5,-206.5 318.5,-212.5 318.5,-212.5 318.5,-241.5 318.5,-241.5 318.5,-247.5 312.5,-253.5 306.5,-253.5\"/>\n<text text-anchor=\"middle\" x=\"263.5\" y=\"-238.3\" font-family=\"Helvetica,sans-Serif\" font-size=\"14.00\">entropy = 0.0</text>\n<text text-anchor=\"middle\" x=\"263.5\" y=\"-223.3\" font-family=\"Helvetica,sans-Serif\" font-size=\"14.00\">samples = 203</text>\n<text text-anchor=\"middle\" x=\"263.5\" y=\"-208.3\" font-family=\"Helvetica,sans-Serif\" font-size=\"14.00\">value = [203, 0]</text>\n</g>\n<!-- 2&#45;&gt;3 -->\n<g id=\"edge3\" class=\"edge\">\n<title>2&#45;&gt;3</title>\n<path fill=\"none\" stroke=\"black\" d=\"M355.34,-296.88C339.36,-284.9 321.37,-271.4 305.57,-259.55\"/>\n<polygon fill=\"black\" stroke=\"black\" points=\"307.63,-256.72 297.53,-253.52 303.43,-262.32 307.63,-256.72\"/>\n</g>\n<!-- 4 -->\n<g id=\"node5\" class=\"node\">\n<title>4</title>\n<path fill=\"#eb9c64\" stroke=\"black\" d=\"M450,-261C450,-261 349,-261 349,-261 343,-261 337,-255 337,-249 337,-249 337,-205 337,-205 337,-199 343,-193 349,-193 349,-193 450,-193 450,-193 456,-193 462,-199 462,-205 462,-205 462,-249 462,-249 462,-255 456,-261 450,-261\"/>\n<text text-anchor=\"middle\" x=\"399.5\" y=\"-245.8\" font-family=\"Helvetica,sans-Serif\" font-size=\"14.00\">pdays &lt;= 14.5</text>\n<text text-anchor=\"middle\" x=\"399.5\" y=\"-230.8\" font-family=\"Helvetica,sans-Serif\" font-size=\"14.00\">entropy = 0.677</text>\n<text text-anchor=\"middle\" x=\"399.5\" y=\"-215.8\" font-family=\"Helvetica,sans-Serif\" font-size=\"14.00\">samples = 1158</text>\n<text text-anchor=\"middle\" x=\"399.5\" y=\"-200.8\" font-family=\"Helvetica,sans-Serif\" font-size=\"14.00\">value = [951, 207]</text>\n</g>\n<!-- 2&#45;&gt;4 -->\n<g id=\"edge4\" class=\"edge\">\n<title>2&#45;&gt;4</title>\n<path fill=\"none\" stroke=\"black\" d=\"M399.5,-296.88C399.5,-288.78 399.5,-279.98 399.5,-271.47\"/>\n<polygon fill=\"black\" stroke=\"black\" points=\"403,-271.3 399.5,-261.3 396,-271.3 403,-271.3\"/>\n</g>\n<!-- 5 -->\n<g id=\"node6\" class=\"node\">\n<title>5</title>\n<path fill=\"#f5cdb0\" stroke=\"black\" d=\"M254.5,-157C254.5,-157 114.5,-157 114.5,-157 108.5,-157 102.5,-151 102.5,-145 102.5,-145 102.5,-101 102.5,-101 102.5,-95 108.5,-89 114.5,-89 114.5,-89 254.5,-89 254.5,-89 260.5,-89 266.5,-95 266.5,-101 266.5,-101 266.5,-145 266.5,-145 266.5,-151 260.5,-157 254.5,-157\"/>\n<text text-anchor=\"middle\" x=\"184.5\" y=\"-141.8\" font-family=\"Helvetica,sans-Serif\" font-size=\"14.00\">cons.price.idx &lt;= 93.559</text>\n<text text-anchor=\"middle\" x=\"184.5\" y=\"-126.8\" font-family=\"Helvetica,sans-Serif\" font-size=\"14.00\">entropy = 0.955</text>\n<text text-anchor=\"middle\" x=\"184.5\" y=\"-111.8\" font-family=\"Helvetica,sans-Serif\" font-size=\"14.00\">samples = 189</text>\n<text text-anchor=\"middle\" x=\"184.5\" y=\"-96.8\" font-family=\"Helvetica,sans-Serif\" font-size=\"14.00\">value = [118, 71]</text>\n</g>\n<!-- 4&#45;&gt;5 -->\n<g id=\"edge5\" class=\"edge\">\n<title>4&#45;&gt;5</title>\n<path fill=\"none\" stroke=\"black\" d=\"M336.74,-196.22C313.76,-185.33 287.48,-172.85 263.29,-161.38\"/>\n<polygon fill=\"black\" stroke=\"black\" points=\"264.66,-158.16 254.13,-157.03 261.66,-164.48 264.66,-158.16\"/>\n</g>\n<!-- 8 -->\n<g id=\"node9\" class=\"node\">\n<title>8</title>\n<path fill=\"#e99659\" stroke=\"black\" d=\"M450,-157C450,-157 349,-157 349,-157 343,-157 337,-151 337,-145 337,-145 337,-101 337,-101 337,-95 343,-89 349,-89 349,-89 450,-89 450,-89 456,-89 462,-95 462,-101 462,-101 462,-145 462,-145 462,-151 456,-157 450,-157\"/>\n<text text-anchor=\"middle\" x=\"399.5\" y=\"-141.8\" font-family=\"Helvetica,sans-Serif\" font-size=\"14.00\">duration &lt;= 123.5</text>\n<text text-anchor=\"middle\" x=\"399.5\" y=\"-126.8\" font-family=\"Helvetica,sans-Serif\" font-size=\"14.00\">entropy = 0.585</text>\n<text text-anchor=\"middle\" x=\"399.5\" y=\"-111.8\" font-family=\"Helvetica,sans-Serif\" font-size=\"14.00\">samples = 969</text>\n<text text-anchor=\"middle\" x=\"399.5\" y=\"-96.8\" font-family=\"Helvetica,sans-Serif\" font-size=\"14.00\">value = [833, 136]</text>\n</g>\n<!-- 4&#45;&gt;8 -->\n<g id=\"edge8\" class=\"edge\">\n<title>4&#45;&gt;8</title>\n<path fill=\"none\" stroke=\"black\" d=\"M399.5,-192.88C399.5,-184.78 399.5,-175.98 399.5,-167.47\"/>\n<polygon fill=\"black\" stroke=\"black\" points=\"403,-167.3 399.5,-157.3 396,-167.3 403,-167.3\"/>\n</g>\n<!-- 6 -->\n<g id=\"node7\" class=\"node\">\n<title>6</title>\n<path fill=\"#fcf3ec\" stroke=\"black\" d=\"M99,-53C99,-53 12,-53 12,-53 6,-53 0,-47 0,-41 0,-41 0,-12 0,-12 0,-6 6,0 12,0 12,0 99,0 99,0 105,0 111,-6 111,-12 111,-12 111,-41 111,-41 111,-47 105,-53 99,-53\"/>\n<text text-anchor=\"middle\" x=\"55.5\" y=\"-37.8\" font-family=\"Helvetica,sans-Serif\" font-size=\"14.00\">entropy = 0.998</text>\n<text text-anchor=\"middle\" x=\"55.5\" y=\"-22.8\" font-family=\"Helvetica,sans-Serif\" font-size=\"14.00\">samples = 137</text>\n<text text-anchor=\"middle\" x=\"55.5\" y=\"-7.8\" font-family=\"Helvetica,sans-Serif\" font-size=\"14.00\">value = [72, 65]</text>\n</g>\n<!-- 5&#45;&gt;6 -->\n<g id=\"edge6\" class=\"edge\">\n<title>5&#45;&gt;6</title>\n<path fill=\"none\" stroke=\"black\" d=\"M139.38,-88.95C126.27,-79.34 111.98,-68.87 98.97,-59.34\"/>\n<polygon fill=\"black\" stroke=\"black\" points=\"100.77,-56.32 90.63,-53.24 96.63,-61.97 100.77,-56.32\"/>\n</g>\n<!-- 7 -->\n<g id=\"node8\" class=\"node\">\n<title>7</title>\n<path fill=\"#e89153\" stroke=\"black\" d=\"M228,-53C228,-53 141,-53 141,-53 135,-53 129,-47 129,-41 129,-41 129,-12 129,-12 129,-6 135,0 141,0 141,0 228,0 228,0 234,0 240,-6 240,-12 240,-12 240,-41 240,-41 240,-47 234,-53 228,-53\"/>\n<text text-anchor=\"middle\" x=\"184.5\" y=\"-37.8\" font-family=\"Helvetica,sans-Serif\" font-size=\"14.00\">entropy = 0.516</text>\n<text text-anchor=\"middle\" x=\"184.5\" y=\"-22.8\" font-family=\"Helvetica,sans-Serif\" font-size=\"14.00\">samples = 52</text>\n<text text-anchor=\"middle\" x=\"184.5\" y=\"-7.8\" font-family=\"Helvetica,sans-Serif\" font-size=\"14.00\">value = [46, 6]</text>\n</g>\n<!-- 5&#45;&gt;7 -->\n<g id=\"edge7\" class=\"edge\">\n<title>5&#45;&gt;7</title>\n<path fill=\"none\" stroke=\"black\" d=\"M184.5,-88.95C184.5,-80.72 184.5,-71.85 184.5,-63.48\"/>\n<polygon fill=\"black\" stroke=\"black\" points=\"188,-63.24 184.5,-53.24 181,-63.24 188,-63.24\"/>\n</g>\n<!-- 9 -->\n<g id=\"node10\" class=\"node\">\n<title>9</title>\n<path fill=\"#e88f4f\" stroke=\"black\" d=\"M363,-53C363,-53 270,-53 270,-53 264,-53 258,-47 258,-41 258,-41 258,-12 258,-12 258,-6 264,0 270,0 270,0 363,0 363,0 369,0 375,-6 375,-12 375,-12 375,-41 375,-41 375,-47 369,-53 363,-53\"/>\n<text text-anchor=\"middle\" x=\"316.5\" y=\"-37.8\" font-family=\"Helvetica,sans-Serif\" font-size=\"14.00\">entropy = 0.466</text>\n<text text-anchor=\"middle\" x=\"316.5\" y=\"-22.8\" font-family=\"Helvetica,sans-Serif\" font-size=\"14.00\">samples = 616</text>\n<text text-anchor=\"middle\" x=\"316.5\" y=\"-7.8\" font-family=\"Helvetica,sans-Serif\" font-size=\"14.00\">value = [555, 61]</text>\n</g>\n<!-- 8&#45;&gt;9 -->\n<g id=\"edge9\" class=\"edge\">\n<title>8&#45;&gt;9</title>\n<path fill=\"none\" stroke=\"black\" d=\"M370.47,-88.95C362.52,-79.89 353.89,-70.07 345.91,-60.99\"/>\n<polygon fill=\"black\" stroke=\"black\" points=\"348.33,-58.44 339.1,-53.24 343.07,-63.06 348.33,-58.44\"/>\n</g>\n<!-- 10 -->\n<g id=\"node11\" class=\"node\">\n<title>10</title>\n<path fill=\"#eca36e\" stroke=\"black\" d=\"M498,-53C498,-53 405,-53 405,-53 399,-53 393,-47 393,-41 393,-41 393,-12 393,-12 393,-6 399,0 405,0 405,0 498,0 498,0 504,0 510,-6 510,-12 510,-12 510,-41 510,-41 510,-47 504,-53 498,-53\"/>\n<text text-anchor=\"middle\" x=\"451.5\" y=\"-37.8\" font-family=\"Helvetica,sans-Serif\" font-size=\"14.00\">entropy = 0.746</text>\n<text text-anchor=\"middle\" x=\"451.5\" y=\"-22.8\" font-family=\"Helvetica,sans-Serif\" font-size=\"14.00\">samples = 353</text>\n<text text-anchor=\"middle\" x=\"451.5\" y=\"-7.8\" font-family=\"Helvetica,sans-Serif\" font-size=\"14.00\">value = [278, 75]</text>\n</g>\n<!-- 8&#45;&gt;10 -->\n<g id=\"edge10\" class=\"edge\">\n<title>8&#45;&gt;10</title>\n<path fill=\"none\" stroke=\"black\" d=\"M417.69,-88.95C422.47,-80.26 427.64,-70.86 432.47,-62.09\"/>\n<polygon fill=\"black\" stroke=\"black\" points=\"435.58,-63.69 437.34,-53.24 429.45,-60.31 435.58,-63.69\"/>\n</g>\n<!-- 12 -->\n<g id=\"node13\" class=\"node\">\n<title>12</title>\n<path fill=\"#68b4eb\" stroke=\"black\" d=\"M963,-261C963,-261 862,-261 862,-261 856,-261 850,-255 850,-249 850,-249 850,-205 850,-205 850,-199 856,-193 862,-193 862,-193 963,-193 963,-193 969,-193 975,-199 975,-205 975,-205 975,-249 975,-249 975,-255 969,-261 963,-261\"/>\n<text text-anchor=\"middle\" x=\"912.5\" y=\"-245.8\" font-family=\"Helvetica,sans-Serif\" font-size=\"14.00\">campaign &lt;= 6.5</text>\n<text text-anchor=\"middle\" x=\"912.5\" y=\"-230.8\" font-family=\"Helvetica,sans-Serif\" font-size=\"14.00\">entropy = 0.707</text>\n<text text-anchor=\"middle\" x=\"912.5\" y=\"-215.8\" font-family=\"Helvetica,sans-Serif\" font-size=\"14.00\">samples = 768</text>\n<text text-anchor=\"middle\" x=\"912.5\" y=\"-200.8\" font-family=\"Helvetica,sans-Serif\" font-size=\"14.00\">value = [148, 620]</text>\n</g>\n<!-- 11&#45;&gt;12 -->\n<g id=\"edge12\" class=\"edge\">\n<title>11&#45;&gt;12</title>\n<path fill=\"none\" stroke=\"black\" d=\"M980.03,-296.88C971.21,-287.89 961.56,-278.04 952.38,-268.68\"/>\n<polygon fill=\"black\" stroke=\"black\" points=\"954.65,-265.99 945.15,-261.3 949.65,-270.89 954.65,-265.99\"/>\n</g>\n<!-- 19 -->\n<g id=\"node20\" class=\"node\">\n<title>19</title>\n<path fill=\"#f4fafe\" stroke=\"black\" d=\"M1164,-261C1164,-261 1063,-261 1063,-261 1057,-261 1051,-255 1051,-249 1051,-249 1051,-205 1051,-205 1051,-199 1057,-193 1063,-193 1063,-193 1164,-193 1164,-193 1170,-193 1176,-199 1176,-205 1176,-205 1176,-249 1176,-249 1176,-255 1170,-261 1164,-261\"/>\n<text text-anchor=\"middle\" x=\"1113.5\" y=\"-245.8\" font-family=\"Helvetica,sans-Serif\" font-size=\"14.00\">duration &lt;= 250.5</text>\n<text text-anchor=\"middle\" x=\"1113.5\" y=\"-230.8\" font-family=\"Helvetica,sans-Serif\" font-size=\"14.00\">entropy = 0.999</text>\n<text text-anchor=\"middle\" x=\"1113.5\" y=\"-215.8\" font-family=\"Helvetica,sans-Serif\" font-size=\"14.00\">samples = 1847</text>\n<text text-anchor=\"middle\" x=\"1113.5\" y=\"-200.8\" font-family=\"Helvetica,sans-Serif\" font-size=\"14.00\">value = [897, 950]</text>\n</g>\n<!-- 11&#45;&gt;19 -->\n<g id=\"edge19\" class=\"edge\">\n<title>11&#45;&gt;19</title>\n<path fill=\"none\" stroke=\"black\" d=\"M1045.29,-296.88C1054.2,-287.89 1063.95,-278.04 1073.22,-268.68\"/>\n<polygon fill=\"black\" stroke=\"black\" points=\"1075.98,-270.87 1080.53,-261.3 1071,-265.94 1075.98,-270.87\"/>\n</g>\n<!-- 13 -->\n<g id=\"node14\" class=\"node\">\n<title>13</title>\n<path fill=\"#67b4eb\" stroke=\"black\" d=\"M758,-157C758,-157 657,-157 657,-157 651,-157 645,-151 645,-145 645,-145 645,-101 645,-101 645,-95 651,-89 657,-89 657,-89 758,-89 758,-89 764,-89 770,-95 770,-101 770,-101 770,-145 770,-145 770,-151 764,-157 758,-157\"/>\n<text text-anchor=\"middle\" x=\"707.5\" y=\"-141.8\" font-family=\"Helvetica,sans-Serif\" font-size=\"14.00\">duration &lt;= 164.5</text>\n<text text-anchor=\"middle\" x=\"707.5\" y=\"-126.8\" font-family=\"Helvetica,sans-Serif\" font-size=\"14.00\">entropy = 0.699</text>\n<text text-anchor=\"middle\" x=\"707.5\" y=\"-111.8\" font-family=\"Helvetica,sans-Serif\" font-size=\"14.00\">samples = 763</text>\n<text text-anchor=\"middle\" x=\"707.5\" y=\"-96.8\" font-family=\"Helvetica,sans-Serif\" font-size=\"14.00\">value = [144, 619]</text>\n</g>\n<!-- 12&#45;&gt;13 -->\n<g id=\"edge13\" class=\"edge\">\n<title>12&#45;&gt;13</title>\n<path fill=\"none\" stroke=\"black\" d=\"M849.88,-194.84C827.53,-183.72 802.18,-171.11 779.14,-159.64\"/>\n<polygon fill=\"black\" stroke=\"black\" points=\"780.6,-156.46 770.09,-155.14 777.48,-162.73 780.6,-156.46\"/>\n</g>\n<!-- 16 -->\n<g id=\"node17\" class=\"node\">\n<title>16</title>\n<path fill=\"#eca06a\" stroke=\"black\" d=\"M956,-157C956,-157 869,-157 869,-157 863,-157 857,-151 857,-145 857,-145 857,-101 857,-101 857,-95 863,-89 869,-89 869,-89 956,-89 956,-89 962,-89 968,-95 968,-101 968,-101 968,-145 968,-145 968,-151 962,-157 956,-157\"/>\n<text text-anchor=\"middle\" x=\"912.5\" y=\"-141.8\" font-family=\"Helvetica,sans-Serif\" font-size=\"14.00\">age &lt;= 53.0</text>\n<text text-anchor=\"middle\" x=\"912.5\" y=\"-126.8\" font-family=\"Helvetica,sans-Serif\" font-size=\"14.00\">entropy = 0.722</text>\n<text text-anchor=\"middle\" x=\"912.5\" y=\"-111.8\" font-family=\"Helvetica,sans-Serif\" font-size=\"14.00\">samples = 5</text>\n<text text-anchor=\"middle\" x=\"912.5\" y=\"-96.8\" font-family=\"Helvetica,sans-Serif\" font-size=\"14.00\">value = [4, 1]</text>\n</g>\n<!-- 12&#45;&gt;16 -->\n<g id=\"edge16\" class=\"edge\">\n<title>12&#45;&gt;16</title>\n<path fill=\"none\" stroke=\"black\" d=\"M912.5,-192.88C912.5,-184.78 912.5,-175.98 912.5,-167.47\"/>\n<polygon fill=\"black\" stroke=\"black\" points=\"916,-167.3 912.5,-157.3 909,-167.3 916,-167.3\"/>\n</g>\n<!-- 14 -->\n<g id=\"node15\" class=\"node\">\n<title>14</title>\n<path fill=\"#ffffff\" stroke=\"black\" d=\"M614.5,-53C614.5,-53 540.5,-53 540.5,-53 534.5,-53 528.5,-47 528.5,-41 528.5,-41 528.5,-12 528.5,-12 528.5,-6 534.5,0 540.5,0 540.5,0 614.5,0 614.5,0 620.5,0 626.5,-6 626.5,-12 626.5,-12 626.5,-41 626.5,-41 626.5,-47 620.5,-53 614.5,-53\"/>\n<text text-anchor=\"middle\" x=\"577.5\" y=\"-37.8\" font-family=\"Helvetica,sans-Serif\" font-size=\"14.00\">entropy = 1.0</text>\n<text text-anchor=\"middle\" x=\"577.5\" y=\"-22.8\" font-family=\"Helvetica,sans-Serif\" font-size=\"14.00\">samples = 14</text>\n<text text-anchor=\"middle\" x=\"577.5\" y=\"-7.8\" font-family=\"Helvetica,sans-Serif\" font-size=\"14.00\">value = [7, 7]</text>\n</g>\n<!-- 13&#45;&gt;14 -->\n<g id=\"edge14\" class=\"edge\">\n<title>13&#45;&gt;14</title>\n<path fill=\"none\" stroke=\"black\" d=\"M662.03,-88.95C648.82,-79.34 634.42,-68.87 621.31,-59.34\"/>\n<polygon fill=\"black\" stroke=\"black\" points=\"623.05,-56.29 612.9,-53.24 618.94,-61.95 623.05,-56.29\"/>\n</g>\n<!-- 15 -->\n<g id=\"node16\" class=\"node\">\n<title>15</title>\n<path fill=\"#65b3eb\" stroke=\"black\" d=\"M758,-53C758,-53 657,-53 657,-53 651,-53 645,-47 645,-41 645,-41 645,-12 645,-12 645,-6 651,0 657,0 657,0 758,0 758,0 764,0 770,-6 770,-12 770,-12 770,-41 770,-41 770,-47 764,-53 758,-53\"/>\n<text text-anchor=\"middle\" x=\"707.5\" y=\"-37.8\" font-family=\"Helvetica,sans-Serif\" font-size=\"14.00\">entropy = 0.686</text>\n<text text-anchor=\"middle\" x=\"707.5\" y=\"-22.8\" font-family=\"Helvetica,sans-Serif\" font-size=\"14.00\">samples = 749</text>\n<text text-anchor=\"middle\" x=\"707.5\" y=\"-7.8\" font-family=\"Helvetica,sans-Serif\" font-size=\"14.00\">value = [137, 612]</text>\n</g>\n<!-- 13&#45;&gt;15 -->\n<g id=\"edge15\" class=\"edge\">\n<title>13&#45;&gt;15</title>\n<path fill=\"none\" stroke=\"black\" d=\"M707.5,-88.95C707.5,-80.72 707.5,-71.85 707.5,-63.48\"/>\n<polygon fill=\"black\" stroke=\"black\" points=\"711,-63.24 707.5,-53.24 704,-63.24 711,-63.24\"/>\n</g>\n<!-- 17 -->\n<g id=\"node18\" class=\"node\">\n<title>17</title>\n<path fill=\"#e58139\" stroke=\"black\" d=\"M872.5,-53C872.5,-53 800.5,-53 800.5,-53 794.5,-53 788.5,-47 788.5,-41 788.5,-41 788.5,-12 788.5,-12 788.5,-6 794.5,0 800.5,0 800.5,0 872.5,0 872.5,0 878.5,0 884.5,-6 884.5,-12 884.5,-12 884.5,-41 884.5,-41 884.5,-47 878.5,-53 872.5,-53\"/>\n<text text-anchor=\"middle\" x=\"836.5\" y=\"-37.8\" font-family=\"Helvetica,sans-Serif\" font-size=\"14.00\">entropy = 0.0</text>\n<text text-anchor=\"middle\" x=\"836.5\" y=\"-22.8\" font-family=\"Helvetica,sans-Serif\" font-size=\"14.00\">samples = 4</text>\n<text text-anchor=\"middle\" x=\"836.5\" y=\"-7.8\" font-family=\"Helvetica,sans-Serif\" font-size=\"14.00\">value = [4, 0]</text>\n</g>\n<!-- 16&#45;&gt;17 -->\n<g id=\"edge17\" class=\"edge\">\n<title>16&#45;&gt;17</title>\n<path fill=\"none\" stroke=\"black\" d=\"M885.92,-88.95C878.71,-79.98 870.89,-70.27 863.65,-61.26\"/>\n<polygon fill=\"black\" stroke=\"black\" points=\"866.19,-58.84 857.2,-53.24 860.74,-63.22 866.19,-58.84\"/>\n</g>\n<!-- 18 -->\n<g id=\"node19\" class=\"node\">\n<title>18</title>\n<path fill=\"#399de5\" stroke=\"black\" d=\"M986.5,-53C986.5,-53 914.5,-53 914.5,-53 908.5,-53 902.5,-47 902.5,-41 902.5,-41 902.5,-12 902.5,-12 902.5,-6 908.5,0 914.5,0 914.5,0 986.5,0 986.5,0 992.5,0 998.5,-6 998.5,-12 998.5,-12 998.5,-41 998.5,-41 998.5,-47 992.5,-53 986.5,-53\"/>\n<text text-anchor=\"middle\" x=\"950.5\" y=\"-37.8\" font-family=\"Helvetica,sans-Serif\" font-size=\"14.00\">entropy = 0.0</text>\n<text text-anchor=\"middle\" x=\"950.5\" y=\"-22.8\" font-family=\"Helvetica,sans-Serif\" font-size=\"14.00\">samples = 1</text>\n<text text-anchor=\"middle\" x=\"950.5\" y=\"-7.8\" font-family=\"Helvetica,sans-Serif\" font-size=\"14.00\">value = [0, 1]</text>\n</g>\n<!-- 16&#45;&gt;18 -->\n<g id=\"edge18\" class=\"edge\">\n<title>16&#45;&gt;18</title>\n<path fill=\"none\" stroke=\"black\" d=\"M925.79,-88.95C929.21,-80.44 932.9,-71.26 936.37,-62.65\"/>\n<polygon fill=\"black\" stroke=\"black\" points=\"939.67,-63.82 940.15,-53.24 933.17,-61.21 939.67,-63.82\"/>\n</g>\n<!-- 20 -->\n<g id=\"node21\" class=\"node\">\n<title>20</title>\n<path fill=\"#f4caac\" stroke=\"black\" d=\"M1175,-157C1175,-157 1052,-157 1052,-157 1046,-157 1040,-151 1040,-145 1040,-145 1040,-101 1040,-101 1040,-95 1046,-89 1052,-89 1052,-89 1175,-89 1175,-89 1181,-89 1187,-95 1187,-101 1187,-101 1187,-145 1187,-145 1187,-151 1181,-157 1175,-157\"/>\n<text text-anchor=\"middle\" x=\"1113.5\" y=\"-141.8\" font-family=\"Helvetica,sans-Serif\" font-size=\"14.00\">duration &lt;= 198.5</text>\n<text text-anchor=\"middle\" x=\"1113.5\" y=\"-126.8\" font-family=\"Helvetica,sans-Serif\" font-size=\"14.00\">entropy = 0.949</text>\n<text text-anchor=\"middle\" x=\"1113.5\" y=\"-111.8\" font-family=\"Helvetica,sans-Serif\" font-size=\"14.00\">samples = 669</text>\n<text text-anchor=\"middle\" x=\"1113.5\" y=\"-96.8\" font-family=\"Helvetica,sans-Serif\" font-size=\"14.00\">value = [423.0, 246.0]</text>\n</g>\n<!-- 19&#45;&gt;20 -->\n<g id=\"edge20\" class=\"edge\">\n<title>19&#45;&gt;20</title>\n<path fill=\"none\" stroke=\"black\" d=\"M1113.5,-192.88C1113.5,-184.78 1113.5,-175.98 1113.5,-167.47\"/>\n<polygon fill=\"black\" stroke=\"black\" points=\"1117,-167.3 1113.5,-157.3 1110,-167.3 1117,-167.3\"/>\n</g>\n<!-- 23 -->\n<g id=\"node24\" class=\"node\">\n<title>23</title>\n<path fill=\"#bedff7\" stroke=\"black\" d=\"M1449.5,-157C1449.5,-157 1309.5,-157 1309.5,-157 1303.5,-157 1297.5,-151 1297.5,-145 1297.5,-145 1297.5,-101 1297.5,-101 1297.5,-95 1303.5,-89 1309.5,-89 1309.5,-89 1449.5,-89 1449.5,-89 1455.5,-89 1461.5,-95 1461.5,-101 1461.5,-101 1461.5,-145 1461.5,-145 1461.5,-151 1455.5,-157 1449.5,-157\"/>\n<text text-anchor=\"middle\" x=\"1379.5\" y=\"-141.8\" font-family=\"Helvetica,sans-Serif\" font-size=\"14.00\">cons.price.idx &lt;= 92.681</text>\n<text text-anchor=\"middle\" x=\"1379.5\" y=\"-126.8\" font-family=\"Helvetica,sans-Serif\" font-size=\"14.00\">entropy = 0.972</text>\n<text text-anchor=\"middle\" x=\"1379.5\" y=\"-111.8\" font-family=\"Helvetica,sans-Serif\" font-size=\"14.00\">samples = 1178</text>\n<text text-anchor=\"middle\" x=\"1379.5\" y=\"-96.8\" font-family=\"Helvetica,sans-Serif\" font-size=\"14.00\">value = [474, 704]</text>\n</g>\n<!-- 19&#45;&gt;23 -->\n<g id=\"edge23\" class=\"edge\">\n<title>19&#45;&gt;23</title>\n<path fill=\"none\" stroke=\"black\" d=\"M1176.2,-201.96C1209.34,-189.25 1250.64,-173.41 1287.34,-159.34\"/>\n<polygon fill=\"black\" stroke=\"black\" points=\"1288.98,-162.46 1297.07,-155.61 1286.48,-155.92 1288.98,-162.46\"/>\n</g>\n<!-- 21 -->\n<g id=\"node22\" class=\"node\">\n<title>21</title>\n<path fill=\"#f0b68c\" stroke=\"black\" d=\"M1122,-53C1122,-53 1029,-53 1029,-53 1023,-53 1017,-47 1017,-41 1017,-41 1017,-12 1017,-12 1017,-6 1023,0 1029,0 1029,0 1122,0 1122,0 1128,0 1134,-6 1134,-12 1134,-12 1134,-41 1134,-41 1134,-47 1128,-53 1122,-53\"/>\n<text text-anchor=\"middle\" x=\"1075.5\" y=\"-37.8\" font-family=\"Helvetica,sans-Serif\" font-size=\"14.00\">entropy = 0.876</text>\n<text text-anchor=\"middle\" x=\"1075.5\" y=\"-22.8\" font-family=\"Helvetica,sans-Serif\" font-size=\"14.00\">samples = 311</text>\n<text text-anchor=\"middle\" x=\"1075.5\" y=\"-7.8\" font-family=\"Helvetica,sans-Serif\" font-size=\"14.00\">value = [219, 92]</text>\n</g>\n<!-- 20&#45;&gt;21 -->\n<g id=\"edge21\" class=\"edge\">\n<title>20&#45;&gt;21</title>\n<path fill=\"none\" stroke=\"black\" d=\"M1100.21,-88.95C1096.79,-80.44 1093.1,-71.26 1089.63,-62.65\"/>\n<polygon fill=\"black\" stroke=\"black\" points=\"1092.83,-61.21 1085.85,-53.24 1086.33,-63.82 1092.83,-61.21\"/>\n</g>\n<!-- 22 -->\n<g id=\"node23\" class=\"node\">\n<title>22</title>\n<path fill=\"#f9e0ce\" stroke=\"black\" d=\"M1287,-53C1287,-53 1164,-53 1164,-53 1158,-53 1152,-47 1152,-41 1152,-41 1152,-12 1152,-12 1152,-6 1158,0 1164,0 1164,0 1287,0 1287,0 1293,0 1299,-6 1299,-12 1299,-12 1299,-41 1299,-41 1299,-47 1293,-53 1287,-53\"/>\n<text text-anchor=\"middle\" x=\"1225.5\" y=\"-37.8\" font-family=\"Helvetica,sans-Serif\" font-size=\"14.00\">entropy = 0.986</text>\n<text text-anchor=\"middle\" x=\"1225.5\" y=\"-22.8\" font-family=\"Helvetica,sans-Serif\" font-size=\"14.00\">samples = 358</text>\n<text text-anchor=\"middle\" x=\"1225.5\" y=\"-7.8\" font-family=\"Helvetica,sans-Serif\" font-size=\"14.00\">value = [204.0, 154.0]</text>\n</g>\n<!-- 20&#45;&gt;22 -->\n<g id=\"edge22\" class=\"edge\">\n<title>20&#45;&gt;22</title>\n<path fill=\"none\" stroke=\"black\" d=\"M1152.67,-88.95C1163.84,-79.53 1175.99,-69.27 1187.11,-59.89\"/>\n<polygon fill=\"black\" stroke=\"black\" points=\"1189.61,-62.36 1195,-53.24 1185.1,-57.01 1189.61,-62.36\"/>\n</g>\n<!-- 24 -->\n<g id=\"node25\" class=\"node\">\n<title>24</title>\n<path fill=\"#f8fcfe\" stroke=\"black\" d=\"M1430,-53C1430,-53 1329,-53 1329,-53 1323,-53 1317,-47 1317,-41 1317,-41 1317,-12 1317,-12 1317,-6 1323,0 1329,0 1329,0 1430,0 1430,0 1436,0 1442,-6 1442,-12 1442,-12 1442,-41 1442,-41 1442,-47 1436,-53 1430,-53\"/>\n<text text-anchor=\"middle\" x=\"1379.5\" y=\"-37.8\" font-family=\"Helvetica,sans-Serif\" font-size=\"14.00\">entropy = 1.0</text>\n<text text-anchor=\"middle\" x=\"1379.5\" y=\"-22.8\" font-family=\"Helvetica,sans-Serif\" font-size=\"14.00\">samples = 474</text>\n<text text-anchor=\"middle\" x=\"1379.5\" y=\"-7.8\" font-family=\"Helvetica,sans-Serif\" font-size=\"14.00\">value = [233, 241]</text>\n</g>\n<!-- 23&#45;&gt;24 -->\n<g id=\"edge24\" class=\"edge\">\n<title>23&#45;&gt;24</title>\n<path fill=\"none\" stroke=\"black\" d=\"M1379.5,-88.95C1379.5,-80.72 1379.5,-71.85 1379.5,-63.48\"/>\n<polygon fill=\"black\" stroke=\"black\" points=\"1383,-63.24 1379.5,-53.24 1376,-63.24 1383,-63.24\"/>\n</g>\n<!-- 25 -->\n<g id=\"node26\" class=\"node\">\n<title>25</title>\n<path fill=\"#a0d0f3\" stroke=\"black\" d=\"M1573,-53C1573,-53 1472,-53 1472,-53 1466,-53 1460,-47 1460,-41 1460,-41 1460,-12 1460,-12 1460,-6 1466,0 1472,0 1472,0 1573,0 1573,0 1579,0 1585,-6 1585,-12 1585,-12 1585,-41 1585,-41 1585,-47 1579,-53 1573,-53\"/>\n<text text-anchor=\"middle\" x=\"1522.5\" y=\"-37.8\" font-family=\"Helvetica,sans-Serif\" font-size=\"14.00\">entropy = 0.927</text>\n<text text-anchor=\"middle\" x=\"1522.5\" y=\"-22.8\" font-family=\"Helvetica,sans-Serif\" font-size=\"14.00\">samples = 704</text>\n<text text-anchor=\"middle\" x=\"1522.5\" y=\"-7.8\" font-family=\"Helvetica,sans-Serif\" font-size=\"14.00\">value = [241, 463]</text>\n</g>\n<!-- 23&#45;&gt;25 -->\n<g id=\"edge25\" class=\"edge\">\n<title>23&#45;&gt;25</title>\n<path fill=\"none\" stroke=\"black\" d=\"M1429.51,-88.95C1444.33,-79.16 1460.49,-68.48 1475.13,-58.8\"/>\n<polygon fill=\"black\" stroke=\"black\" points=\"1477.14,-61.67 1483.55,-53.24 1473.28,-55.83 1477.14,-61.67\"/>\n</g>\n<!-- 27 -->\n<g id=\"node28\" class=\"node\">\n<title>27</title>\n<path fill=\"#e6843e\" stroke=\"black\" d=\"M2207.5,-365C2207.5,-365 2073.5,-365 2073.5,-365 2067.5,-365 2061.5,-359 2061.5,-353 2061.5,-353 2061.5,-309 2061.5,-309 2061.5,-303 2067.5,-297 2073.5,-297 2073.5,-297 2207.5,-297 2207.5,-297 2213.5,-297 2219.5,-303 2219.5,-309 2219.5,-309 2219.5,-353 2219.5,-353 2219.5,-359 2213.5,-365 2207.5,-365\"/>\n<text text-anchor=\"middle\" x=\"2140.5\" y=\"-349.8\" font-family=\"Helvetica,sans-Serif\" font-size=\"14.00\">cons.conf.idx &lt;= &#45;46.65</text>\n<text text-anchor=\"middle\" x=\"2140.5\" y=\"-334.8\" font-family=\"Helvetica,sans-Serif\" font-size=\"14.00\">entropy = 0.155</text>\n<text text-anchor=\"middle\" x=\"2140.5\" y=\"-319.8\" font-family=\"Helvetica,sans-Serif\" font-size=\"14.00\">samples = 25209</text>\n<text text-anchor=\"middle\" x=\"2140.5\" y=\"-304.8\" font-family=\"Helvetica,sans-Serif\" font-size=\"14.00\">value = [24645, 564]</text>\n</g>\n<!-- 26&#45;&gt;27 -->\n<g id=\"edge27\" class=\"edge\">\n<title>26&#45;&gt;27</title>\n<path fill=\"none\" stroke=\"black\" d=\"M2140.5,-400.88C2140.5,-392.78 2140.5,-383.98 2140.5,-375.47\"/>\n<polygon fill=\"black\" stroke=\"black\" points=\"2144,-375.3 2140.5,-365.3 2137,-375.3 2144,-375.3\"/>\n</g>\n<!-- 42 -->\n<g id=\"node43\" class=\"node\">\n<title>42</title>\n<path fill=\"#f4c9a9\" stroke=\"black\" d=\"M3054.5,-365C3054.5,-365 2938.5,-365 2938.5,-365 2932.5,-365 2926.5,-359 2926.5,-353 2926.5,-353 2926.5,-309 2926.5,-309 2926.5,-303 2932.5,-297 2938.5,-297 2938.5,-297 3054.5,-297 3054.5,-297 3060.5,-297 3066.5,-303 3066.5,-309 3066.5,-309 3066.5,-353 3066.5,-353 3066.5,-359 3060.5,-365 3054.5,-365\"/>\n<text text-anchor=\"middle\" x=\"2996.5\" y=\"-349.8\" font-family=\"Helvetica,sans-Serif\" font-size=\"14.00\">duration &lt;= 647.5</text>\n<text text-anchor=\"middle\" x=\"2996.5\" y=\"-334.8\" font-family=\"Helvetica,sans-Serif\" font-size=\"14.00\">entropy = 0.945</text>\n<text text-anchor=\"middle\" x=\"2996.5\" y=\"-319.8\" font-family=\"Helvetica,sans-Serif\" font-size=\"14.00\">samples = 3765</text>\n<text text-anchor=\"middle\" x=\"2996.5\" y=\"-304.8\" font-family=\"Helvetica,sans-Serif\" font-size=\"14.00\">value = [2401, 1364]</text>\n</g>\n<!-- 26&#45;&gt;42 -->\n<g id=\"edge42\" class=\"edge\">\n<title>26&#45;&gt;42</title>\n<path fill=\"none\" stroke=\"black\" d=\"M2214.22,-425.22C2373.91,-406.19 2750.65,-361.29 2916.15,-341.57\"/>\n<polygon fill=\"black\" stroke=\"black\" points=\"2916.75,-345.03 2926.27,-340.37 2915.92,-338.08 2916.75,-345.03\"/>\n</g>\n<!-- 28 -->\n<g id=\"node29\" class=\"node\">\n<title>28</title>\n<path fill=\"#ea9b63\" stroke=\"black\" d=\"M2056.5,-261C2056.5,-261 1948.5,-261 1948.5,-261 1942.5,-261 1936.5,-255 1936.5,-249 1936.5,-249 1936.5,-205 1936.5,-205 1936.5,-199 1942.5,-193 1948.5,-193 1948.5,-193 2056.5,-193 2056.5,-193 2062.5,-193 2068.5,-199 2068.5,-205 2068.5,-205 2068.5,-249 2068.5,-249 2068.5,-255 2062.5,-261 2056.5,-261\"/>\n<text text-anchor=\"middle\" x=\"2002.5\" y=\"-245.8\" font-family=\"Helvetica,sans-Serif\" font-size=\"14.00\">duration &lt;= 94.5</text>\n<text text-anchor=\"middle\" x=\"2002.5\" y=\"-230.8\" font-family=\"Helvetica,sans-Serif\" font-size=\"14.00\">entropy = 0.666</text>\n<text text-anchor=\"middle\" x=\"2002.5\" y=\"-215.8\" font-family=\"Helvetica,sans-Serif\" font-size=\"14.00\">samples = 1849</text>\n<text text-anchor=\"middle\" x=\"2002.5\" y=\"-200.8\" font-family=\"Helvetica,sans-Serif\" font-size=\"14.00\">value = [1528, 321]</text>\n</g>\n<!-- 27&#45;&gt;28 -->\n<g id=\"edge28\" class=\"edge\">\n<title>27&#45;&gt;28</title>\n<path fill=\"none\" stroke=\"black\" d=\"M2095.7,-296.88C2082.92,-287.44 2068.88,-277.06 2055.66,-267.29\"/>\n<polygon fill=\"black\" stroke=\"black\" points=\"2057.67,-264.43 2047.55,-261.3 2053.51,-270.06 2057.67,-264.43\"/>\n</g>\n<!-- 35 -->\n<g id=\"node36\" class=\"node\">\n<title>35</title>\n<path fill=\"#e5823b\" stroke=\"black\" d=\"M2348.5,-261C2348.5,-261 2210.5,-261 2210.5,-261 2204.5,-261 2198.5,-255 2198.5,-249 2198.5,-249 2198.5,-205 2198.5,-205 2198.5,-199 2204.5,-193 2210.5,-193 2210.5,-193 2348.5,-193 2348.5,-193 2354.5,-193 2360.5,-199 2360.5,-205 2360.5,-205 2360.5,-249 2360.5,-249 2360.5,-255 2354.5,-261 2348.5,-261\"/>\n<text text-anchor=\"middle\" x=\"2279.5\" y=\"-245.8\" font-family=\"Helvetica,sans-Serif\" font-size=\"14.00\">duration &lt;= 265.5</text>\n<text text-anchor=\"middle\" x=\"2279.5\" y=\"-230.8\" font-family=\"Helvetica,sans-Serif\" font-size=\"14.00\">entropy = 0.083</text>\n<text text-anchor=\"middle\" x=\"2279.5\" y=\"-215.8\" font-family=\"Helvetica,sans-Serif\" font-size=\"14.00\">samples = 23360</text>\n<text text-anchor=\"middle\" x=\"2279.5\" y=\"-200.8\" font-family=\"Helvetica,sans-Serif\" font-size=\"14.00\">value = [23117.0, 243.0]</text>\n</g>\n<!-- 27&#45;&gt;35 -->\n<g id=\"edge35\" class=\"edge\">\n<title>27&#45;&gt;35</title>\n<path fill=\"none\" stroke=\"black\" d=\"M2185.63,-296.88C2198.5,-287.44 2212.64,-277.06 2225.96,-267.29\"/>\n<polygon fill=\"black\" stroke=\"black\" points=\"2228.13,-270.04 2234.12,-261.3 2223.99,-264.39 2228.13,-270.04\"/>\n</g>\n<!-- 29 -->\n<g id=\"node30\" class=\"node\">\n<title>29</title>\n<path fill=\"#e5833c\" stroke=\"black\" d=\"M1843.5,-157C1843.5,-157 1751.5,-157 1751.5,-157 1745.5,-157 1739.5,-151 1739.5,-145 1739.5,-145 1739.5,-101 1739.5,-101 1739.5,-95 1745.5,-89 1751.5,-89 1751.5,-89 1843.5,-89 1843.5,-89 1849.5,-89 1855.5,-95 1855.5,-101 1855.5,-101 1855.5,-145 1855.5,-145 1855.5,-151 1849.5,-157 1843.5,-157\"/>\n<text text-anchor=\"middle\" x=\"1797.5\" y=\"-141.8\" font-family=\"Helvetica,sans-Serif\" font-size=\"14.00\">duration &lt;= 62.5</text>\n<text text-anchor=\"middle\" x=\"1797.5\" y=\"-126.8\" font-family=\"Helvetica,sans-Serif\" font-size=\"14.00\">entropy = 0.123</text>\n<text text-anchor=\"middle\" x=\"1797.5\" y=\"-111.8\" font-family=\"Helvetica,sans-Serif\" font-size=\"14.00\">samples = 415</text>\n<text text-anchor=\"middle\" x=\"1797.5\" y=\"-96.8\" font-family=\"Helvetica,sans-Serif\" font-size=\"14.00\">value = [408, 7]</text>\n</g>\n<!-- 28&#45;&gt;29 -->\n<g id=\"edge29\" class=\"edge\">\n<title>28&#45;&gt;29</title>\n<path fill=\"none\" stroke=\"black\" d=\"M1936.23,-193.02C1913.3,-181.62 1887.6,-168.83 1864.61,-157.39\"/>\n<polygon fill=\"black\" stroke=\"black\" points=\"1866.12,-154.23 1855.61,-152.91 1863,-160.5 1866.12,-154.23\"/>\n</g>\n<!-- 32 -->\n<g id=\"node33\" class=\"node\">\n<title>32</title>\n<path fill=\"#eca471\" stroke=\"black\" d=\"M2058.5,-157C2058.5,-157 1946.5,-157 1946.5,-157 1940.5,-157 1934.5,-151 1934.5,-145 1934.5,-145 1934.5,-101 1934.5,-101 1934.5,-95 1940.5,-89 1946.5,-89 1946.5,-89 2058.5,-89 2058.5,-89 2064.5,-89 2070.5,-95 2070.5,-101 2070.5,-101 2070.5,-145 2070.5,-145 2070.5,-151 2064.5,-157 2058.5,-157\"/>\n<text text-anchor=\"middle\" x=\"2002.5\" y=\"-141.8\" font-family=\"Helvetica,sans-Serif\" font-size=\"14.00\">euribor3m &lt;= 1.525</text>\n<text text-anchor=\"middle\" x=\"2002.5\" y=\"-126.8\" font-family=\"Helvetica,sans-Serif\" font-size=\"14.00\">entropy = 0.758</text>\n<text text-anchor=\"middle\" x=\"2002.5\" y=\"-111.8\" font-family=\"Helvetica,sans-Serif\" font-size=\"14.00\">samples = 1434</text>\n<text text-anchor=\"middle\" x=\"2002.5\" y=\"-96.8\" font-family=\"Helvetica,sans-Serif\" font-size=\"14.00\">value = [1120, 314]</text>\n</g>\n<!-- 28&#45;&gt;32 -->\n<g id=\"edge32\" class=\"edge\">\n<title>28&#45;&gt;32</title>\n<path fill=\"none\" stroke=\"black\" d=\"M2002.5,-192.88C2002.5,-184.78 2002.5,-175.98 2002.5,-167.47\"/>\n<polygon fill=\"black\" stroke=\"black\" points=\"2006,-167.3 2002.5,-157.3 1999,-167.3 2006,-167.3\"/>\n</g>\n<!-- 30 -->\n<g id=\"node31\" class=\"node\">\n<title>30</title>\n<path fill=\"#e58139\" stroke=\"black\" d=\"M1701.5,-53C1701.5,-53 1615.5,-53 1615.5,-53 1609.5,-53 1603.5,-47 1603.5,-41 1603.5,-41 1603.5,-12 1603.5,-12 1603.5,-6 1609.5,0 1615.5,0 1615.5,0 1701.5,0 1701.5,0 1707.5,0 1713.5,-6 1713.5,-12 1713.5,-12 1713.5,-41 1713.5,-41 1713.5,-47 1707.5,-53 1701.5,-53\"/>\n<text text-anchor=\"middle\" x=\"1658.5\" y=\"-37.8\" font-family=\"Helvetica,sans-Serif\" font-size=\"14.00\">entropy = 0.0</text>\n<text text-anchor=\"middle\" x=\"1658.5\" y=\"-22.8\" font-family=\"Helvetica,sans-Serif\" font-size=\"14.00\">samples = 195</text>\n<text text-anchor=\"middle\" x=\"1658.5\" y=\"-7.8\" font-family=\"Helvetica,sans-Serif\" font-size=\"14.00\">value = [195, 0]</text>\n</g>\n<!-- 29&#45;&gt;30 -->\n<g id=\"edge30\" class=\"edge\">\n<title>29&#45;&gt;30</title>\n<path fill=\"none\" stroke=\"black\" d=\"M1748.88,-88.95C1734.62,-79.25 1719.06,-68.68 1704.94,-59.07\"/>\n<polygon fill=\"black\" stroke=\"black\" points=\"1706.59,-55.96 1696.36,-53.24 1702.66,-61.75 1706.59,-55.96\"/>\n</g>\n<!-- 31 -->\n<g id=\"node32\" class=\"node\">\n<title>31</title>\n<path fill=\"#e68540\" stroke=\"black\" d=\"M1851.5,-53C1851.5,-53 1743.5,-53 1743.5,-53 1737.5,-53 1731.5,-47 1731.5,-41 1731.5,-41 1731.5,-12 1731.5,-12 1731.5,-6 1737.5,0 1743.5,0 1743.5,0 1851.5,0 1851.5,0 1857.5,0 1863.5,-6 1863.5,-12 1863.5,-12 1863.5,-41 1863.5,-41 1863.5,-47 1857.5,-53 1851.5,-53\"/>\n<text text-anchor=\"middle\" x=\"1797.5\" y=\"-37.8\" font-family=\"Helvetica,sans-Serif\" font-size=\"14.00\">entropy = 0.203</text>\n<text text-anchor=\"middle\" x=\"1797.5\" y=\"-22.8\" font-family=\"Helvetica,sans-Serif\" font-size=\"14.00\">samples = 220</text>\n<text text-anchor=\"middle\" x=\"1797.5\" y=\"-7.8\" font-family=\"Helvetica,sans-Serif\" font-size=\"14.00\">value = [213.0, 7.0]</text>\n</g>\n<!-- 29&#45;&gt;31 -->\n<g id=\"edge31\" class=\"edge\">\n<title>29&#45;&gt;31</title>\n<path fill=\"none\" stroke=\"black\" d=\"M1797.5,-88.95C1797.5,-80.72 1797.5,-71.85 1797.5,-63.48\"/>\n<polygon fill=\"black\" stroke=\"black\" points=\"1801,-63.24 1797.5,-53.24 1794,-63.24 1801,-63.24\"/>\n</g>\n<!-- 33 -->\n<g id=\"node34\" class=\"node\">\n<title>33</title>\n<path fill=\"#ea9c63\" stroke=\"black\" d=\"M2001.5,-53C2001.5,-53 1893.5,-53 1893.5,-53 1887.5,-53 1881.5,-47 1881.5,-41 1881.5,-41 1881.5,-12 1881.5,-12 1881.5,-6 1887.5,0 1893.5,0 1893.5,0 2001.5,0 2001.5,0 2007.5,0 2013.5,-6 2013.5,-12 2013.5,-12 2013.5,-41 2013.5,-41 2013.5,-47 2007.5,-53 2001.5,-53\"/>\n<text text-anchor=\"middle\" x=\"1947.5\" y=\"-37.8\" font-family=\"Helvetica,sans-Serif\" font-size=\"14.00\">entropy = 0.668</text>\n<text text-anchor=\"middle\" x=\"1947.5\" y=\"-22.8\" font-family=\"Helvetica,sans-Serif\" font-size=\"14.00\">samples = 1284</text>\n<text text-anchor=\"middle\" x=\"1947.5\" y=\"-7.8\" font-family=\"Helvetica,sans-Serif\" font-size=\"14.00\">value = [1060, 224]</text>\n</g>\n<!-- 32&#45;&gt;33 -->\n<g id=\"edge33\" class=\"edge\">\n<title>32&#45;&gt;33</title>\n<path fill=\"none\" stroke=\"black\" d=\"M1983.26,-88.95C1978.21,-80.26 1972.74,-70.86 1967.63,-62.09\"/>\n<polygon fill=\"black\" stroke=\"black\" points=\"1970.53,-60.12 1962.48,-53.24 1964.48,-63.64 1970.53,-60.12\"/>\n</g>\n<!-- 34 -->\n<g id=\"node35\" class=\"node\">\n<title>34</title>\n<path fill=\"#bddef6\" stroke=\"black\" d=\"M2131,-53C2131,-53 2044,-53 2044,-53 2038,-53 2032,-47 2032,-41 2032,-41 2032,-12 2032,-12 2032,-6 2038,0 2044,0 2044,0 2131,0 2131,0 2137,0 2143,-6 2143,-12 2143,-12 2143,-41 2143,-41 2143,-47 2137,-53 2131,-53\"/>\n<text text-anchor=\"middle\" x=\"2087.5\" y=\"-37.8\" font-family=\"Helvetica,sans-Serif\" font-size=\"14.00\">entropy = 0.971</text>\n<text text-anchor=\"middle\" x=\"2087.5\" y=\"-22.8\" font-family=\"Helvetica,sans-Serif\" font-size=\"14.00\">samples = 150</text>\n<text text-anchor=\"middle\" x=\"2087.5\" y=\"-7.8\" font-family=\"Helvetica,sans-Serif\" font-size=\"14.00\">value = [60, 90]</text>\n</g>\n<!-- 32&#45;&gt;34 -->\n<g id=\"edge34\" class=\"edge\">\n<title>32&#45;&gt;34</title>\n<path fill=\"none\" stroke=\"black\" d=\"M2032.23,-88.95C2040.46,-79.8 2049.39,-69.87 2057.63,-60.71\"/>\n<polygon fill=\"black\" stroke=\"black\" points=\"2060.27,-63.01 2064.35,-53.24 2055.06,-58.33 2060.27,-63.01\"/>\n</g>\n<!-- 36 -->\n<g id=\"node37\" class=\"node\">\n<title>36</title>\n<path fill=\"#e5823a\" stroke=\"black\" d=\"M2345,-157C2345,-157 2214,-157 2214,-157 2208,-157 2202,-151 2202,-145 2202,-145 2202,-101 2202,-101 2202,-95 2208,-89 2214,-89 2214,-89 2345,-89 2345,-89 2351,-89 2357,-95 2357,-101 2357,-101 2357,-145 2357,-145 2357,-151 2351,-157 2345,-157\"/>\n<text text-anchor=\"middle\" x=\"2279.5\" y=\"-141.8\" font-family=\"Helvetica,sans-Serif\" font-size=\"14.00\">emp.var.rate &lt;= 0.5</text>\n<text text-anchor=\"middle\" x=\"2279.5\" y=\"-126.8\" font-family=\"Helvetica,sans-Serif\" font-size=\"14.00\">entropy = 0.04</text>\n<text text-anchor=\"middle\" x=\"2279.5\" y=\"-111.8\" font-family=\"Helvetica,sans-Serif\" font-size=\"14.00\">samples = 18628</text>\n<text text-anchor=\"middle\" x=\"2279.5\" y=\"-96.8\" font-family=\"Helvetica,sans-Serif\" font-size=\"14.00\">value = [18548.0, 80.0]</text>\n</g>\n<!-- 35&#45;&gt;36 -->\n<g id=\"edge36\" class=\"edge\">\n<title>35&#45;&gt;36</title>\n<path fill=\"none\" stroke=\"black\" d=\"M2279.5,-192.88C2279.5,-184.78 2279.5,-175.98 2279.5,-167.47\"/>\n<polygon fill=\"black\" stroke=\"black\" points=\"2283,-167.3 2279.5,-157.3 2276,-167.3 2283,-167.3\"/>\n</g>\n<!-- 39 -->\n<g id=\"node40\" class=\"node\">\n<title>39</title>\n<path fill=\"#e68540\" stroke=\"black\" d=\"M2583.5,-157C2583.5,-157 2443.5,-157 2443.5,-157 2437.5,-157 2431.5,-151 2431.5,-145 2431.5,-145 2431.5,-101 2431.5,-101 2431.5,-95 2437.5,-89 2443.5,-89 2443.5,-89 2583.5,-89 2583.5,-89 2589.5,-89 2595.5,-95 2595.5,-101 2595.5,-101 2595.5,-145 2595.5,-145 2595.5,-151 2589.5,-157 2583.5,-157\"/>\n<text text-anchor=\"middle\" x=\"2513.5\" y=\"-141.8\" font-family=\"Helvetica,sans-Serif\" font-size=\"14.00\">cons.price.idx &lt;= 93.858</text>\n<text text-anchor=\"middle\" x=\"2513.5\" y=\"-126.8\" font-family=\"Helvetica,sans-Serif\" font-size=\"14.00\">entropy = 0.216</text>\n<text text-anchor=\"middle\" x=\"2513.5\" y=\"-111.8\" font-family=\"Helvetica,sans-Serif\" font-size=\"14.00\">samples = 4732</text>\n<text text-anchor=\"middle\" x=\"2513.5\" y=\"-96.8\" font-family=\"Helvetica,sans-Serif\" font-size=\"14.00\">value = [4569, 163]</text>\n</g>\n<!-- 35&#45;&gt;39 -->\n<g id=\"edge39\" class=\"edge\">\n<title>35&#45;&gt;39</title>\n<path fill=\"none\" stroke=\"black\" d=\"M2355.47,-192.88C2378.68,-182.77 2404.36,-171.58 2428.14,-161.21\"/>\n<polygon fill=\"black\" stroke=\"black\" points=\"2429.74,-164.33 2437.51,-157.12 2426.94,-157.91 2429.74,-164.33\"/>\n</g>\n<!-- 37 -->\n<g id=\"node38\" class=\"node\">\n<title>37</title>\n<path fill=\"#e5833c\" stroke=\"black\" d=\"M2274,-53C2274,-53 2173,-53 2173,-53 2167,-53 2161,-47 2161,-41 2161,-41 2161,-12 2161,-12 2161,-6 2167,0 2173,0 2173,0 2274,0 2274,0 2280,0 2286,-6 2286,-12 2286,-12 2286,-41 2286,-41 2286,-47 2280,-53 2274,-53\"/>\n<text text-anchor=\"middle\" x=\"2223.5\" y=\"-37.8\" font-family=\"Helvetica,sans-Serif\" font-size=\"14.00\">entropy = 0.107</text>\n<text text-anchor=\"middle\" x=\"2223.5\" y=\"-22.8\" font-family=\"Helvetica,sans-Serif\" font-size=\"14.00\">samples = 5230</text>\n<text text-anchor=\"middle\" x=\"2223.5\" y=\"-7.8\" font-family=\"Helvetica,sans-Serif\" font-size=\"14.00\">value = [5156, 74]</text>\n</g>\n<!-- 36&#45;&gt;37 -->\n<g id=\"edge37\" class=\"edge\">\n<title>36&#45;&gt;37</title>\n<path fill=\"none\" stroke=\"black\" d=\"M2259.91,-88.95C2254.76,-80.26 2249.2,-70.86 2244,-62.09\"/>\n<polygon fill=\"black\" stroke=\"black\" points=\"2246.86,-60.06 2238.75,-53.24 2240.84,-63.62 2246.86,-60.06\"/>\n</g>\n<!-- 38 -->\n<g id=\"node39\" class=\"node\">\n<title>38</title>\n<path fill=\"#e58139\" stroke=\"black\" d=\"M2417,-53C2417,-53 2316,-53 2316,-53 2310,-53 2304,-47 2304,-41 2304,-41 2304,-12 2304,-12 2304,-6 2310,0 2316,0 2316,0 2417,0 2417,0 2423,0 2429,-6 2429,-12 2429,-12 2429,-41 2429,-41 2429,-47 2423,-53 2417,-53\"/>\n<text text-anchor=\"middle\" x=\"2366.5\" y=\"-37.8\" font-family=\"Helvetica,sans-Serif\" font-size=\"14.00\">entropy = 0.006</text>\n<text text-anchor=\"middle\" x=\"2366.5\" y=\"-22.8\" font-family=\"Helvetica,sans-Serif\" font-size=\"14.00\">samples = 13398</text>\n<text text-anchor=\"middle\" x=\"2366.5\" y=\"-7.8\" font-family=\"Helvetica,sans-Serif\" font-size=\"14.00\">value = [13392, 6]</text>\n</g>\n<!-- 36&#45;&gt;38 -->\n<g id=\"edge38\" class=\"edge\">\n<title>36&#45;&gt;38</title>\n<path fill=\"none\" stroke=\"black\" d=\"M2309.93,-88.95C2318.35,-79.8 2327.49,-69.87 2335.92,-60.71\"/>\n<polygon fill=\"black\" stroke=\"black\" points=\"2338.61,-62.96 2342.81,-53.24 2333.46,-58.22 2338.61,-62.96\"/>\n</g>\n<!-- 40 -->\n<g id=\"node41\" class=\"node\">\n<title>40</title>\n<path fill=\"#e78a47\" stroke=\"black\" d=\"M2567.5,-53C2567.5,-53 2459.5,-53 2459.5,-53 2453.5,-53 2447.5,-47 2447.5,-41 2447.5,-41 2447.5,-12 2447.5,-12 2447.5,-6 2453.5,0 2459.5,0 2459.5,0 2567.5,0 2567.5,0 2573.5,0 2579.5,-6 2579.5,-12 2579.5,-12 2579.5,-41 2579.5,-41 2579.5,-47 2573.5,-53 2567.5,-53\"/>\n<text text-anchor=\"middle\" x=\"2513.5\" y=\"-37.8\" font-family=\"Helvetica,sans-Serif\" font-size=\"14.00\">entropy = 0.349</text>\n<text text-anchor=\"middle\" x=\"2513.5\" y=\"-22.8\" font-family=\"Helvetica,sans-Serif\" font-size=\"14.00\">samples = 1971</text>\n<text text-anchor=\"middle\" x=\"2513.5\" y=\"-7.8\" font-family=\"Helvetica,sans-Serif\" font-size=\"14.00\">value = [1842, 129]</text>\n</g>\n<!-- 39&#45;&gt;40 -->\n<g id=\"edge40\" class=\"edge\">\n<title>39&#45;&gt;40</title>\n<path fill=\"none\" stroke=\"black\" d=\"M2513.5,-88.95C2513.5,-80.72 2513.5,-71.85 2513.5,-63.48\"/>\n<polygon fill=\"black\" stroke=\"black\" points=\"2517,-63.24 2513.5,-53.24 2510,-63.24 2517,-63.24\"/>\n</g>\n<!-- 41 -->\n<g id=\"node42\" class=\"node\">\n<title>41</title>\n<path fill=\"#e5833b\" stroke=\"black\" d=\"M2711,-53C2711,-53 2610,-53 2610,-53 2604,-53 2598,-47 2598,-41 2598,-41 2598,-12 2598,-12 2598,-6 2604,0 2610,0 2610,0 2711,0 2711,0 2717,0 2723,-6 2723,-12 2723,-12 2723,-41 2723,-41 2723,-47 2717,-53 2711,-53\"/>\n<text text-anchor=\"middle\" x=\"2660.5\" y=\"-37.8\" font-family=\"Helvetica,sans-Serif\" font-size=\"14.00\">entropy = 0.096</text>\n<text text-anchor=\"middle\" x=\"2660.5\" y=\"-22.8\" font-family=\"Helvetica,sans-Serif\" font-size=\"14.00\">samples = 2761</text>\n<text text-anchor=\"middle\" x=\"2660.5\" y=\"-7.8\" font-family=\"Helvetica,sans-Serif\" font-size=\"14.00\">value = [2727, 34]</text>\n</g>\n<!-- 39&#45;&gt;41 -->\n<g id=\"edge41\" class=\"edge\">\n<title>39&#45;&gt;41</title>\n<path fill=\"none\" stroke=\"black\" d=\"M2564.91,-88.95C2580.14,-79.16 2596.76,-68.48 2611.81,-58.8\"/>\n<polygon fill=\"black\" stroke=\"black\" points=\"2613.95,-61.59 2620.47,-53.24 2610.16,-55.7 2613.95,-61.59\"/>\n</g>\n<!-- 43 -->\n<g id=\"node44\" class=\"node\">\n<title>43</title>\n<path fill=\"#eca470\" stroke=\"black\" d=\"M3052.5,-261C3052.5,-261 2940.5,-261 2940.5,-261 2934.5,-261 2928.5,-255 2928.5,-249 2928.5,-249 2928.5,-205 2928.5,-205 2928.5,-199 2934.5,-193 2940.5,-193 2940.5,-193 3052.5,-193 3052.5,-193 3058.5,-193 3064.5,-199 3064.5,-205 3064.5,-205 3064.5,-249 3064.5,-249 3064.5,-255 3058.5,-261 3052.5,-261\"/>\n<text text-anchor=\"middle\" x=\"2996.5\" y=\"-245.8\" font-family=\"Helvetica,sans-Serif\" font-size=\"14.00\">euribor3m &lt;= 1.388</text>\n<text text-anchor=\"middle\" x=\"2996.5\" y=\"-230.8\" font-family=\"Helvetica,sans-Serif\" font-size=\"14.00\">entropy = 0.755</text>\n<text text-anchor=\"middle\" x=\"2996.5\" y=\"-215.8\" font-family=\"Helvetica,sans-Serif\" font-size=\"14.00\">samples = 1710</text>\n<text text-anchor=\"middle\" x=\"2996.5\" y=\"-200.8\" font-family=\"Helvetica,sans-Serif\" font-size=\"14.00\">value = [1339, 371]</text>\n</g>\n<!-- 42&#45;&gt;43 -->\n<g id=\"edge43\" class=\"edge\">\n<title>42&#45;&gt;43</title>\n<path fill=\"none\" stroke=\"black\" d=\"M2996.5,-296.88C2996.5,-288.78 2996.5,-279.98 2996.5,-271.47\"/>\n<polygon fill=\"black\" stroke=\"black\" points=\"3000,-271.3 2996.5,-261.3 2993,-271.3 3000,-271.3\"/>\n</g>\n<!-- 50 -->\n<g id=\"node51\" class=\"node\">\n<title>50</title>\n<path fill=\"#fdf7f2\" stroke=\"black\" d=\"M3464.5,-261C3464.5,-261 3356.5,-261 3356.5,-261 3350.5,-261 3344.5,-255 3344.5,-249 3344.5,-249 3344.5,-205 3344.5,-205 3344.5,-199 3350.5,-193 3356.5,-193 3356.5,-193 3464.5,-193 3464.5,-193 3470.5,-193 3476.5,-199 3476.5,-205 3476.5,-205 3476.5,-249 3476.5,-249 3476.5,-255 3470.5,-261 3464.5,-261\"/>\n<text text-anchor=\"middle\" x=\"3410.5\" y=\"-245.8\" font-family=\"Helvetica,sans-Serif\" font-size=\"14.00\">duration &lt;= 835.5</text>\n<text text-anchor=\"middle\" x=\"3410.5\" y=\"-230.8\" font-family=\"Helvetica,sans-Serif\" font-size=\"14.00\">entropy = 0.999</text>\n<text text-anchor=\"middle\" x=\"3410.5\" y=\"-215.8\" font-family=\"Helvetica,sans-Serif\" font-size=\"14.00\">samples = 2055</text>\n<text text-anchor=\"middle\" x=\"3410.5\" y=\"-200.8\" font-family=\"Helvetica,sans-Serif\" font-size=\"14.00\">value = [1062, 993]</text>\n</g>\n<!-- 42&#45;&gt;50 -->\n<g id=\"edge50\" class=\"edge\">\n<title>42&#45;&gt;50</title>\n<path fill=\"none\" stroke=\"black\" d=\"M3066.73,-312.7C3141.02,-294.39 3257.86,-265.61 3334.33,-246.77\"/>\n<polygon fill=\"black\" stroke=\"black\" points=\"3335.51,-250.08 3344.38,-244.29 3333.83,-243.28 3335.51,-250.08\"/>\n</g>\n<!-- 44 -->\n<g id=\"node45\" class=\"node\">\n<title>44</title>\n<path fill=\"#f7d6bf\" stroke=\"black\" d=\"M2970.5,-157C2970.5,-157 2858.5,-157 2858.5,-157 2852.5,-157 2846.5,-151 2846.5,-145 2846.5,-145 2846.5,-101 2846.5,-101 2846.5,-95 2852.5,-89 2858.5,-89 2858.5,-89 2970.5,-89 2970.5,-89 2976.5,-89 2982.5,-95 2982.5,-101 2982.5,-101 2982.5,-145 2982.5,-145 2982.5,-151 2976.5,-157 2970.5,-157\"/>\n<text text-anchor=\"middle\" x=\"2914.5\" y=\"-141.8\" font-family=\"Helvetica,sans-Serif\" font-size=\"14.00\">euribor3m &lt;= 1.349</text>\n<text text-anchor=\"middle\" x=\"2914.5\" y=\"-126.8\" font-family=\"Helvetica,sans-Serif\" font-size=\"14.00\">entropy = 0.973</text>\n<text text-anchor=\"middle\" x=\"2914.5\" y=\"-111.8\" font-family=\"Helvetica,sans-Serif\" font-size=\"14.00\">samples = 312</text>\n<text text-anchor=\"middle\" x=\"2914.5\" y=\"-96.8\" font-family=\"Helvetica,sans-Serif\" font-size=\"14.00\">value = [186, 126]</text>\n</g>\n<!-- 43&#45;&gt;44 -->\n<g id=\"edge44\" class=\"edge\">\n<title>43&#45;&gt;44</title>\n<path fill=\"none\" stroke=\"black\" d=\"M2969.88,-192.88C2962.79,-184.07 2955.04,-174.43 2947.65,-165.24\"/>\n<polygon fill=\"black\" stroke=\"black\" points=\"2950.26,-162.9 2941.27,-157.3 2944.81,-167.29 2950.26,-162.9\"/>\n</g>\n<!-- 47 -->\n<g id=\"node48\" class=\"node\">\n<title>47</title>\n<path fill=\"#eb9c63\" stroke=\"black\" d=\"M3146,-157C3146,-157 3013,-157 3013,-157 3007,-157 3001,-151 3001,-145 3001,-145 3001,-101 3001,-101 3001,-95 3007,-89 3013,-89 3013,-89 3146,-89 3146,-89 3152,-89 3158,-95 3158,-101 3158,-101 3158,-145 3158,-145 3158,-151 3152,-157 3146,-157\"/>\n<text text-anchor=\"middle\" x=\"3079.5\" y=\"-141.8\" font-family=\"Helvetica,sans-Serif\" font-size=\"14.00\">month_encoded &lt;= 5.5</text>\n<text text-anchor=\"middle\" x=\"3079.5\" y=\"-126.8\" font-family=\"Helvetica,sans-Serif\" font-size=\"14.00\">entropy = 0.67</text>\n<text text-anchor=\"middle\" x=\"3079.5\" y=\"-111.8\" font-family=\"Helvetica,sans-Serif\" font-size=\"14.00\">samples = 1398</text>\n<text text-anchor=\"middle\" x=\"3079.5\" y=\"-96.8\" font-family=\"Helvetica,sans-Serif\" font-size=\"14.00\">value = [1153, 245]</text>\n</g>\n<!-- 43&#45;&gt;47 -->\n<g id=\"edge47\" class=\"edge\">\n<title>43&#45;&gt;47</title>\n<path fill=\"none\" stroke=\"black\" d=\"M3023.45,-192.88C3030.62,-184.07 3038.46,-174.43 3045.95,-165.24\"/>\n<polygon fill=\"black\" stroke=\"black\" points=\"3048.81,-167.26 3052.4,-157.3 3043.38,-162.85 3048.81,-167.26\"/>\n</g>\n<!-- 45 -->\n<g id=\"node46\" class=\"node\">\n<title>45</title>\n<path fill=\"#f3c6a5\" stroke=\"black\" d=\"M2846,-53C2846,-53 2753,-53 2753,-53 2747,-53 2741,-47 2741,-41 2741,-41 2741,-12 2741,-12 2741,-6 2747,0 2753,0 2753,0 2846,0 2846,0 2852,0 2858,-6 2858,-12 2858,-12 2858,-41 2858,-41 2858,-47 2852,-53 2846,-53\"/>\n<text text-anchor=\"middle\" x=\"2799.5\" y=\"-37.8\" font-family=\"Helvetica,sans-Serif\" font-size=\"14.00\">entropy = 0.937</text>\n<text text-anchor=\"middle\" x=\"2799.5\" y=\"-22.8\" font-family=\"Helvetica,sans-Serif\" font-size=\"14.00\">samples = 272</text>\n<text text-anchor=\"middle\" x=\"2799.5\" y=\"-7.8\" font-family=\"Helvetica,sans-Serif\" font-size=\"14.00\">value = [176, 96]</text>\n</g>\n<!-- 44&#45;&gt;45 -->\n<g id=\"edge45\" class=\"edge\">\n<title>44&#45;&gt;45</title>\n<path fill=\"none\" stroke=\"black\" d=\"M2874.28,-88.95C2862.7,-79.43 2850.09,-69.07 2838.58,-59.62\"/>\n<polygon fill=\"black\" stroke=\"black\" points=\"2840.77,-56.88 2830.82,-53.24 2836.32,-62.29 2840.77,-56.88\"/>\n</g>\n<!-- 46 -->\n<g id=\"node47\" class=\"node\">\n<title>46</title>\n<path fill=\"#7bbeee\" stroke=\"black\" d=\"M2975,-53C2975,-53 2888,-53 2888,-53 2882,-53 2876,-47 2876,-41 2876,-41 2876,-12 2876,-12 2876,-6 2882,0 2888,0 2888,0 2975,0 2975,0 2981,0 2987,-6 2987,-12 2987,-12 2987,-41 2987,-41 2987,-47 2981,-53 2975,-53\"/>\n<text text-anchor=\"middle\" x=\"2931.5\" y=\"-37.8\" font-family=\"Helvetica,sans-Serif\" font-size=\"14.00\">entropy = 0.811</text>\n<text text-anchor=\"middle\" x=\"2931.5\" y=\"-22.8\" font-family=\"Helvetica,sans-Serif\" font-size=\"14.00\">samples = 40</text>\n<text text-anchor=\"middle\" x=\"2931.5\" y=\"-7.8\" font-family=\"Helvetica,sans-Serif\" font-size=\"14.00\">value = [10, 30]</text>\n</g>\n<!-- 44&#45;&gt;46 -->\n<g id=\"edge46\" class=\"edge\">\n<title>44&#45;&gt;46</title>\n<path fill=\"none\" stroke=\"black\" d=\"M2920.45,-88.95C2921.94,-80.62 2923.56,-71.65 2925.08,-63.2\"/>\n<polygon fill=\"black\" stroke=\"black\" points=\"2928.54,-63.7 2926.87,-53.24 2921.65,-62.46 2928.54,-63.7\"/>\n</g>\n<!-- 48 -->\n<g id=\"node49\" class=\"node\">\n<title>48</title>\n<path fill=\"#e89050\" stroke=\"black\" d=\"M3110,-53C3110,-53 3017,-53 3017,-53 3011,-53 3005,-47 3005,-41 3005,-41 3005,-12 3005,-12 3005,-6 3011,0 3017,0 3017,0 3110,0 3110,0 3116,0 3122,-6 3122,-12 3122,-12 3122,-41 3122,-41 3122,-47 3116,-53 3110,-53\"/>\n<text text-anchor=\"middle\" x=\"3063.5\" y=\"-37.8\" font-family=\"Helvetica,sans-Serif\" font-size=\"14.00\">entropy = 0.48</text>\n<text text-anchor=\"middle\" x=\"3063.5\" y=\"-22.8\" font-family=\"Helvetica,sans-Serif\" font-size=\"14.00\">samples = 492</text>\n<text text-anchor=\"middle\" x=\"3063.5\" y=\"-7.8\" font-family=\"Helvetica,sans-Serif\" font-size=\"14.00\">value = [441, 51]</text>\n</g>\n<!-- 47&#45;&gt;48 -->\n<g id=\"edge48\" class=\"edge\">\n<title>47&#45;&gt;48</title>\n<path fill=\"none\" stroke=\"black\" d=\"M3073.9,-88.95C3072.49,-80.62 3070.98,-71.65 3069.54,-63.2\"/>\n<polygon fill=\"black\" stroke=\"black\" points=\"3072.98,-62.51 3067.86,-53.24 3066.08,-63.68 3072.98,-62.51\"/>\n</g>\n<!-- 49 -->\n<g id=\"node50\" class=\"node\">\n<title>49</title>\n<path fill=\"#eca36f\" stroke=\"black\" d=\"M3253,-53C3253,-53 3152,-53 3152,-53 3146,-53 3140,-47 3140,-41 3140,-41 3140,-12 3140,-12 3140,-6 3146,0 3152,0 3152,0 3253,0 3253,0 3259,0 3265,-6 3265,-12 3265,-12 3265,-41 3265,-41 3265,-47 3259,-53 3253,-53\"/>\n<text text-anchor=\"middle\" x=\"3202.5\" y=\"-37.8\" font-family=\"Helvetica,sans-Serif\" font-size=\"14.00\">entropy = 0.749</text>\n<text text-anchor=\"middle\" x=\"3202.5\" y=\"-22.8\" font-family=\"Helvetica,sans-Serif\" font-size=\"14.00\">samples = 906</text>\n<text text-anchor=\"middle\" x=\"3202.5\" y=\"-7.8\" font-family=\"Helvetica,sans-Serif\" font-size=\"14.00\">value = [712, 194]</text>\n</g>\n<!-- 47&#45;&gt;49 -->\n<g id=\"edge49\" class=\"edge\">\n<title>47&#45;&gt;49</title>\n<path fill=\"none\" stroke=\"black\" d=\"M3122.52,-88.95C3135.02,-79.34 3148.65,-68.87 3161.05,-59.34\"/>\n<polygon fill=\"black\" stroke=\"black\" points=\"3163.2,-62.1 3169,-53.24 3158.94,-56.55 3163.2,-62.1\"/>\n</g>\n<!-- 51 -->\n<g id=\"node52\" class=\"node\">\n<title>51</title>\n<path fill=\"#f5d0b5\" stroke=\"black\" d=\"M3466.5,-157C3466.5,-157 3354.5,-157 3354.5,-157 3348.5,-157 3342.5,-151 3342.5,-145 3342.5,-145 3342.5,-101 3342.5,-101 3342.5,-95 3348.5,-89 3354.5,-89 3354.5,-89 3466.5,-89 3466.5,-89 3472.5,-89 3478.5,-95 3478.5,-101 3478.5,-101 3478.5,-145 3478.5,-145 3478.5,-151 3472.5,-157 3466.5,-157\"/>\n<text text-anchor=\"middle\" x=\"3410.5\" y=\"-141.8\" font-family=\"Helvetica,sans-Serif\" font-size=\"14.00\">euribor3m &lt;= 1.385</text>\n<text text-anchor=\"middle\" x=\"3410.5\" y=\"-126.8\" font-family=\"Helvetica,sans-Serif\" font-size=\"14.00\">entropy = 0.962</text>\n<text text-anchor=\"middle\" x=\"3410.5\" y=\"-111.8\" font-family=\"Helvetica,sans-Serif\" font-size=\"14.00\">samples = 949</text>\n<text text-anchor=\"middle\" x=\"3410.5\" y=\"-96.8\" font-family=\"Helvetica,sans-Serif\" font-size=\"14.00\">value = [583, 366]</text>\n</g>\n<!-- 50&#45;&gt;51 -->\n<g id=\"edge51\" class=\"edge\">\n<title>50&#45;&gt;51</title>\n<path fill=\"none\" stroke=\"black\" d=\"M3410.5,-192.88C3410.5,-184.78 3410.5,-175.98 3410.5,-167.47\"/>\n<polygon fill=\"black\" stroke=\"black\" points=\"3414,-167.3 3410.5,-157.3 3407,-167.3 3414,-167.3\"/>\n</g>\n<!-- 54 -->\n<g id=\"node55\" class=\"node\">\n<title>54</title>\n<path fill=\"#d0e8f9\" stroke=\"black\" d=\"M3708.5,-157C3708.5,-157 3570.5,-157 3570.5,-157 3564.5,-157 3558.5,-151 3558.5,-145 3558.5,-145 3558.5,-101 3558.5,-101 3558.5,-95 3564.5,-89 3570.5,-89 3570.5,-89 3708.5,-89 3708.5,-89 3714.5,-89 3720.5,-95 3720.5,-101 3720.5,-101 3720.5,-145 3720.5,-145 3720.5,-151 3714.5,-157 3708.5,-157\"/>\n<text text-anchor=\"middle\" x=\"3639.5\" y=\"-141.8\" font-family=\"Helvetica,sans-Serif\" font-size=\"14.00\">contact_encoded &lt;= 0.5</text>\n<text text-anchor=\"middle\" x=\"3639.5\" y=\"-126.8\" font-family=\"Helvetica,sans-Serif\" font-size=\"14.00\">entropy = 0.987</text>\n<text text-anchor=\"middle\" x=\"3639.5\" y=\"-111.8\" font-family=\"Helvetica,sans-Serif\" font-size=\"14.00\">samples = 1106</text>\n<text text-anchor=\"middle\" x=\"3639.5\" y=\"-96.8\" font-family=\"Helvetica,sans-Serif\" font-size=\"14.00\">value = [479, 627]</text>\n</g>\n<!-- 50&#45;&gt;54 -->\n<g id=\"edge54\" class=\"edge\">\n<title>50&#45;&gt;54</title>\n<path fill=\"none\" stroke=\"black\" d=\"M3476.74,-196.5C3501.55,-185.44 3530.07,-172.74 3556.23,-161.09\"/>\n<polygon fill=\"black\" stroke=\"black\" points=\"3557.66,-164.28 3565.37,-157.02 3554.81,-157.89 3557.66,-164.28\"/>\n</g>\n<!-- 52 -->\n<g id=\"node53\" class=\"node\">\n<title>52</title>\n<path fill=\"#cce6f8\" stroke=\"black\" d=\"M3403.5,-53C3403.5,-53 3295.5,-53 3295.5,-53 3289.5,-53 3283.5,-47 3283.5,-41 3283.5,-41 3283.5,-12 3283.5,-12 3283.5,-6 3289.5,0 3295.5,0 3295.5,0 3403.5,0 3403.5,0 3409.5,0 3415.5,-6 3415.5,-12 3415.5,-12 3415.5,-41 3415.5,-41 3415.5,-47 3409.5,-53 3403.5,-53\"/>\n<text text-anchor=\"middle\" x=\"3349.5\" y=\"-37.8\" font-family=\"Helvetica,sans-Serif\" font-size=\"14.00\">entropy = 0.984</text>\n<text text-anchor=\"middle\" x=\"3349.5\" y=\"-22.8\" font-family=\"Helvetica,sans-Serif\" font-size=\"14.00\">samples = 169</text>\n<text text-anchor=\"middle\" x=\"3349.5\" y=\"-7.8\" font-family=\"Helvetica,sans-Serif\" font-size=\"14.00\">value = [72.0, 97.0]</text>\n</g>\n<!-- 51&#45;&gt;52 -->\n<g id=\"edge52\" class=\"edge\">\n<title>51&#45;&gt;52</title>\n<path fill=\"none\" stroke=\"black\" d=\"M3389.17,-88.95C3383.5,-80.17 3377.36,-70.66 3371.65,-61.82\"/>\n<polygon fill=\"black\" stroke=\"black\" points=\"3374.48,-59.74 3366.11,-53.24 3368.6,-63.54 3374.48,-59.74\"/>\n</g>\n<!-- 53 -->\n<g id=\"node54\" class=\"node\">\n<title>53</title>\n<path fill=\"#f3c3a1\" stroke=\"black\" d=\"M3547,-53C3547,-53 3446,-53 3446,-53 3440,-53 3434,-47 3434,-41 3434,-41 3434,-12 3434,-12 3434,-6 3440,0 3446,0 3446,0 3547,0 3547,0 3553,0 3559,-6 3559,-12 3559,-12 3559,-41 3559,-41 3559,-47 3553,-53 3547,-53\"/>\n<text text-anchor=\"middle\" x=\"3496.5\" y=\"-37.8\" font-family=\"Helvetica,sans-Serif\" font-size=\"14.00\">entropy = 0.929</text>\n<text text-anchor=\"middle\" x=\"3496.5\" y=\"-22.8\" font-family=\"Helvetica,sans-Serif\" font-size=\"14.00\">samples = 780</text>\n<text text-anchor=\"middle\" x=\"3496.5\" y=\"-7.8\" font-family=\"Helvetica,sans-Serif\" font-size=\"14.00\">value = [511, 269]</text>\n</g>\n<!-- 51&#45;&gt;53 -->\n<g id=\"edge53\" class=\"edge\">\n<title>51&#45;&gt;53</title>\n<path fill=\"none\" stroke=\"black\" d=\"M3440.58,-88.95C3448.9,-79.8 3457.94,-69.87 3466.27,-60.71\"/>\n<polygon fill=\"black\" stroke=\"black\" points=\"3468.94,-62.99 3473.08,-53.24 3463.76,-58.28 3468.94,-62.99\"/>\n</g>\n<!-- 55 -->\n<g id=\"node56\" class=\"node\">\n<title>55</title>\n<path fill=\"#baddf6\" stroke=\"black\" d=\"M3690,-53C3690,-53 3589,-53 3589,-53 3583,-53 3577,-47 3577,-41 3577,-41 3577,-12 3577,-12 3577,-6 3583,0 3589,0 3589,0 3690,0 3690,0 3696,0 3702,-6 3702,-12 3702,-12 3702,-41 3702,-41 3702,-47 3696,-53 3690,-53\"/>\n<text text-anchor=\"middle\" x=\"3639.5\" y=\"-37.8\" font-family=\"Helvetica,sans-Serif\" font-size=\"14.00\">entropy = 0.968</text>\n<text text-anchor=\"middle\" x=\"3639.5\" y=\"-22.8\" font-family=\"Helvetica,sans-Serif\" font-size=\"14.00\">samples = 719</text>\n<text text-anchor=\"middle\" x=\"3639.5\" y=\"-7.8\" font-family=\"Helvetica,sans-Serif\" font-size=\"14.00\">value = [284, 435]</text>\n</g>\n<!-- 54&#45;&gt;55 -->\n<g id=\"edge55\" class=\"edge\">\n<title>54&#45;&gt;55</title>\n<path fill=\"none\" stroke=\"black\" d=\"M3639.5,-88.95C3639.5,-80.72 3639.5,-71.85 3639.5,-63.48\"/>\n<polygon fill=\"black\" stroke=\"black\" points=\"3643,-63.24 3639.5,-53.24 3636,-63.24 3643,-63.24\"/>\n</g>\n<!-- 56 -->\n<g id=\"node57\" class=\"node\">\n<title>56</title>\n<path fill=\"#fffdfc\" stroke=\"black\" d=\"M3833,-53C3833,-53 3732,-53 3732,-53 3726,-53 3720,-47 3720,-41 3720,-41 3720,-12 3720,-12 3720,-6 3726,0 3732,0 3732,0 3833,0 3833,0 3839,0 3845,-6 3845,-12 3845,-12 3845,-41 3845,-41 3845,-47 3839,-53 3833,-53\"/>\n<text text-anchor=\"middle\" x=\"3782.5\" y=\"-37.8\" font-family=\"Helvetica,sans-Serif\" font-size=\"14.00\">entropy = 1.0</text>\n<text text-anchor=\"middle\" x=\"3782.5\" y=\"-22.8\" font-family=\"Helvetica,sans-Serif\" font-size=\"14.00\">samples = 387</text>\n<text text-anchor=\"middle\" x=\"3782.5\" y=\"-7.8\" font-family=\"Helvetica,sans-Serif\" font-size=\"14.00\">value = [195, 192]</text>\n</g>\n<!-- 54&#45;&gt;56 -->\n<g id=\"edge56\" class=\"edge\">\n<title>54&#45;&gt;56</title>\n<path fill=\"none\" stroke=\"black\" d=\"M3689.51,-88.95C3704.33,-79.16 3720.49,-68.48 3735.13,-58.8\"/>\n<polygon fill=\"black\" stroke=\"black\" points=\"3737.14,-61.67 3743.55,-53.24 3733.28,-55.83 3737.14,-61.67\"/>\n</g>\n</g>\n</svg>\n",
            "text/plain": [
              "<graphviz.sources.Source at 0x7afe0218d3d0>"
            ]
          },
          "metadata": {},
          "execution_count": 643
        }
      ]
    },
    {
      "cell_type": "markdown",
      "source": [
        "## 8. **Naive Bayes Classifier**"
      ],
      "metadata": {
        "id": "EpJGIDq_Byva"
      }
    },
    {
      "cell_type": "markdown",
      "source": [
        "#### -Import Packages"
      ],
      "metadata": {
        "id": "sk2XR8TzPhOb"
      }
    },
    {
      "cell_type": "markdown",
      "source": [
        "- `GaussianNB`: Implements Naive Bayes classification."
      ],
      "metadata": {
        "id": "zodufL7BCO2d"
      }
    },
    {
      "cell_type": "code",
      "source": [
        "from sklearn.naive_bayes import GaussianNB"
      ],
      "metadata": {
        "id": "9XAg4Opc6Gto"
      },
      "execution_count": 644,
      "outputs": []
    },
    {
      "cell_type": "markdown",
      "source": [
        "#### - Train the model"
      ],
      "metadata": {
        "id": "iP4b_oUtPjuT"
      }
    },
    {
      "cell_type": "markdown",
      "source": [
        "- Trains a Gaussian Naive Bayes classifier.\n",
        "\n",
        "- Measures execution time and memory usage."
      ],
      "metadata": {
        "id": "KwPftswyCGxp"
      }
    },
    {
      "cell_type": "code",
      "source": [
        "time_start = time.time()\n",
        "tracemalloc.start()\n",
        "nb_classifier = GaussianNB()\n",
        "nb_classifier.fit(X_train, y_train)\n",
        "nb_memory, _ = tracemalloc.get_traced_memory()\n",
        "nb_time = time.time() - time_start\n",
        "tracemalloc.stop()"
      ],
      "metadata": {
        "id": "FfJfreIbVr-4"
      },
      "execution_count": 645,
      "outputs": []
    },
    {
      "cell_type": "code",
      "source": [
        "nb_classifier"
      ],
      "metadata": {
        "colab": {
          "base_uri": "https://localhost:8080/",
          "height": 80
        },
        "id": "k7qhW_cxQcqv",
        "outputId": "4359d03f-75ac-451c-f4fe-29d4cfcc18f5"
      },
      "execution_count": 646,
      "outputs": [
        {
          "output_type": "execute_result",
          "data": {
            "text/plain": [
              "GaussianNB()"
            ],
            "text/html": [
              "<style>#sk-container-id-11 {\n",
              "  /* Definition of color scheme common for light and dark mode */\n",
              "  --sklearn-color-text: #000;\n",
              "  --sklearn-color-text-muted: #666;\n",
              "  --sklearn-color-line: gray;\n",
              "  /* Definition of color scheme for unfitted estimators */\n",
              "  --sklearn-color-unfitted-level-0: #fff5e6;\n",
              "  --sklearn-color-unfitted-level-1: #f6e4d2;\n",
              "  --sklearn-color-unfitted-level-2: #ffe0b3;\n",
              "  --sklearn-color-unfitted-level-3: chocolate;\n",
              "  /* Definition of color scheme for fitted estimators */\n",
              "  --sklearn-color-fitted-level-0: #f0f8ff;\n",
              "  --sklearn-color-fitted-level-1: #d4ebff;\n",
              "  --sklearn-color-fitted-level-2: #b3dbfd;\n",
              "  --sklearn-color-fitted-level-3: cornflowerblue;\n",
              "\n",
              "  /* Specific color for light theme */\n",
              "  --sklearn-color-text-on-default-background: var(--sg-text-color, var(--theme-code-foreground, var(--jp-content-font-color1, black)));\n",
              "  --sklearn-color-background: var(--sg-background-color, var(--theme-background, var(--jp-layout-color0, white)));\n",
              "  --sklearn-color-border-box: var(--sg-text-color, var(--theme-code-foreground, var(--jp-content-font-color1, black)));\n",
              "  --sklearn-color-icon: #696969;\n",
              "\n",
              "  @media (prefers-color-scheme: dark) {\n",
              "    /* Redefinition of color scheme for dark theme */\n",
              "    --sklearn-color-text-on-default-background: var(--sg-text-color, var(--theme-code-foreground, var(--jp-content-font-color1, white)));\n",
              "    --sklearn-color-background: var(--sg-background-color, var(--theme-background, var(--jp-layout-color0, #111)));\n",
              "    --sklearn-color-border-box: var(--sg-text-color, var(--theme-code-foreground, var(--jp-content-font-color1, white)));\n",
              "    --sklearn-color-icon: #878787;\n",
              "  }\n",
              "}\n",
              "\n",
              "#sk-container-id-11 {\n",
              "  color: var(--sklearn-color-text);\n",
              "}\n",
              "\n",
              "#sk-container-id-11 pre {\n",
              "  padding: 0;\n",
              "}\n",
              "\n",
              "#sk-container-id-11 input.sk-hidden--visually {\n",
              "  border: 0;\n",
              "  clip: rect(1px 1px 1px 1px);\n",
              "  clip: rect(1px, 1px, 1px, 1px);\n",
              "  height: 1px;\n",
              "  margin: -1px;\n",
              "  overflow: hidden;\n",
              "  padding: 0;\n",
              "  position: absolute;\n",
              "  width: 1px;\n",
              "}\n",
              "\n",
              "#sk-container-id-11 div.sk-dashed-wrapped {\n",
              "  border: 1px dashed var(--sklearn-color-line);\n",
              "  margin: 0 0.4em 0.5em 0.4em;\n",
              "  box-sizing: border-box;\n",
              "  padding-bottom: 0.4em;\n",
              "  background-color: var(--sklearn-color-background);\n",
              "}\n",
              "\n",
              "#sk-container-id-11 div.sk-container {\n",
              "  /* jupyter's `normalize.less` sets `[hidden] { display: none; }`\n",
              "     but bootstrap.min.css set `[hidden] { display: none !important; }`\n",
              "     so we also need the `!important` here to be able to override the\n",
              "     default hidden behavior on the sphinx rendered scikit-learn.org.\n",
              "     See: https://github.com/scikit-learn/scikit-learn/issues/21755 */\n",
              "  display: inline-block !important;\n",
              "  position: relative;\n",
              "}\n",
              "\n",
              "#sk-container-id-11 div.sk-text-repr-fallback {\n",
              "  display: none;\n",
              "}\n",
              "\n",
              "div.sk-parallel-item,\n",
              "div.sk-serial,\n",
              "div.sk-item {\n",
              "  /* draw centered vertical line to link estimators */\n",
              "  background-image: linear-gradient(var(--sklearn-color-text-on-default-background), var(--sklearn-color-text-on-default-background));\n",
              "  background-size: 2px 100%;\n",
              "  background-repeat: no-repeat;\n",
              "  background-position: center center;\n",
              "}\n",
              "\n",
              "/* Parallel-specific style estimator block */\n",
              "\n",
              "#sk-container-id-11 div.sk-parallel-item::after {\n",
              "  content: \"\";\n",
              "  width: 100%;\n",
              "  border-bottom: 2px solid var(--sklearn-color-text-on-default-background);\n",
              "  flex-grow: 1;\n",
              "}\n",
              "\n",
              "#sk-container-id-11 div.sk-parallel {\n",
              "  display: flex;\n",
              "  align-items: stretch;\n",
              "  justify-content: center;\n",
              "  background-color: var(--sklearn-color-background);\n",
              "  position: relative;\n",
              "}\n",
              "\n",
              "#sk-container-id-11 div.sk-parallel-item {\n",
              "  display: flex;\n",
              "  flex-direction: column;\n",
              "}\n",
              "\n",
              "#sk-container-id-11 div.sk-parallel-item:first-child::after {\n",
              "  align-self: flex-end;\n",
              "  width: 50%;\n",
              "}\n",
              "\n",
              "#sk-container-id-11 div.sk-parallel-item:last-child::after {\n",
              "  align-self: flex-start;\n",
              "  width: 50%;\n",
              "}\n",
              "\n",
              "#sk-container-id-11 div.sk-parallel-item:only-child::after {\n",
              "  width: 0;\n",
              "}\n",
              "\n",
              "/* Serial-specific style estimator block */\n",
              "\n",
              "#sk-container-id-11 div.sk-serial {\n",
              "  display: flex;\n",
              "  flex-direction: column;\n",
              "  align-items: center;\n",
              "  background-color: var(--sklearn-color-background);\n",
              "  padding-right: 1em;\n",
              "  padding-left: 1em;\n",
              "}\n",
              "\n",
              "\n",
              "/* Toggleable style: style used for estimator/Pipeline/ColumnTransformer box that is\n",
              "clickable and can be expanded/collapsed.\n",
              "- Pipeline and ColumnTransformer use this feature and define the default style\n",
              "- Estimators will overwrite some part of the style using the `sk-estimator` class\n",
              "*/\n",
              "\n",
              "/* Pipeline and ColumnTransformer style (default) */\n",
              "\n",
              "#sk-container-id-11 div.sk-toggleable {\n",
              "  /* Default theme specific background. It is overwritten whether we have a\n",
              "  specific estimator or a Pipeline/ColumnTransformer */\n",
              "  background-color: var(--sklearn-color-background);\n",
              "}\n",
              "\n",
              "/* Toggleable label */\n",
              "#sk-container-id-11 label.sk-toggleable__label {\n",
              "  cursor: pointer;\n",
              "  display: flex;\n",
              "  width: 100%;\n",
              "  margin-bottom: 0;\n",
              "  padding: 0.5em;\n",
              "  box-sizing: border-box;\n",
              "  text-align: center;\n",
              "  align-items: start;\n",
              "  justify-content: space-between;\n",
              "  gap: 0.5em;\n",
              "}\n",
              "\n",
              "#sk-container-id-11 label.sk-toggleable__label .caption {\n",
              "  font-size: 0.6rem;\n",
              "  font-weight: lighter;\n",
              "  color: var(--sklearn-color-text-muted);\n",
              "}\n",
              "\n",
              "#sk-container-id-11 label.sk-toggleable__label-arrow:before {\n",
              "  /* Arrow on the left of the label */\n",
              "  content: \"▸\";\n",
              "  float: left;\n",
              "  margin-right: 0.25em;\n",
              "  color: var(--sklearn-color-icon);\n",
              "}\n",
              "\n",
              "#sk-container-id-11 label.sk-toggleable__label-arrow:hover:before {\n",
              "  color: var(--sklearn-color-text);\n",
              "}\n",
              "\n",
              "/* Toggleable content - dropdown */\n",
              "\n",
              "#sk-container-id-11 div.sk-toggleable__content {\n",
              "  max-height: 0;\n",
              "  max-width: 0;\n",
              "  overflow: hidden;\n",
              "  text-align: left;\n",
              "  /* unfitted */\n",
              "  background-color: var(--sklearn-color-unfitted-level-0);\n",
              "}\n",
              "\n",
              "#sk-container-id-11 div.sk-toggleable__content.fitted {\n",
              "  /* fitted */\n",
              "  background-color: var(--sklearn-color-fitted-level-0);\n",
              "}\n",
              "\n",
              "#sk-container-id-11 div.sk-toggleable__content pre {\n",
              "  margin: 0.2em;\n",
              "  border-radius: 0.25em;\n",
              "  color: var(--sklearn-color-text);\n",
              "  /* unfitted */\n",
              "  background-color: var(--sklearn-color-unfitted-level-0);\n",
              "}\n",
              "\n",
              "#sk-container-id-11 div.sk-toggleable__content.fitted pre {\n",
              "  /* unfitted */\n",
              "  background-color: var(--sklearn-color-fitted-level-0);\n",
              "}\n",
              "\n",
              "#sk-container-id-11 input.sk-toggleable__control:checked~div.sk-toggleable__content {\n",
              "  /* Expand drop-down */\n",
              "  max-height: 200px;\n",
              "  max-width: 100%;\n",
              "  overflow: auto;\n",
              "}\n",
              "\n",
              "#sk-container-id-11 input.sk-toggleable__control:checked~label.sk-toggleable__label-arrow:before {\n",
              "  content: \"▾\";\n",
              "}\n",
              "\n",
              "/* Pipeline/ColumnTransformer-specific style */\n",
              "\n",
              "#sk-container-id-11 div.sk-label input.sk-toggleable__control:checked~label.sk-toggleable__label {\n",
              "  color: var(--sklearn-color-text);\n",
              "  background-color: var(--sklearn-color-unfitted-level-2);\n",
              "}\n",
              "\n",
              "#sk-container-id-11 div.sk-label.fitted input.sk-toggleable__control:checked~label.sk-toggleable__label {\n",
              "  background-color: var(--sklearn-color-fitted-level-2);\n",
              "}\n",
              "\n",
              "/* Estimator-specific style */\n",
              "\n",
              "/* Colorize estimator box */\n",
              "#sk-container-id-11 div.sk-estimator input.sk-toggleable__control:checked~label.sk-toggleable__label {\n",
              "  /* unfitted */\n",
              "  background-color: var(--sklearn-color-unfitted-level-2);\n",
              "}\n",
              "\n",
              "#sk-container-id-11 div.sk-estimator.fitted input.sk-toggleable__control:checked~label.sk-toggleable__label {\n",
              "  /* fitted */\n",
              "  background-color: var(--sklearn-color-fitted-level-2);\n",
              "}\n",
              "\n",
              "#sk-container-id-11 div.sk-label label.sk-toggleable__label,\n",
              "#sk-container-id-11 div.sk-label label {\n",
              "  /* The background is the default theme color */\n",
              "  color: var(--sklearn-color-text-on-default-background);\n",
              "}\n",
              "\n",
              "/* On hover, darken the color of the background */\n",
              "#sk-container-id-11 div.sk-label:hover label.sk-toggleable__label {\n",
              "  color: var(--sklearn-color-text);\n",
              "  background-color: var(--sklearn-color-unfitted-level-2);\n",
              "}\n",
              "\n",
              "/* Label box, darken color on hover, fitted */\n",
              "#sk-container-id-11 div.sk-label.fitted:hover label.sk-toggleable__label.fitted {\n",
              "  color: var(--sklearn-color-text);\n",
              "  background-color: var(--sklearn-color-fitted-level-2);\n",
              "}\n",
              "\n",
              "/* Estimator label */\n",
              "\n",
              "#sk-container-id-11 div.sk-label label {\n",
              "  font-family: monospace;\n",
              "  font-weight: bold;\n",
              "  display: inline-block;\n",
              "  line-height: 1.2em;\n",
              "}\n",
              "\n",
              "#sk-container-id-11 div.sk-label-container {\n",
              "  text-align: center;\n",
              "}\n",
              "\n",
              "/* Estimator-specific */\n",
              "#sk-container-id-11 div.sk-estimator {\n",
              "  font-family: monospace;\n",
              "  border: 1px dotted var(--sklearn-color-border-box);\n",
              "  border-radius: 0.25em;\n",
              "  box-sizing: border-box;\n",
              "  margin-bottom: 0.5em;\n",
              "  /* unfitted */\n",
              "  background-color: var(--sklearn-color-unfitted-level-0);\n",
              "}\n",
              "\n",
              "#sk-container-id-11 div.sk-estimator.fitted {\n",
              "  /* fitted */\n",
              "  background-color: var(--sklearn-color-fitted-level-0);\n",
              "}\n",
              "\n",
              "/* on hover */\n",
              "#sk-container-id-11 div.sk-estimator:hover {\n",
              "  /* unfitted */\n",
              "  background-color: var(--sklearn-color-unfitted-level-2);\n",
              "}\n",
              "\n",
              "#sk-container-id-11 div.sk-estimator.fitted:hover {\n",
              "  /* fitted */\n",
              "  background-color: var(--sklearn-color-fitted-level-2);\n",
              "}\n",
              "\n",
              "/* Specification for estimator info (e.g. \"i\" and \"?\") */\n",
              "\n",
              "/* Common style for \"i\" and \"?\" */\n",
              "\n",
              ".sk-estimator-doc-link,\n",
              "a:link.sk-estimator-doc-link,\n",
              "a:visited.sk-estimator-doc-link {\n",
              "  float: right;\n",
              "  font-size: smaller;\n",
              "  line-height: 1em;\n",
              "  font-family: monospace;\n",
              "  background-color: var(--sklearn-color-background);\n",
              "  border-radius: 1em;\n",
              "  height: 1em;\n",
              "  width: 1em;\n",
              "  text-decoration: none !important;\n",
              "  margin-left: 0.5em;\n",
              "  text-align: center;\n",
              "  /* unfitted */\n",
              "  border: var(--sklearn-color-unfitted-level-1) 1pt solid;\n",
              "  color: var(--sklearn-color-unfitted-level-1);\n",
              "}\n",
              "\n",
              ".sk-estimator-doc-link.fitted,\n",
              "a:link.sk-estimator-doc-link.fitted,\n",
              "a:visited.sk-estimator-doc-link.fitted {\n",
              "  /* fitted */\n",
              "  border: var(--sklearn-color-fitted-level-1) 1pt solid;\n",
              "  color: var(--sklearn-color-fitted-level-1);\n",
              "}\n",
              "\n",
              "/* On hover */\n",
              "div.sk-estimator:hover .sk-estimator-doc-link:hover,\n",
              ".sk-estimator-doc-link:hover,\n",
              "div.sk-label-container:hover .sk-estimator-doc-link:hover,\n",
              ".sk-estimator-doc-link:hover {\n",
              "  /* unfitted */\n",
              "  background-color: var(--sklearn-color-unfitted-level-3);\n",
              "  color: var(--sklearn-color-background);\n",
              "  text-decoration: none;\n",
              "}\n",
              "\n",
              "div.sk-estimator.fitted:hover .sk-estimator-doc-link.fitted:hover,\n",
              ".sk-estimator-doc-link.fitted:hover,\n",
              "div.sk-label-container:hover .sk-estimator-doc-link.fitted:hover,\n",
              ".sk-estimator-doc-link.fitted:hover {\n",
              "  /* fitted */\n",
              "  background-color: var(--sklearn-color-fitted-level-3);\n",
              "  color: var(--sklearn-color-background);\n",
              "  text-decoration: none;\n",
              "}\n",
              "\n",
              "/* Span, style for the box shown on hovering the info icon */\n",
              ".sk-estimator-doc-link span {\n",
              "  display: none;\n",
              "  z-index: 9999;\n",
              "  position: relative;\n",
              "  font-weight: normal;\n",
              "  right: .2ex;\n",
              "  padding: .5ex;\n",
              "  margin: .5ex;\n",
              "  width: min-content;\n",
              "  min-width: 20ex;\n",
              "  max-width: 50ex;\n",
              "  color: var(--sklearn-color-text);\n",
              "  box-shadow: 2pt 2pt 4pt #999;\n",
              "  /* unfitted */\n",
              "  background: var(--sklearn-color-unfitted-level-0);\n",
              "  border: .5pt solid var(--sklearn-color-unfitted-level-3);\n",
              "}\n",
              "\n",
              ".sk-estimator-doc-link.fitted span {\n",
              "  /* fitted */\n",
              "  background: var(--sklearn-color-fitted-level-0);\n",
              "  border: var(--sklearn-color-fitted-level-3);\n",
              "}\n",
              "\n",
              ".sk-estimator-doc-link:hover span {\n",
              "  display: block;\n",
              "}\n",
              "\n",
              "/* \"?\"-specific style due to the `<a>` HTML tag */\n",
              "\n",
              "#sk-container-id-11 a.estimator_doc_link {\n",
              "  float: right;\n",
              "  font-size: 1rem;\n",
              "  line-height: 1em;\n",
              "  font-family: monospace;\n",
              "  background-color: var(--sklearn-color-background);\n",
              "  border-radius: 1rem;\n",
              "  height: 1rem;\n",
              "  width: 1rem;\n",
              "  text-decoration: none;\n",
              "  /* unfitted */\n",
              "  color: var(--sklearn-color-unfitted-level-1);\n",
              "  border: var(--sklearn-color-unfitted-level-1) 1pt solid;\n",
              "}\n",
              "\n",
              "#sk-container-id-11 a.estimator_doc_link.fitted {\n",
              "  /* fitted */\n",
              "  border: var(--sklearn-color-fitted-level-1) 1pt solid;\n",
              "  color: var(--sklearn-color-fitted-level-1);\n",
              "}\n",
              "\n",
              "/* On hover */\n",
              "#sk-container-id-11 a.estimator_doc_link:hover {\n",
              "  /* unfitted */\n",
              "  background-color: var(--sklearn-color-unfitted-level-3);\n",
              "  color: var(--sklearn-color-background);\n",
              "  text-decoration: none;\n",
              "}\n",
              "\n",
              "#sk-container-id-11 a.estimator_doc_link.fitted:hover {\n",
              "  /* fitted */\n",
              "  background-color: var(--sklearn-color-fitted-level-3);\n",
              "}\n",
              "</style><div id=\"sk-container-id-11\" class=\"sk-top-container\"><div class=\"sk-text-repr-fallback\"><pre>GaussianNB()</pre><b>In a Jupyter environment, please rerun this cell to show the HTML representation or trust the notebook. <br />On GitHub, the HTML representation is unable to render, please try loading this page with nbviewer.org.</b></div><div class=\"sk-container\" hidden><div class=\"sk-item\"><div class=\"sk-estimator fitted sk-toggleable\"><input class=\"sk-toggleable__control sk-hidden--visually\" id=\"sk-estimator-id-11\" type=\"checkbox\" checked><label for=\"sk-estimator-id-11\" class=\"sk-toggleable__label fitted sk-toggleable__label-arrow\"><div><div>GaussianNB</div></div><div><a class=\"sk-estimator-doc-link fitted\" rel=\"noreferrer\" target=\"_blank\" href=\"https://scikit-learn.org/1.6/modules/generated/sklearn.naive_bayes.GaussianNB.html\">?<span>Documentation for GaussianNB</span></a><span class=\"sk-estimator-doc-link fitted\">i<span>Fitted</span></span></div></label><div class=\"sk-toggleable__content fitted\"><pre>GaussianNB()</pre></div> </div></div></div></div>"
            ]
          },
          "metadata": {},
          "execution_count": 646
        }
      ]
    },
    {
      "cell_type": "markdown",
      "source": [
        "#### -Predict"
      ],
      "metadata": {
        "id": "w5Ak8IxnPm6v"
      }
    },
    {
      "cell_type": "markdown",
      "source": [
        "- `nb_classifier.predict(X_test)`\n",
        "  - Uses the trained Naïve Bayes classifier (nb_classifier) to predict class labels for X_test.\n",
        "  - Returns an array of predicted class values (0 or 1 for binary classification)."
      ],
      "metadata": {
        "id": "1Ne1ak1mOW2o"
      }
    },
    {
      "cell_type": "code",
      "source": [
        "y_pred_nb = nb_classifier.predict(X_test)"
      ],
      "metadata": {
        "id": "RB8svuZoQnQ5"
      },
      "execution_count": 647,
      "outputs": []
    },
    {
      "cell_type": "markdown",
      "source": [
        "#### -Evaluate Accuracy on the Test Dataset"
      ],
      "metadata": {
        "id": "Mn1WJoH7PqsB"
      }
    },
    {
      "cell_type": "code",
      "source": [
        "from sklearn.metrics import accuracy_score"
      ],
      "metadata": {
        "id": "RWE9Nlfu5vRm"
      },
      "execution_count": 648,
      "outputs": []
    },
    {
      "cell_type": "code",
      "source": [
        "nb_accuracy = accuracy_score(y_test, y_pred_nb)"
      ],
      "metadata": {
        "id": "tL7BqOveCi1t"
      },
      "execution_count": 649,
      "outputs": []
    },
    {
      "cell_type": "code",
      "source": [
        "print(f\"Naive Bayes Accuracy: {nb_accuracy:.4f}\")\n",
        "print(f\"Naive Bayes Time Taken: {nb_time:.4f} seconds\")\n",
        "print(f\"Naive Bayes Memory Used: {nb_memory / 1e6:.2f} MB\")"
      ],
      "metadata": {
        "colab": {
          "base_uri": "https://localhost:8080/"
        },
        "id": "8s9AHc2uVj8H",
        "outputId": "3fdb4733-910f-41be-bf58-519c24f72aa0"
      },
      "execution_count": 650,
      "outputs": [
        {
          "output_type": "stream",
          "name": "stdout",
          "text": [
            "Naive Bayes Accuracy: 0.8807\n",
            "Naive Bayes Time Taken: 0.0173 seconds\n",
            "Naive Bayes Memory Used: 0.01 MB\n"
          ]
        }
      ]
    },
    {
      "cell_type": "markdown",
      "source": [
        "## 9.  **Comparision of Decision trees using Ginni Index, Entropy and Naive Baye's Classifier**"
      ],
      "metadata": {
        "id": "1wvRV0M7Drhl"
      }
    },
    {
      "cell_type": "markdown",
      "source": [
        "### 9.1 Confusion Matrix"
      ],
      "metadata": {
        "id": "d0FvOoOYFzJ6"
      }
    },
    {
      "cell_type": "markdown",
      "source": [
        "- `classification_report`, `confusion_matrix`: Evaluates model performance."
      ],
      "metadata": {
        "id": "UmqX5mtlFbWx"
      }
    },
    {
      "cell_type": "code",
      "source": [
        "from sklearn.metrics import  confusion_matrix\n",
        "from sklearn.metrics import classification_report"
      ],
      "metadata": {
        "id": "6gIIf1C8DBPq"
      },
      "execution_count": 651,
      "outputs": []
    },
    {
      "cell_type": "markdown",
      "source": [
        "#### Confusion Matrix for Ginni's Coefficient"
      ],
      "metadata": {
        "id": "sF4MF6bDQgJV"
      }
    },
    {
      "cell_type": "code",
      "source": [
        "print(classification_report(y_test, y_pred_gini))"
      ],
      "metadata": {
        "colab": {
          "base_uri": "https://localhost:8080/"
        },
        "id": "k_hBt_FNEOt7",
        "outputId": "a37d33eb-af46-48be-a612-ad5736c20dfa"
      },
      "execution_count": 652,
      "outputs": [
        {
          "output_type": "stream",
          "name": "stdout",
          "text": [
            "              precision    recall  f1-score   support\n",
            "\n",
            "           0       0.94      0.96      0.95      7303\n",
            "           1       0.65      0.54      0.59       935\n",
            "\n",
            "    accuracy                           0.91      8238\n",
            "   macro avg       0.80      0.75      0.77      8238\n",
            "weighted avg       0.91      0.91      0.91      8238\n",
            "\n"
          ]
        }
      ]
    },
    {
      "cell_type": "code",
      "source": [
        "plt.figure(figsize=(6,4))\n",
        "sns.heatmap(confusion_matrix(y_test, y_pred_gini), annot=True, fmt='d', cmap='Blues', xticklabels=['No', 'Yes'], yticklabels=['No', 'Yes'])\n",
        "plt.xlabel(\"Predicted\")\n",
        "plt.ylabel(\"Actual\")\n",
        "plt.title(\"Confusion Matrix for Decisoin Tree Classification using Gini and GridSearchCV\")\n",
        "save_fig(\"confusion_matrix\")\n",
        "plt.show()"
      ],
      "metadata": {
        "colab": {
          "base_uri": "https://localhost:8080/",
          "height": 395
        },
        "id": "NQN2MzW-ETZY",
        "outputId": "50412d3c-3362-4c0c-ee98-02801983116b"
      },
      "execution_count": 653,
      "outputs": [
        {
          "output_type": "display_data",
          "data": {
            "text/plain": [
              "<Figure size 600x400 with 2 Axes>"
            ],
            "image/png": "[encoded data removed]"
          },
          "metadata": {}
        }
      ]
    },
    {
      "cell_type": "markdown",
      "source": [
        "#### Confusion Matrix for Entropy"
      ],
      "metadata": {
        "id": "H2E23iqhFw0A"
      }
    },
    {
      "cell_type": "code",
      "source": [
        "print(classification_report(y_test, y_pred_entropy))"
      ],
      "metadata": {
        "colab": {
          "base_uri": "https://localhost:8080/"
        },
        "id": "_HvXoyC9EQlm",
        "outputId": "27e95b87-6127-4d4f-f8b2-ccfd47ad7729"
      },
      "execution_count": 654,
      "outputs": [
        {
          "output_type": "stream",
          "name": "stdout",
          "text": [
            "              precision    recall  f1-score   support\n",
            "\n",
            "           0       0.94      0.97      0.95      7303\n",
            "           1       0.66      0.51      0.57       935\n",
            "\n",
            "    accuracy                           0.91      8238\n",
            "   macro avg       0.80      0.74      0.76      8238\n",
            "weighted avg       0.91      0.91      0.91      8238\n",
            "\n"
          ]
        }
      ]
    },
    {
      "cell_type": "code",
      "source": [
        "plt.figure(figsize=(6,4))\n",
        "sns.heatmap(confusion_matrix(y_test, y_pred_entropy), annot=True, fmt='d', cmap='Reds', xticklabels=['No', 'Yes'], yticklabels=['No', 'Yes'])\n",
        "plt.xlabel(\"Predicted\")\n",
        "plt.ylabel(\"Actual\")\n",
        "plt.title(\"Confusion Matrix for Decision Tree Classification using Entropy\")\n",
        "save_fig(\"confusion_matrix\")\n",
        "plt.show()"
      ],
      "metadata": {
        "colab": {
          "base_uri": "https://localhost:8080/",
          "height": 395
        },
        "id": "AKBaKuyZEihC",
        "outputId": "2821517c-74f6-415b-f1f5-049a677a022e"
      },
      "execution_count": 655,
      "outputs": [
        {
          "output_type": "display_data",
          "data": {
            "text/plain": [
              "<Figure size 600x400 with 2 Axes>"
            ],
            "image/png": "[encoded data removed]"
          },
          "metadata": {}
        }
      ]
    },
    {
      "cell_type": "markdown",
      "source": [
        "#### Confusion Matrix for Naive Bayes Classifier"
      ],
      "metadata": {
        "id": "YlZvPPQ1F72e"
      }
    },
    {
      "cell_type": "code",
      "source": [
        "print(classification_report(y_test, y_pred_nb))"
      ],
      "metadata": {
        "colab": {
          "base_uri": "https://localhost:8080/"
        },
        "id": "_dTUTZiWDf1m",
        "outputId": "d1add98b-c37a-453b-8d23-e17d0d89c62c"
      },
      "execution_count": 656,
      "outputs": [
        {
          "output_type": "stream",
          "name": "stdout",
          "text": [
            "              precision    recall  f1-score   support\n",
            "\n",
            "           0       0.94      0.92      0.93      7303\n",
            "           1       0.48      0.56      0.51       935\n",
            "\n",
            "    accuracy                           0.88      8238\n",
            "   macro avg       0.71      0.74      0.72      8238\n",
            "weighted avg       0.89      0.88      0.88      8238\n",
            "\n"
          ]
        }
      ]
    },
    {
      "cell_type": "code",
      "source": [
        "plt.figure(figsize=(6,4))\n",
        "sns.heatmap(confusion_matrix(y_test, y_pred_nb), annot=True, fmt='d', cmap='Greens', xticklabels=['No', 'Yes'], yticklabels=['No', 'Yes'])\n",
        "plt.xlabel(\"Predicted\")\n",
        "plt.ylabel(\"Actual\")\n",
        "plt.title(\"Confusion Matrix for Naive Bayes\")\n",
        "save_fig(\"confusion_matrix\")\n",
        "plt.show()"
      ],
      "metadata": {
        "colab": {
          "base_uri": "https://localhost:8080/",
          "height": 395
        },
        "id": "AYlJ1DwFQqTe",
        "outputId": "157e30b2-21c8-4050-f02f-810a89a28445"
      },
      "execution_count": 657,
      "outputs": [
        {
          "output_type": "display_data",
          "data": {
            "text/plain": [
              "<Figure size 600x400 with 2 Axes>"
            ],
            "image/png": "[encoded data removed]"
          },
          "metadata": {}
        }
      ]
    },
    {
      "cell_type": "markdown",
      "source": [
        "### 9.2 Compare model accuracies and performance"
      ],
      "metadata": {
        "id": "tJJM_ifvGI7x"
      }
    },
    {
      "cell_type": "code",
      "source": [
        "print(\"\\nModel Comparison:\")\n",
        "print(f\"Decision Tree (Gini) Accuracy: {dt_gini_accuracy:.4f}, Time: {gini_time:.4f}s, Memory: {gini_memory / 1e6:.2f}MB\")\n",
        "print(f\"Decision Tree (Entropy) Accuracy: {dt_entropy_accuracy:.4f}, Time: {entropy_time:.4f}s, Memory: {entropy_memory / 1e6:.2f}MB\")\n",
        "print(f\"Naive Bayes Accuracy: {nb_accuracy:.4f}, Time: {nb_time:.4f}s, Memory: {nb_memory / 1e6:.2f}MB\")"
      ],
      "metadata": {
        "colab": {
          "base_uri": "https://localhost:8080/"
        },
        "id": "E4nAIP30RjfJ",
        "outputId": "aa4fd60e-9f09-448d-cc01-ffdd59130068"
      },
      "execution_count": 658,
      "outputs": [
        {
          "output_type": "stream",
          "name": "stdout",
          "text": [
            "\n",
            "Model Comparison:\n",
            "Decision Tree (Gini) Accuracy: 0.9147, Time: 0.0694s, Memory: 0.03MB\n",
            "Decision Tree (Entropy) Accuracy: 0.9143, Time: 0.0713s, Memory: 0.00MB\n",
            "Naive Bayes Accuracy: 0.8807, Time: 0.0173s, Memory: 0.01MB\n"
          ]
        }
      ]
    },
    {
      "cell_type": "markdown",
      "source": [
        "### 9.3 Probabilities for ROC and Precision-Recall curves"
      ],
      "metadata": {
        "id": "EPp7pPe_GdIy"
      }
    },
    {
      "cell_type": "code",
      "source": [
        "y_prob_nb = nb_classifier.predict_proba(X_test)[:, 1]\n",
        "y_prob_gini = tree_clf_gini.predict_proba(X_test)[:, 1]\n",
        "y_prob_entropy = tree_clf_entropy.predict_proba(X_test)[:, 1]"
      ],
      "metadata": {
        "id": "OXGWgPf4YC32"
      },
      "execution_count": 659,
      "outputs": []
    },
    {
      "cell_type": "markdown",
      "source": [
        "### 9.4 ROC Curve\n",
        "\n",
        "- `roc_curve`: Generates performance evaluation curves."
      ],
      "metadata": {
        "id": "44AwTTDSGk6b"
      }
    },
    {
      "cell_type": "code",
      "source": [
        "from sklearn.metrics import roc_curve"
      ],
      "metadata": {
        "id": "FDTHlV3j5x8D"
      },
      "execution_count": 660,
      "outputs": []
    },
    {
      "cell_type": "code",
      "source": [
        "plt.figure(figsize=(8,6))\n",
        "fpr_gini, tpr_gini, _ = roc_curve(y_test, y_pred_gini)\n",
        "fpr_entropy, tpr_entropy, _ = roc_curve(y_test, y_pred_entropy)\n",
        "fpr_nb, tpr_nb, _ = roc_curve(y_test, y_pred_nb)\n",
        "plt.plot(fpr_gini, tpr_gini, label=\"Decision Tree (Gini)\")\n",
        "plt.plot(fpr_entropy, tpr_entropy, label=\"Decision Tree (Entropy)\")\n",
        "plt.plot(fpr_nb, tpr_nb, label=\"Naive Bayes\")\n",
        "plt.xlabel(\"False Positive Rate\")\n",
        "plt.ylabel(\"True Positive Rate\")\n",
        "plt.title(\"ROC Curve\")\n",
        "plt.legend()\n",
        "save_fig(\"roc_curve\")\n",
        "plt.show()"
      ],
      "metadata": {
        "colab": {
          "base_uri": "https://localhost:8080/",
          "height": 594
        },
        "id": "9RHrtcfCX3T7",
        "outputId": "d7a36316-5b3e-467b-a5c5-9780fe07f187"
      },
      "execution_count": 661,
      "outputs": [
        {
          "output_type": "display_data",
          "data": {
            "text/plain": [
              "<Figure size 800x600 with 1 Axes>"
            ],
            "image/png": "[encoded data removed]"
          },
          "metadata": {}
        }
      ]
    },
    {
      "cell_type": "markdown",
      "source": [
        "- Better Performance : Closer to the top-left corner; steep initial rise indicates strong early classification.\n",
        "- Naïve Bayes and Decision Tree using Gini is showing same True Positive Rates after a certain point"
      ],
      "metadata": {
        "id": "-rlUEblsTTmG"
      }
    },
    {
      "cell_type": "markdown",
      "source": [
        "### 9.5 Precision-Recall Curve\n",
        "\n",
        "- `precision_recall_curve`: Generates performance evaluation curves."
      ],
      "metadata": {
        "id": "Qs0aT5LwG1uw"
      }
    },
    {
      "cell_type": "code",
      "source": [
        "from sklearn.metrics import precision_recall_curve"
      ],
      "metadata": {
        "id": "Nri74qcp50OO"
      },
      "execution_count": 662,
      "outputs": []
    },
    {
      "cell_type": "code",
      "source": [
        "plt.figure(figsize=(8,6))\n",
        "prec_gini, recall_gini, _ = precision_recall_curve(y_test, y_prob_gini)\n",
        "prec_entropy, recall_entropy, _ = precision_recall_curve(y_test, y_prob_entropy)\n",
        "prec_nb, recall_nb, _ = precision_recall_curve(y_test, y_prob_nb)\n",
        "plt.plot(recall_gini, prec_gini, label=\"Decision Tree (Gini)\")\n",
        "plt.plot(recall_entropy, prec_entropy, label=\"Decision Tree (Entropy)\")\n",
        "plt.plot(recall_nb, prec_nb, label=\"Naive Bayes\")\n",
        "plt.xlabel(\"Recall\")\n",
        "plt.ylabel(\"Precision\")\n",
        "plt.title(\"Precision-Recall Curve\")\n",
        "plt.legend()\n",
        "save_fig(\"precision_recall_curve\")\n",
        "plt.show()"
      ],
      "metadata": {
        "colab": {
          "base_uri": "https://localhost:8080/",
          "height": 594
        },
        "id": "U85Kiw_GXAkQ",
        "outputId": "f20f0b64-35a5-4cb0-b9a9-81b45874e0e1"
      },
      "execution_count": 663,
      "outputs": [
        {
          "output_type": "display_data",
          "data": {
            "text/plain": [
              "<Figure size 800x600 with 1 Axes>"
            ],
            "image/png": "[encoded data removed]"
          },
          "metadata": {}
        }
      ]
    },
    {
      "cell_type": "markdown",
      "source": [
        "### **Interpretation of the Precision-Recall Curve**  \n",
        "\n",
        "- **Decision Tree (Gini)** (Blue Line) – Performs consistently well across recall values. However it has a significant initial dip after which it is quite consistent.\n",
        "\n",
        "- **Decision Tree (Entropy)** (Orange Line) – Similar to the Gini-based tree but slightly lower precision at various points, indicating it may be more prone to misclassifications.  \n",
        "\n",
        "- **Naive Bayes** (Green Line) – Has the **steepest drop** in precision as recall increases, showing that it struggles to maintain precision, especially at higher recall values."
      ],
      "metadata": {
        "id": "_9cfM5oDTAnx"
      }
    },
    {
      "cell_type": "markdown",
      "source": [
        "## 10. **Conclusion**\n",
        "\n",
        "In this analysis, we compared Decision Tree (Gini), Decision Tree (Entropy), and Naive Bayes classifiers on a bank marketing dataset. The key observations are:\n",
        "\n",
        "- Decision Tree (Gini) achieved the highest accuracy, making it the best-performing model. However, its performance may be influenced by hyperparameter tuning, which could lead to overfitting.\n",
        "- Decision Tree (Entropy) performed slightly worse than Gini but demonstrated more stable precision across different recall values.\n",
        "- Naive Bayes was the fastest but had the lowest accuracy. This is likely due to its assumption of feature independence, which does not hold for this dataset.\n",
        "\n",
        "**Key Takeaways**\n",
        "- For highest accuracy: Decision Tree (Gini) is the best choice.\n",
        "- For a balance of interpretability and precision: Decision Tree (Entropy) is more stable.\n",
        "- For efficiency and speed: Naïve Bayes is a good alternative but sacrifices accuracy.\n",
        "\n",
        "Confusion matrices showed that Decision Trees were better at correctly classifying both positive and negative cases. Ultimately, the choice of model depends on the trade-off between accuracy, interpretability, and computational efficiency based on real-world application needs."
      ],
      "metadata": {
        "id": "O0wrjhY5Kt0J"
      }
    }
  ]
}